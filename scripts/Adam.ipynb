{
 "cells": [
  {
   "cell_type": "code",
   "source": [
    "!sudo apt-get update --fix-missing\n",
    "!sudo apt install graphviz -y\n",
    "!pip install pydot optuna"
   ],
   "metadata": {
    "collapsed": false,
    "ExecuteTime": {
     "end_time": "2024-06-28T20:43:44.711106Z",
     "start_time": "2024-06-28T20:43:40.387746Z"
    }
   },
   "outputs": [
    {
     "name": "stdout",
     "output_type": "stream",
     "text": [
      "Hit:1 http://archive.ubuntu.com/ubuntu focal InRelease\r\n",
      "Get:2 http://archive.ubuntu.com/ubuntu focal-updates InRelease [128 kB]        \r\n",
      "Hit:3 https://developer.download.nvidia.com/compute/cuda/repos/ubuntu2004/x86_64  InRelease\r\n",
      "Hit:4 http://archive.ubuntu.com/ubuntu focal-backports InRelease    \r\n",
      "Hit:5 http://security.ubuntu.com/ubuntu focal-security InRelease    \r\n",
      "Ign:6 https://developer.download.nvidia.com/compute/machine-learning/repos/ubuntu1804/x86_64  InRelease\r\n",
      "Hit:7 https://developer.download.nvidia.com/compute/machine-learning/repos/ubuntu1804/x86_64  Release\r\n",
      "Fetched 128 kB in 1s (154 kB/s)\r\n",
      "Reading package lists... Done\r\n",
      "Reading package lists... Done\r\n",
      "Building dependency tree       \r\n",
      "Reading state information... Done\r\n",
      "graphviz is already the newest version (2.42.2-3build2).\r\n",
      "0 upgraded, 0 newly installed, 0 to remove and 145 not upgraded.\r\n",
      "Requirement already satisfied: pydot in /usr/local/lib/python3.8/dist-packages (1.4.2)\r\n",
      "Requirement already satisfied: optuna in /usr/local/lib/python3.8/dist-packages (3.6.1)\r\n",
      "Requirement already satisfied: pyparsing>=2.1.4 in /usr/local/lib/python3.8/dist-packages (from pydot) (3.0.9)\r\n",
      "Requirement already satisfied: sqlalchemy>=1.3.0 in /usr/local/lib/python3.8/dist-packages (from optuna) (2.0.31)\r\n",
      "Requirement already satisfied: PyYAML in /usr/local/lib/python3.8/dist-packages (from optuna) (6.0)\r\n",
      "Requirement already satisfied: tqdm in /usr/local/lib/python3.8/dist-packages (from optuna) (4.64.1)\r\n",
      "Requirement already satisfied: colorlog in /usr/local/lib/python3.8/dist-packages (from optuna) (6.8.2)\r\n",
      "Requirement already satisfied: alembic>=1.5.0 in /usr/local/lib/python3.8/dist-packages (from optuna) (1.13.2)\r\n",
      "Requirement already satisfied: packaging>=20.0 in /usr/local/lib/python3.8/dist-packages (from optuna) (21.3)\r\n",
      "Requirement already satisfied: numpy in /usr/local/lib/python3.8/dist-packages (from optuna) (1.23.4)\r\n",
      "Requirement already satisfied: importlib-metadata in /usr/local/lib/python3.8/dist-packages (from alembic>=1.5.0->optuna) (5.0.0)\r\n",
      "Requirement already satisfied: importlib-resources in /usr/local/lib/python3.8/dist-packages (from alembic>=1.5.0->optuna) (5.12.0)\r\n",
      "Requirement already satisfied: typing-extensions>=4 in /usr/local/lib/python3.8/dist-packages (from alembic>=1.5.0->optuna) (4.12.2)\r\n",
      "Requirement already satisfied: Mako in /usr/local/lib/python3.8/dist-packages (from alembic>=1.5.0->optuna) (1.3.5)\r\n",
      "Requirement already satisfied: greenlet!=0.4.17 in /usr/local/lib/python3.8/dist-packages (from sqlalchemy>=1.3.0->optuna) (3.0.3)\r\n",
      "Requirement already satisfied: zipp>=0.5 in /usr/local/lib/python3.8/dist-packages (from importlib-metadata->alembic>=1.5.0->optuna) (3.10.0)\r\n",
      "Requirement already satisfied: MarkupSafe>=0.9.2 in /usr/local/lib/python3.8/dist-packages (from Mako->alembic>=1.5.0->optuna) (2.1.1)\r\n",
      "\u001B[33mWARNING: Running pip as the 'root' user can result in broken permissions and conflicting behaviour with the system package manager. It is recommended to use a virtual environment instead: https://pip.pypa.io/warnings/venv\u001B[0m\u001B[33m\r\n",
      "\u001B[0m\r\n",
      "\u001B[1m[\u001B[0m\u001B[34;49mnotice\u001B[0m\u001B[1;39;49m]\u001B[0m\u001B[39;49m A new release of pip is available: \u001B[0m\u001B[31;49m23.0.1\u001B[0m\u001B[39;49m -> \u001B[0m\u001B[32;49m24.1.1\u001B[0m\r\n",
      "\u001B[1m[\u001B[0m\u001B[34;49mnotice\u001B[0m\u001B[1;39;49m]\u001B[0m\u001B[39;49m To update, run: \u001B[0m\u001B[32;49mpython3 -m pip install --upgrade pip\u001B[0m\r\n"
     ]
    }
   ],
   "execution_count": 46
  },
  {
   "cell_type": "code",
   "metadata": {
    "collapsed": true,
    "ExecuteTime": {
     "end_time": "2024-06-28T20:43:44.754961Z",
     "start_time": "2024-06-28T20:43:44.718183Z"
    }
   },
   "source": [
    "import os\n",
    "import pandas as pd\n",
    "import seaborn as sns\n",
    "import tensorflow as tf\n",
    "import matplotlib.pyplot as plt\n",
    "import numpy as np\n",
    "from scipy import signal\n",
    "import tensorflow_probability as tfp\n",
    "tfd = tfp.distributions\n",
    "from tensorflow import keras\n",
    "import optuna\n",
    "\n",
    "gpus = tf.config.list_physical_devices('GPUS')\n",
    "if gpus:\n",
    "    try:\n",
    "        tf.config.set_logical_device_configuration(gpus[0],[tf.config.LogicalDeviceConfiguration(memory_limit=1024)])\n",
    "        logical_gpus = tf.config.list_logical_devices('GPU')\n",
    "        print(len(gpus), \"Physical GPUs,\", len(logical_gpus), \"Logical GPUs\")\n",
    "        os.environ['TF_GPU_ALLOCATION'] = \"cuda_malloc_async\"\n",
    "    except RuntimeError as e:\n",
    "        print(e)\n",
    "else:\n",
    "    print(\"No GPUs detected!!!\")\n",
    "%matplotlib inline\n",
    "%config InlineBackend.figure_format = 'jpg'"
   ],
   "outputs": [
    {
     "name": "stdout",
     "output_type": "stream",
     "text": [
      "No GPUs detected!!!\n"
     ]
    }
   ],
   "execution_count": 47
  },
  {
   "cell_type": "code",
   "source": [
    "def G(x,mean, variance):\n",
    "     return np.exp(-np.square(x-mean)/2*variance)/(np.sqrt(2*np.pi*variance))\n",
    "\n",
    "def custom_loss(x):\n",
    "    y=np.exp(-x) +0.09*np.exp(-15+x) -0.1*np.abs(x+17) -200*G(x,8,10) + 10*G(x,15,1)\n",
    "    return y\n",
    "\n",
    "def custom_loss_tf(x):\n",
    "    y=tf.math.exp(-x) - 1.5*x\n",
    "    y = tf.add(y,tf.multiply(0.09,tf.math.exp(tf.add(-15.0,x))))\n",
    "    y  = tf.subtract(y,tf.multiply(-0.1,tf.abs(tf.add(x,17.0))))\n",
    "    y  = tf.subtract(y,tf.multiply(15.,tfd.Normal(loc=11., scale=0.25).prob(x)))\n",
    "    y  = tf.add(y,tf.multiply(20.,tfd.Normal(loc=5., scale=1.).prob(x)))  \n",
    "    return y\n",
    "\n",
    "N=10000\n",
    "x=np.linspace(-3,21,N)\n",
    "y,dy=custom_loss_tf(tf.constant(x,dtype=tf.float32))\n",
    "y2=custom_loss(x)\n",
    "TRUE_W = x[np.argmin(y)]\n",
    "plt.figure()\n",
    "w=20\n",
    "\n",
    "for _ in range(1):\n",
    "    noisy=y+np.random.normal(0, 0.25, N)\n",
    "    #noisy = signal.filtfilt(1/(w*np.ones(w)), 1, noisy)\n",
    "    #plt.plot(x,noisy,c='r',alpha=0.75,label='Batch Loss')\n",
    "plt.plot(x,y,label='Ideal Loss (Infinite Data) TF implementation')\n",
    "#plt.plot(x,y2,label='Ideal Loss (Infinite Data)',c='r')\n",
    "plt.axvline(TRUE_W,c='g',label='W Optimal=%0.4f'%TRUE_W)\n",
    "plt.xlabel('Weigth Value')\n",
    "plt.ylabel('Custom Test Loss')\n",
    "plt.legend()\n",
    "plt.show()"
   ],
   "metadata": {
    "collapsed": false,
    "ExecuteTime": {
     "end_time": "2024-06-29T19:08:51.490444Z",
     "start_time": "2024-06-29T19:08:51.122467Z"
    }
   },
   "outputs": [
    {
     "data": {
      "text/plain": [
       "<Figure size 640x480 with 1 Axes>"
      ],
      "image/jpeg": "[encoded data removed]"
     },
     "metadata": {},
     "output_type": "display_data"
    },
    {
     "data": {
      "text/plain": [
       "<Figure size 640x480 with 0 Axes>"
      ]
     },
     "metadata": {},
     "output_type": "display_data"
    },
    {
     "data": {
      "text/plain": [
       "<Figure size 640x480 with 2 Axes>"
      ],
      "image/jpeg": "[encoded data removed]"
     },
     "metadata": {},
     "output_type": "display_data"
    }
   ],
   "execution_count": 68
  },
  {
   "cell_type": "code",
   "source": [
    "class LastSample(keras.metrics.Metric):\n",
    "    def __init__(self, name='sample', **kwargs):\n",
    "        super().__init__(name=name, **kwargs)\n",
    "        self.sample = self.add_variable(shape=(),initializer='zeros',name='sample')\n",
    "    def update_state(self, y):\n",
    "        self.sample.assign(y)\n",
    "    def result(self):\n",
    "        return self.sample\n",
    "\n",
    "class CustomModel(keras.Model):\n",
    "    def __init__(self,loss_func, *args, **kwargs):\n",
    "        super().__init__(*args, **kwargs)\n",
    "        self.loss_tracker = LastSample(name=\"loss\")\n",
    "        self.w_metric = LastSample(name=\"weight\")\n",
    "        self.momentum = LastSample(name=\"momentum\")\n",
    "        self.velocity = LastSample(name=\"velocity\")\n",
    "        self.loss_func=loss_func\n",
    "\n",
    "    def train_step(self, data):\n",
    "        trainable_vars = self.trainable_variables\n",
    "        self.w_metric.update_state(tf.squeeze(trainable_vars[0]))\n",
    "        with tf.GradientTape() as tape:\n",
    "            loss = self.loss_func(tf.squeeze(trainable_vars[0]))\n",
    "        gradients = tape.gradient(loss, trainable_vars)\n",
    "        self.optimizer.apply_gradients(zip(gradients, trainable_vars))\n",
    "        self.loss_tracker.update_state(tf.squeeze(loss))\n",
    "\n",
    "        #print(self.optimizer.variables()[1])\n",
    "        self.momentum.update_state(tf.squeeze(self.optimizer.variables()[1]))\n",
    "        self.velocity.update_state(tf.squeeze(self.optimizer.variables()[2]))\n",
    "\n",
    "        return {\"loss\": self.loss_tracker.result(), \"weight\": self.w_metric.result(), \"momentum\":self.momentum.result(), \"velocity\":self.velocity.result()}\n",
    "\n",
    "    @property\n",
    "    def metrics(self):\n",
    "        return [self.loss_tracker, self.w_metric, self.momentum, self.velocity]\n",
    "\n",
    "\n",
    "def run(optimizer,seed=0,loss_func=None):\n",
    "    initalizer=tf.keras.initializers.GlorotUniform(seed)\n",
    "    inputs = keras.Input(shape=(1,))\n",
    "    outputs = keras.layers.Dense(1,use_bias=False,kernel_initializer=initalizer)(inputs)\n",
    "    model = CustomModel(loss_func,inputs, outputs)\n",
    "    xtrain = np.random.random((1, 1))*0\n",
    "    ytrain = xtrain*TRUE_W\n",
    "    model.compile(optimizer=optimizer,run_eagerly=False)\n",
    "    history = model.fit(xtrain, ytrain, epochs=100,verbose=0,batch_size=128)\n",
    "    return history"
   ],
   "metadata": {
    "collapsed": false,
    "ExecuteTime": {
     "end_time": "2024-06-28T20:43:45.150121Z",
     "start_time": "2024-06-28T20:43:45.143585Z"
    }
   },
   "outputs": [],
   "execution_count": 49
  },
  {
   "cell_type": "code",
   "source": [
    "best=(np.inf,None,None,None)\n",
    "for _,epsilon in enumerate([1e-8,1e-7,1e-6]):\n",
    "    fig=plt.figure(figsize=(16, 10))\n",
    "    losses={}\n",
    "    momentum={}\n",
    "    velocity={}\n",
    "    count=0\n",
    "    for i,beta_1 in enumerate([0.9, 1.,  0.5 ,0]):\n",
    "        for k,beta_2 in enumerate([0.999, 1., 0.5 ,0]):\n",
    "            optimizer=tf.keras.optimizers.Adam(learning_rate=0.2,beta_1=beta_1, beta_2=beta_2,epsilon=epsilon)\n",
    "            history = run(optimizer=optimizer,loss_func=custom_loss_tf)\n",
    "            if i==0 and k==0:\n",
    "                plt.title(\"Epsilon %0.4f\"%epsilon)\n",
    "            plt.subplot(4*2,4,i*4*2+k+1)\n",
    "            plt.plot(x,y)\n",
    "            plt.plot(history.history['weight'],history.history['loss'],c='r',marker='o',label='b1=%0.3f b2=%0.3f'%(beta_1,beta_2),alpha=0.5)\n",
    "            plt.plot(history.history['weight'][0],history.history['loss'][0],c='g',marker='o')\n",
    "            plt.plot(history.history['weight'][-1],history.history['loss'][-1],c='y',marker='o')\n",
    "            plt.xlim([np.min(x),np.max(x)])\n",
    "            plt.xlabel('Weigth Value')\n",
    "            plt.ylabel('Custom Test Loss')\n",
    "            plt.legend()\n",
    "\n",
    "            plt.subplot(4*2,4,i*4*2+k+1+4)\n",
    "            plt.plot(history.history['loss'])\n",
    "            #plt.ylim([np.min(y),np.max(y)])\n",
    "            plt.ylabel(\"Loss\")\n",
    "            plt.xlabel(\"Epoch\")\n",
    "            if history.history['loss'][-1]<best[0]:\n",
    "                print(\"b1=%s b2=%s epsilon=%s\"%(beta_1,beta_2,epsilon))\n",
    "                print(history.history['loss'][-1])\n",
    "                best=(history.history['loss'][-1],beta_1,beta_2,epsilon)\n",
    "            losses[count]=history.history['loss']\n",
    "            momentum[count]=history.history['momentum']\n",
    "            velocity[count]=history.history['velocity']\n",
    "\n",
    "            count+=1\n",
    "fig.tight_layout()\n",
    "print(best)"
   ],
   "metadata": {
    "collapsed": false,
    "ExecuteTime": {
     "end_time": "2024-06-28T20:43:45.309422Z",
     "start_time": "2024-06-28T20:43:45.150848Z"
    }
   },
   "outputs": [
    {
     "name": "stderr",
     "output_type": "stream",
     "text": [
      "/tmp/ipykernel_13/1328969923.py:4: UserWarning: `layer.add_variable` is deprecated and will be removed in a future version. Please use the `layer.add_weight()` method instead.\n",
      "  self.sample = self.add_variable(shape=(),initializer='zeros',name='sample')\n"
     ]
    },
    {
     "ename": "StagingError",
     "evalue": "in user code:\n\n    File \"/usr/local/lib/python3.8/dist-packages/keras/engine/training.py\", line 1249, in train_function  *\n        return step_function(self, iterator)\n    File \"/usr/local/lib/python3.8/dist-packages/keras/engine/training.py\", line 1233, in step_function  **\n        outputs = model.distribute_strategy.run(run_step, args=(data,))\n    File \"/usr/local/lib/python3.8/dist-packages/keras/engine/training.py\", line 1222, in run_step  **\n        outputs = model.train_step(data)\n    File \"/tmp/ipykernel_13/1328969923.py\", line 23, in train_step\n        loss = self.loss_func(tf.squeeze(trainable_vars[0]))\n    File \"/tmp/ipykernel_13/1561328672.py\", line 14, in custom_loss_tf\n        ys= tf.concat([[0],tf.slice(y,[0],[y.shape[0]-1])],axis=0)\n\n    IndexError: tuple index out of range\n",
     "output_type": "error",
     "traceback": [
      "\u001B[0;31m---------------------------------------------------------------------------\u001B[0m",
      "\u001B[0;31mStagingError\u001B[0m                              Traceback (most recent call last)",
      "Cell \u001B[0;32mIn[50], line 11\u001B[0m\n\u001B[1;32m      9\u001B[0m \u001B[38;5;28;01mfor\u001B[39;00m k,beta_2 \u001B[38;5;129;01min\u001B[39;00m \u001B[38;5;28menumerate\u001B[39m([\u001B[38;5;241m0.999\u001B[39m, \u001B[38;5;241m1.\u001B[39m, \u001B[38;5;241m0.5\u001B[39m ,\u001B[38;5;241m0\u001B[39m]):\n\u001B[1;32m     10\u001B[0m     optimizer\u001B[38;5;241m=\u001B[39mtf\u001B[38;5;241m.\u001B[39mkeras\u001B[38;5;241m.\u001B[39moptimizers\u001B[38;5;241m.\u001B[39mAdam(learning_rate\u001B[38;5;241m=\u001B[39m\u001B[38;5;241m0.2\u001B[39m,beta_1\u001B[38;5;241m=\u001B[39mbeta_1, beta_2\u001B[38;5;241m=\u001B[39mbeta_2,epsilon\u001B[38;5;241m=\u001B[39mepsilon)\n\u001B[0;32m---> 11\u001B[0m     history \u001B[38;5;241m=\u001B[39m \u001B[43mrun\u001B[49m\u001B[43m(\u001B[49m\u001B[43moptimizer\u001B[49m\u001B[38;5;241;43m=\u001B[39;49m\u001B[43moptimizer\u001B[49m\u001B[43m,\u001B[49m\u001B[43mloss_func\u001B[49m\u001B[38;5;241;43m=\u001B[39;49m\u001B[43mcustom_loss_tf\u001B[49m\u001B[43m)\u001B[49m\n\u001B[1;32m     12\u001B[0m     \u001B[38;5;28;01mif\u001B[39;00m i\u001B[38;5;241m==\u001B[39m\u001B[38;5;241m0\u001B[39m \u001B[38;5;129;01mand\u001B[39;00m k\u001B[38;5;241m==\u001B[39m\u001B[38;5;241m0\u001B[39m:\n\u001B[1;32m     13\u001B[0m         plt\u001B[38;5;241m.\u001B[39mtitle(\u001B[38;5;124m\"\u001B[39m\u001B[38;5;124mEpsilon \u001B[39m\u001B[38;5;132;01m%0.4f\u001B[39;00m\u001B[38;5;124m\"\u001B[39m\u001B[38;5;241m%\u001B[39mepsilon)\n",
      "Cell \u001B[0;32mIn[49], line 47\u001B[0m, in \u001B[0;36mrun\u001B[0;34m(optimizer, seed, loss_func)\u001B[0m\n\u001B[1;32m     45\u001B[0m ytrain \u001B[38;5;241m=\u001B[39m xtrain\u001B[38;5;241m*\u001B[39mTRUE_W\n\u001B[1;32m     46\u001B[0m model\u001B[38;5;241m.\u001B[39mcompile(optimizer\u001B[38;5;241m=\u001B[39moptimizer,run_eagerly\u001B[38;5;241m=\u001B[39m\u001B[38;5;28;01mFalse\u001B[39;00m)\n\u001B[0;32m---> 47\u001B[0m history \u001B[38;5;241m=\u001B[39m \u001B[43mmodel\u001B[49m\u001B[38;5;241;43m.\u001B[39;49m\u001B[43mfit\u001B[49m\u001B[43m(\u001B[49m\u001B[43mxtrain\u001B[49m\u001B[43m,\u001B[49m\u001B[43m \u001B[49m\u001B[43mytrain\u001B[49m\u001B[43m,\u001B[49m\u001B[43m \u001B[49m\u001B[43mepochs\u001B[49m\u001B[38;5;241;43m=\u001B[39;49m\u001B[38;5;241;43m100\u001B[39;49m\u001B[43m,\u001B[49m\u001B[43mverbose\u001B[49m\u001B[38;5;241;43m=\u001B[39;49m\u001B[38;5;241;43m0\u001B[39;49m\u001B[43m,\u001B[49m\u001B[43mbatch_size\u001B[49m\u001B[38;5;241;43m=\u001B[39;49m\u001B[38;5;241;43m128\u001B[39;49m\u001B[43m)\u001B[49m\n\u001B[1;32m     48\u001B[0m \u001B[38;5;28;01mreturn\u001B[39;00m history\n",
      "File \u001B[0;32m/usr/local/lib/python3.8/dist-packages/keras/utils/traceback_utils.py:70\u001B[0m, in \u001B[0;36mfilter_traceback.<locals>.error_handler\u001B[0;34m(*args, **kwargs)\u001B[0m\n\u001B[1;32m     67\u001B[0m     filtered_tb \u001B[38;5;241m=\u001B[39m _process_traceback_frames(e\u001B[38;5;241m.\u001B[39m__traceback__)\n\u001B[1;32m     68\u001B[0m     \u001B[38;5;66;03m# To get the full stack trace, call:\u001B[39;00m\n\u001B[1;32m     69\u001B[0m     \u001B[38;5;66;03m# `tf.debugging.disable_traceback_filtering()`\u001B[39;00m\n\u001B[0;32m---> 70\u001B[0m     \u001B[38;5;28;01mraise\u001B[39;00m e\u001B[38;5;241m.\u001B[39mwith_traceback(filtered_tb) \u001B[38;5;28;01mfrom\u001B[39;00m \u001B[38;5;28mNone\u001B[39m\n\u001B[1;32m     71\u001B[0m \u001B[38;5;28;01mfinally\u001B[39;00m:\n\u001B[1;32m     72\u001B[0m     \u001B[38;5;28;01mdel\u001B[39;00m filtered_tb\n",
      "File \u001B[0;32m/usr/local/lib/python3.8/dist-packages/tensorflow/python/framework/func_graph.py:1269\u001B[0m, in \u001B[0;36mfunc_graph_from_py_func.<locals>.autograph_handler\u001B[0;34m(*args, **kwargs)\u001B[0m\n\u001B[1;32m   1267\u001B[0m \u001B[38;5;28;01mexcept\u001B[39;00m \u001B[38;5;167;01mException\u001B[39;00m \u001B[38;5;28;01mas\u001B[39;00m e:  \u001B[38;5;66;03m# pylint:disable=broad-except\u001B[39;00m\n\u001B[1;32m   1268\u001B[0m   \u001B[38;5;28;01mif\u001B[39;00m \u001B[38;5;28mhasattr\u001B[39m(e, \u001B[38;5;124m\"\u001B[39m\u001B[38;5;124mag_error_metadata\u001B[39m\u001B[38;5;124m\"\u001B[39m):\n\u001B[0;32m-> 1269\u001B[0m     \u001B[38;5;28;01mraise\u001B[39;00m e\u001B[38;5;241m.\u001B[39mag_error_metadata\u001B[38;5;241m.\u001B[39mto_exception(e)\n\u001B[1;32m   1270\u001B[0m   \u001B[38;5;28;01melse\u001B[39;00m:\n\u001B[1;32m   1271\u001B[0m     \u001B[38;5;28;01mraise\u001B[39;00m\n",
      "\u001B[0;31mStagingError\u001B[0m: in user code:\n\n    File \"/usr/local/lib/python3.8/dist-packages/keras/engine/training.py\", line 1249, in train_function  *\n        return step_function(self, iterator)\n    File \"/usr/local/lib/python3.8/dist-packages/keras/engine/training.py\", line 1233, in step_function  **\n        outputs = model.distribute_strategy.run(run_step, args=(data,))\n    File \"/usr/local/lib/python3.8/dist-packages/keras/engine/training.py\", line 1222, in run_step  **\n        outputs = model.train_step(data)\n    File \"/tmp/ipykernel_13/1328969923.py\", line 23, in train_step\n        loss = self.loss_func(tf.squeeze(trainable_vars[0]))\n    File \"/tmp/ipykernel_13/1561328672.py\", line 14, in custom_loss_tf\n        ys= tf.concat([[0],tf.slice(y,[0],[y.shape[0]-1])],axis=0)\n\n    IndexError: tuple index out of range\n"
     ]
    },
    {
     "data": {
      "text/plain": [
       "<Figure size 1600x1000 with 0 Axes>"
      ]
     },
     "metadata": {},
     "output_type": "display_data"
    }
   ],
   "execution_count": 50
  },
  {
   "cell_type": "code",
   "source": [
    "def get_params(trial):\n",
    "    params = {\"lr\": trial.suggest_float(\"lr\", 1e-3, 1),\n",
    "              \"beta_1\": trial.suggest_float(\"beta_1\",0.5,0.99),\n",
    "              \"beta_2\": trial.suggest_categorical(\"beta_2\",[0,0.1]),\n",
    "              \"epsilon\":trial.suggest_categorical(\"epsilon\",[1e-8,1e-7,1e-6,1e-5]),\n",
    "              \"seed\":trial.suggest_categorical(\"seed\",[0,1,2,3,4,5,6,7,8,9]),\n",
    "              }\n",
    "    return params\n",
    "\n",
    "def get_objective():\n",
    "    def objective(trial):\n",
    "        params = get_params(trial)\n",
    "        optimizer=tf.keras.optimizers.Adam(learning_rate=params['lr'],beta_1=params['beta_1'],beta_2=params['beta_2'],epsilon=params['epsilon'])\n",
    "        history = run(optimizer=optimizer,seed=params['seed'],loss_func=custom_loss_tf)\n",
    "        score=history.history['loss'][-1]\n",
    "        score = 30 if np.isnan(score) else score\n",
    "        return score\n",
    "    return objective\n",
    "\n",
    "def optuna_tuner(optuna_trials=100):\n",
    "    n_startup_trials=50\n",
    "    sampler = optuna.samplers.TPESampler(seed=10, n_startup_trials=n_startup_trials,consider_endpoints=True,multivariate=True)\n",
    "    study = optuna.create_study(sampler=sampler, direction=\"minimize\")\n",
    "    objective = get_objective()\n",
    "    study.optimize(objective, n_trials=optuna_trials)\n",
    "    trial = study.best_trial\n",
    "    print(\"**\"*50 + \" Finished Optimizing\")\n",
    "    print(\"Number of finished trials: \", len(study.trials))\n",
    "    print(\"  Value: {}\".format(trial.value))\n",
    "    print(\"Best  Params: %s\" % str(trial.params))\n",
    "    results=trial.params.copy()\n",
    "    return results\n",
    "\n",
    "best_params = optuna_tuner(optuna_trials=100)"
   ],
   "metadata": {
    "collapsed": false
   },
   "outputs": [],
   "execution_count": null
  },
  {
   "cell_type": "code",
   "source": [
    "plt.figure(figsize=(16, 10))\n",
    "history = run(optimizer=tf.keras.optimizers.Adam(learning_rate=best_params['lr'],beta_1=best_params['beta_1'],\n",
    "                                                 beta_2=best_params['beta_2'],epsilon=best_params['epsilon']),\n",
    "                                                seed=best_params['seed'],\n",
    "                                                loss_func=custom_loss_tf)\n",
    "print(history.history['loss'][-1])\n",
    "plt.subplot(2,1,1)\n",
    "plt.plot(x,y)\n",
    "plt.plot(history.history['weight'],history.history['loss'],c='r',marker='o',label='best params'%(best_params),alpha=0.5)\n",
    "plt.plot(history.history['weight'][0],history.history['loss'][0],c='g',marker='o')\n",
    "plt.plot(history.history['weight'][-1],history.history['loss'][-1],c='y',marker='o')\n",
    "plt.xlim([np.min(x),np.max(x)])\n",
    "plt.xlabel('Weigth Value')\n",
    "plt.ylabel('Custom Test Loss')\n",
    "plt.legend()\n",
    "\n",
    "plt.subplot(2,1,2)\n",
    "plt.plot(history.history['loss'])\n",
    "#plt.ylim([np.min(y),np.max(y)])\n",
    "plt.ylabel(\"Loss\")\n",
    "plt.xlabel(\"Epoch\")"
   ],
   "metadata": {
    "collapsed": false
   },
   "outputs": [],
   "execution_count": null
  },
  {
   "cell_type": "code",
   "source": [
    "def get_params(trial):\n",
    "    params = {\"lr\": trial.suggest_float(\"lr\", 1e-3, 1),\n",
    "              \"beta_1\": trial.suggest_float(\"beta_1\",0.5,0.99),\n",
    "              \"beta_2\": trial.suggest_categorical(\"beta_2\",[0,0.1]),\n",
    "              \"epsilon\":trial.suggest_categorical(\"epsilon\",[1e-8,1e-7,1e-6,1e-5]),\n",
    "              \"seed\":trial.suggest_categorical(\"seed\",[0,1,2,3,4,5,6,7,8,9]),\n",
    "              }\n",
    "    return params\n",
    "\n",
    "def get_objective():\n",
    "    def objective(trial):\n",
    "        params = get_params(trial)\n",
    "        learning_rate=tf.keras.optimizers.schedules.CosineDecayRestarts(params['lr'],10)\n",
    "        optimizer=tf.keras.optimizers.Adam(learning_rate=learning_rate,beta_1=params['beta_1'],beta_2=params['beta_2'],epsilon=params['epsilon'])\n",
    "        history = run(optimizer=optimizer,loss_func=custom_loss_tf)\n",
    "        score=history.history['loss'][-1]\n",
    "        score = 30 if np.isnan(score) else score\n",
    "        return score\n",
    "    return objective\n",
    "\n",
    "def optuna_tuner(optuna_trials=100):\n",
    "    n_startup_trials=50\n",
    "    sampler = optuna.samplers.TPESampler(seed=10, n_startup_trials=n_startup_trials,consider_endpoints=True,multivariate=True)\n",
    "    study = optuna.create_study(sampler=sampler, direction=\"minimize\")\n",
    "    objective = get_objective()\n",
    "    study.optimize(objective, n_trials=optuna_trials)\n",
    "    trial = study.best_trial\n",
    "    print(\"**\"*50 + \" Finished Optimizing\")\n",
    "    print(\"Number of finished trials: \", len(study.trials))\n",
    "    print(\"  Value: {}\".format(trial.value))\n",
    "    print(\"Best  Params: %s\" % str(trial.params))\n",
    "    results=trial.params.copy()\n",
    "    return results\n",
    "\n",
    "best_params = optuna_tuner(optuna_trials=100)"
   ],
   "metadata": {
    "collapsed": false
   },
   "outputs": [],
   "execution_count": null
  },
  {
   "cell_type": "code",
   "source": [
    "plt.figure(figsize=(16, 10))\n",
    "learning_rate=tf.keras.optimizers.schedules.CosineDecayRestarts(best_params['lr'],10)\n",
    "history = run(optimizer=tf.keras.optimizers.Adam(learning_rate=learning_rate,beta_1=best_params['beta_1'],\n",
    "                                                 beta_2=best_params['beta_2'],epsilon=best_params['epsilon']),seed=best_params['seed'],loss_func=custom_loss_tf)\n",
    "print(best_params)\n",
    "print(history.history['loss'][-1])\n",
    "plt.subplot(2,1,1)\n",
    "plt.plot(x,y)\n",
    "plt.plot(history.history['weight'],history.history['loss'],c='r',marker='o',label='best params'%(best_params),alpha=0.5)\n",
    "plt.plot(history.history['weight'][0],history.history['loss'][0],c='g',marker='o')\n",
    "plt.plot(history.history['weight'][-1],history.history['loss'][-1],c='y',marker='o')\n",
    "plt.xlim([np.min(x),np.max(x)])\n",
    "plt.xlabel('Weigth Value')\n",
    "plt.ylabel('Custom Test Loss')\n",
    "plt.legend()\n",
    "\n",
    "plt.subplot(2,1,2)\n",
    "plt.plot(history.history['loss'])\n",
    "#plt.ylim([np.min(y),np.max(y)])\n",
    "plt.ylabel(\"Loss\")\n",
    "plt.xlabel(\"Epoch\")"
   ],
   "metadata": {
    "collapsed": false
   },
   "outputs": [],
   "execution_count": null
  },
  {
   "cell_type": "code",
   "source": [
    "#Loss with Noise\n",
    "def custom_loss_tf2(x):\n",
    "    y=tf.math.exp(-x) - 1.5*x\n",
    "    y = tf.add(y,tf.multiply(0.09,tf.math.exp(tf.add(-15.0,x))))\n",
    "    y  = tf.subtract(y,tf.multiply(-0.1,tf.abs(tf.add(x,17.0))))\n",
    "    y  = tf.subtract(y,tf.multiply(15.,tfd.Normal(loc=11., scale=0.25).prob(x)))\n",
    "    y  = tf.add(y,tf.multiply(20.,tfd.Normal(loc=5., scale=1.).prob(x)))\n",
    "    y  = tf.add(y,tfd.LogNormal(loc=0., scale=0.5).sample(sample_shape=y.shape,seed=0))\n",
    "    return y\n",
    "\n",
    "N=10000\n",
    "x=np.linspace(-3,21,N)\n",
    "y=custom_loss_tf2(tf.constant(x,dtype=tf.float32))\n",
    "TRUE_W = x[np.argmin(y)]\n",
    "plt.figure()\n",
    "w=20\n",
    "plt.plot(x,y,label='Ideal Loss (Infinite Data) TF implementation')\n",
    "plt.axvline(TRUE_W,c='g',label='W Optimal=%0.4f'%TRUE_W)\n",
    "plt.xlabel('Weigth Value')\n",
    "plt.ylabel('Custom Test Loss')\n",
    "plt.legend()\n",
    "plt.show()\n"
   ],
   "metadata": {
    "collapsed": false
   },
   "outputs": [],
   "execution_count": null
  },
  {
   "cell_type": "code",
   "source": [
    "best=(np.inf,None,None,None)\n",
    "for _,epsilon in enumerate([1e-8,1e-7,1e-6]):\n",
    "    fig=plt.figure(figsize=(16, 12))\n",
    "    for i,beta_1 in enumerate([0.9, 1.,  0.5 ,0]):\n",
    "        for k,beta_2 in enumerate([0.999, 1., 0.5 ,0]):\n",
    "            optimizer=tf.keras.optimizers.Adam(learning_rate=0.2,beta_1=beta_1, beta_2=beta_2,epsilon=epsilon)\n",
    "            history = run(optimizer=optimizer,loss_func=custom_loss_tf2)\n",
    "            if i==0 and k==0:\n",
    "                plt.title(\"Epsilon %0.4f\"%epsilon)\n",
    "            plt.subplot(4*2,4,i*4*2+k+1)\n",
    "            plt.plot(x,y)\n",
    "            plt.plot(history.history['weight'],history.history['loss'],c='r',marker='o',label='b1=%0.3f b2=%0.3f'%(beta_1,beta_2),alpha=0.5)\n",
    "            plt.plot(history.history['weight'][0],history.history['loss'][0],c='g',marker='o')\n",
    "            plt.plot(history.history['weight'][-1],history.history['loss'][-1],c='y',marker='o')\n",
    "            plt.xlim([np.min(x),np.max(x)])\n",
    "            plt.xlabel('Weigth Value')\n",
    "            plt.ylabel('Custom Test Loss')\n",
    "            plt.legend()\n",
    "\n",
    "            plt.subplot(4*2,4,i*4*2+k+1+4)\n",
    "            plt.plot(history.history['loss'])\n",
    "            plt.ylim([np.min(y),np.max(y)])\n",
    "            plt.ylabel(\"Loss\")\n",
    "            plt.xlabel(\"Epoch\")\n",
    "            if history.history['loss'][-1]<best[0]:\n",
    "                print(\"b1=%s b2=%s epsilon=%s\"%(beta_1,beta_2,epsilon))\n",
    "                print(history.history['loss'][-1])\n",
    "                best=(history.history['loss'][-1],beta_1,beta_2,epsilon)\n",
    "    fig.tight_layout()\n",
    "print(best)"
   ],
   "metadata": {
    "collapsed": false
   },
   "outputs": [],
   "execution_count": null
  },
  {
   "cell_type": "code",
   "source": [
    "def get_objective():\n",
    "    def objective(trial):\n",
    "        params = get_params(trial)\n",
    "        optimizer=tf.keras.optimizers.Adam(learning_rate=params['lr'],beta_1=params['beta_1'],beta_2=params['beta_2'],epsilon=params['epsilon'])\n",
    "        history = run(optimizer=optimizer,seed=params['seed'],loss_func=custom_loss_tf2)\n",
    "        score=history.history['loss'][-1]\n",
    "        score = 30 if np.isnan(score) else score\n",
    "        return score\n",
    "    return objective\n",
    "\n",
    "def optuna_tuner(optuna_trials=100):\n",
    "    n_startup_trials=50\n",
    "    sampler = optuna.samplers.TPESampler(seed=10, n_startup_trials=n_startup_trials,consider_endpoints=True,multivariate=True)\n",
    "    study = optuna.create_study(sampler=sampler, direction=\"minimize\")\n",
    "    objective = get_objective()\n",
    "    study.optimize(objective, n_trials=optuna_trials)\n",
    "    trial = study.best_trial\n",
    "    print(\"**\"*50 + \" Finished Optimizing\")\n",
    "    print(\"Number of finished trials: \", len(study.trials))\n",
    "    print(\"  Value: {}\".format(trial.value))\n",
    "    print(\"Best  Params: %s\" % str(trial.params))\n",
    "    results=trial.params.copy()\n",
    "    return results\n",
    "\n",
    "best_params = optuna_tuner(optuna_trials=100)"
   ],
   "metadata": {
    "collapsed": false
   },
   "outputs": [],
   "execution_count": null
  },
  {
   "cell_type": "code",
   "source": [
    "plt.figure(figsize=(16, 10))\n",
    "history = run(optimizer=tf.keras.optimizers.Adam(learning_rate=best_params['lr'],beta_1=best_params['beta_1'],\n",
    "                                                 beta_2=best_params['beta_2'],epsilon=best_params['epsilon']),\n",
    "                                                seed=best_params['seed'],\n",
    "                                                loss_func=custom_loss_tf2)\n",
    "print(history.history['loss'][-1])\n",
    "plt.subplot(2,1,1)\n",
    "plt.plot(x,y)\n",
    "plt.plot(history.history['weight'],history.history['loss'],c='r',marker='o',label='best params'%(best_params),alpha=0.5)\n",
    "plt.plot(history.history['weight'][0],history.history['loss'][0],c='g',marker='o')\n",
    "plt.plot(history.history['weight'][-1],history.history['loss'][-1],c='y',marker='o')\n",
    "plt.xlim([np.min(x),np.max(x)])\n",
    "plt.xlabel('Weigth Value')\n",
    "plt.ylabel('Custom Test Loss')\n",
    "plt.legend()\n",
    "\n",
    "plt.subplot(2,1,2)\n",
    "plt.plot(history.history['loss'])\n",
    "#plt.ylim([np.min(y),np.max(y)])\n",
    "plt.ylabel(\"Loss\")\n",
    "plt.xlabel(\"Epoch\")"
   ],
   "metadata": {
    "collapsed": false
   },
   "outputs": [],
   "execution_count": null
  },
  {
   "cell_type": "code",
   "source": [
    "def get_params(trial):\n",
    "    params = {\"lr\": trial.suggest_float(\"lr\", 1e-3, 1),\n",
    "              \"beta_1\": trial.suggest_float(\"beta_1\",0.5,0.99),\n",
    "              \"beta_2\": trial.suggest_categorical(\"beta_2\",[0,0.1,0.5,0.999]),\n",
    "              \"epsilon\":trial.suggest_categorical(\"epsilon\",[1e-8,1e-7,1e-6,1e-5]),\n",
    "              \"seed\":trial.suggest_categorical(\"seed\",[0,1,2,3,4,5,6,7,8,9]),\n",
    "              }\n",
    "    return params\n",
    "\n",
    "def get_objective():\n",
    "    def objective(trial):\n",
    "        params = get_params(trial)\n",
    "        learning_rate=tf.keras.optimizers.schedules.CosineDecayRestarts(params['lr'],2)\n",
    "        optimizer=tf.keras.optimizers.Adam(learning_rate=learning_rate,beta_1=params['beta_1'],beta_2=params['beta_2'],epsilon=params['epsilon'])\n",
    "        history = run(optimizer=optimizer,loss_func=custom_loss_tf2)\n",
    "        score=history.history['loss'][-1]\n",
    "        score = 30 if np.isnan(score) else score\n",
    "        return score\n",
    "    return objective\n",
    "\n",
    "def optuna_tuner(optuna_trials=100):\n",
    "    n_startup_trials=50\n",
    "    sampler = optuna.samplers.TPESampler(seed=10, n_startup_trials=n_startup_trials,consider_endpoints=True,multivariate=True)\n",
    "    study = optuna.create_study(sampler=sampler, direction=\"minimize\")\n",
    "    objective = get_objective()\n",
    "    study.optimize(objective, n_trials=optuna_trials)\n",
    "    trial = study.best_trial\n",
    "    print(\"**\"*50 + \" Finished Optimizing\")\n",
    "    print(\"Number of finished trials: \", len(study.trials))\n",
    "    print(\"  Value: {}\".format(trial.value))\n",
    "    print(\"Best  Params: %s\" % str(trial.params))\n",
    "    results=trial.params.copy()\n",
    "    return results\n",
    "\n",
    "best_params = optuna_tuner(optuna_trials=100)"
   ],
   "metadata": {
    "collapsed": false
   },
   "outputs": [],
   "execution_count": null
  },
  {
   "cell_type": "code",
   "source": [
    "plt.figure(figsize=(16, 10))\n",
    "learning_rate=tf.keras.optimizers.schedules.CosineDecayRestarts(best_params['lr'],2)\n",
    "history = run(optimizer=tf.keras.optimizers.Adam(learning_rate=learning_rate,beta_1=best_params['beta_1'],\n",
    "                                                 beta_2=best_params['beta_2'],epsilon=best_params['epsilon']),seed=best_params['seed'],loss_func=custom_loss_tf2)\n",
    "print(best_params)\n",
    "print(history.history['loss'][-1])\n",
    "plt.subplot(2,1,1)\n",
    "plt.plot(x,y)\n",
    "plt.plot(history.history['weight'],history.history['loss'],c='r',marker='o',label='best params'%(best_params),alpha=0.5)\n",
    "plt.plot(history.history['weight'][0],history.history['loss'][0],c='g',marker='o')\n",
    "plt.plot(history.history['weight'][-1],history.history['loss'][-1],c='y',marker='o')\n",
    "plt.xlim([np.min(x),np.max(x)])\n",
    "plt.xlabel('Weigth Value')\n",
    "plt.ylabel('Custom Test Loss')\n",
    "plt.legend()\n",
    "\n",
    "plt.subplot(2,1,2)\n",
    "plt.plot(history.history['loss'])\n",
    "plt.ylabel(\"Loss\")\n",
    "plt.xlabel(\"Epoch\")"
   ],
   "metadata": {
    "collapsed": false
   },
   "outputs": [],
   "execution_count": null
  },
  {
   "cell_type": "code",
   "source": [
    "#Plot to understand forgetting factor\n",
    "data=[]\n",
    "p=np.arange(0,1,0.01)\n",
    "x=np.arange(0,101,1)\n",
    "for po in p:\n",
    "    y=[1]\n",
    "    for _ in range(100):\n",
    "        ynew=po * y[-1] + (1 - po) * 0\n",
    "        #ynew=po * y[-1] + (1 - po) * 1\n",
    "        y.append(ynew)\n",
    "    area=np.array(y) #cumsum(y/sum(y))\n",
    "    data.append(np.argmin(np.abs(area-0.1)))\n",
    "\n",
    "plt.figure()\n",
    "plt.plot(p,data)\n",
    "#plt.vlines(p[90],0,20,color='r',label='p=%0.3f'%p[90])\n",
    "plt.legend()\n",
    "plt.xlabel(\"Forgetting factor value\")\n",
    "plt.ylabel(\"Time to 10% decay (in Epochs)\")"
   ],
   "metadata": {
    "collapsed": false,
    "ExecuteTime": {
     "end_time": "2024-06-29T17:12:43.158305Z",
     "start_time": "2024-06-29T17:12:42.993047Z"
    }
   },
   "outputs": [
    {
     "name": "stderr",
     "output_type": "stream",
     "text": [
      "No artists with labels found to put in legend.  Note that artists whose label start with an underscore are ignored when legend() is called with no argument.\n"
     ]
    },
    {
     "data": {
      "text/plain": [
       "Text(0, 0.5, 'Time to 10% decay (in Epochs)')"
      ]
     },
     "execution_count": 52,
     "metadata": {},
     "output_type": "execute_result"
    },
    {
     "data": {
      "text/plain": [
       "<Figure size 640x480 with 1 Axes>"
      ],
      "image/jpeg": "[encoded data removed]"
     },
     "metadata": {},
     "output_type": "display_data"
    }
   ],
   "execution_count": 52
  },
  {
   "cell_type": "code",
   "source": [
    "y9=[1]\n",
    "p=0.999\n",
    "for _ in range(10000):\n",
    "    ynew=p * y9[-1] + (1 - p) * 0\n",
    "    y9.append(ynew)\n",
    "ind=np.argmin(np.abs(np.array(y9)-0.1))\n",
    "print(ind)\n",
    "print(y9[ind])"
   ],
   "metadata": {
    "collapsed": false,
    "ExecuteTime": {
     "end_time": "2024-06-29T18:08:28.637628Z",
     "start_time": "2024-06-29T18:08:28.624055Z"
    }
   },
   "outputs": [
    {
     "name": "stdout",
     "output_type": "stream",
     "text": [
      "2301\n",
      "0.10004339195341891\n"
     ]
    }
   ],
   "execution_count": 63
  },
  {
   "cell_type": "code",
   "source": [
    "area=np.cumsum(y/sum(y))\n",
    "np.argmin(np.abs(area-0.9))"
   ],
   "metadata": {
    "collapsed": false
   },
   "outputs": [],
   "execution_count": null
  },
  {
   "cell_type": "code",
   "source": [],
   "metadata": {
    "collapsed": false
   },
   "outputs": [],
   "execution_count": null
  }
 ],
 "metadata": {
  "kernelspec": {
   "display_name": "Python 3",
   "language": "python",
   "name": "python3"
  },
  "language_info": {
   "codemirror_mode": {
    "name": "ipython",
    "version": 2
   },
   "file_extension": ".py",
   "mimetype": "text/x-python",
   "name": "python",
   "nbconvert_exporter": "python",
   "pygments_lexer": "ipython2",
   "version": "2.7.6"
  }
 },
 "nbformat": 4,
 "nbformat_minor": 0
}
