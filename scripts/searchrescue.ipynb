{
 "cells": [
  {
   "cell_type": "code",
   "execution_count": 1,
   "metadata": {},
   "outputs": [
    {
     "name": "stdout",
     "output_type": "stream",
     "text": [
      "Requirement already satisfied: folium in /usr/local/lib/python3.8/dist-packages (0.15.1)\r\n",
      "Requirement already satisfied: haversine in /usr/local/lib/python3.8/dist-packages (2.8.0)\r\n",
      "Requirement already satisfied: requests in /usr/local/lib/python3.8/dist-packages (from folium) (2.28.2)\r\n",
      "Requirement already satisfied: jinja2>=2.9 in /usr/local/lib/python3.8/dist-packages (from folium) (3.1.2)\r\n",
      "Requirement already satisfied: branca>=0.6.0 in /usr/local/lib/python3.8/dist-packages (from folium) (0.7.0)\r\n",
      "Requirement already satisfied: xyzservices in /usr/local/lib/python3.8/dist-packages (from folium) (2023.10.1)\r\n",
      "Requirement already satisfied: numpy in /usr/local/lib/python3.8/dist-packages (from folium) (1.23.4)\r\n",
      "Requirement already satisfied: MarkupSafe>=2.0 in /usr/local/lib/python3.8/dist-packages (from jinja2>=2.9->folium) (2.1.1)\r\n",
      "Requirement already satisfied: charset-normalizer<4,>=2 in /usr/local/lib/python3.8/dist-packages (from requests->folium) (3.0.1)\r\n",
      "Requirement already satisfied: urllib3<1.27,>=1.21.1 in /usr/lib/python3/dist-packages (from requests->folium) (1.25.8)\r\n",
      "Requirement already satisfied: certifi>=2017.4.17 in /usr/lib/python3/dist-packages (from requests->folium) (2019.11.28)\r\n",
      "Requirement already satisfied: idna<4,>=2.5 in /usr/lib/python3/dist-packages (from requests->folium) (2.8)\r\n",
      "\u001B[33mWARNING: Running pip as the 'root' user can result in broken permissions and conflicting behaviour with the system package manager. It is recommended to use a virtual environment instead: https://pip.pypa.io/warnings/venv\u001B[0m\u001B[33m\r\n",
      "\u001B[0m\r\n",
      "\u001B[1m[\u001B[0m\u001B[34;49mnotice\u001B[0m\u001B[1;39;49m]\u001B[0m\u001B[39;49m A new release of pip is available: \u001B[0m\u001B[31;49m23.0.1\u001B[0m\u001B[39;49m -> \u001B[0m\u001B[32;49m23.3.1\u001B[0m\r\n",
      "\u001B[1m[\u001B[0m\u001B[34;49mnotice\u001B[0m\u001B[1;39;49m]\u001B[0m\u001B[39;49m To update, run: \u001B[0m\u001B[32;49mpython3 -m pip install --upgrade pip\u001B[0m\r\n"
     ]
    }
   ],
   "source": [
    "!pip install folium haversine\n",
    "import sys,os\n",
    "sys.path.append('/ikaro/PycharmProjects/medium/scripts')\n",
    "import numpy as np\n",
    "from dataclasses import dataclass,field\n",
    "import pandas as pd\n",
    "from searchrescue import show_map, random_walk_simple,random_walk_with_elevation, get_elevation_grid\n",
    "\n",
    "%matplotlib inline\n",
    "%config InlineBackend.figure_format = 'svg'"
   ]
  },
  {
   "cell_type": "code",
   "execution_count": 2,
   "metadata": {
    "scrolled": true
   },
   "outputs": [
    {
     "data": {
      "text/plain": "<folium.folium.Map at 0x7f29c30a83a0>",
      "text/html": "<div style=\"width:100%;\"><div style=\"position:relative;width:100%;height:0;padding-bottom:60%;\"><span style=\"color:#565656\">Make this Notebook Trusted to load map: File -> Trust Notebook</span><iframe srcdoc=\"&lt;!DOCTYPE html&gt;\n&lt;html&gt;\n&lt;head&gt;\n    \n    &lt;meta http-equiv=&quot;content-type&quot; content=&quot;text/html; charset=UTF-8&quot; /&gt;\n    \n        &lt;script&gt;\n            L_NO_TOUCH = false;\n            L_DISABLE_3D = false;\n        &lt;/script&gt;\n    \n    &lt;style&gt;html, body {width: 100%;height: 100%;margin: 0;padding: 0;}&lt;/style&gt;\n    &lt;style&gt;#map {position:absolute;top:0;bottom:0;right:0;left:0;}&lt;/style&gt;\n    &lt;script src=&quot;https://cdn.jsdelivr.net/npm/leaflet@1.9.3/dist/leaflet.js&quot;&gt;&lt;/script&gt;\n    &lt;script src=&quot;https://code.jquery.com/jquery-3.7.1.min.js&quot;&gt;&lt;/script&gt;\n    &lt;script src=&quot;https://cdn.jsdelivr.net/npm/bootstrap@5.2.2/dist/js/bootstrap.bundle.min.js&quot;&gt;&lt;/script&gt;\n    &lt;script src=&quot;https://cdnjs.cloudflare.com/ajax/libs/Leaflet.awesome-markers/2.0.2/leaflet.awesome-markers.js&quot;&gt;&lt;/script&gt;\n    &lt;link rel=&quot;stylesheet&quot; href=&quot;https://cdn.jsdelivr.net/npm/leaflet@1.9.3/dist/leaflet.css&quot;/&gt;\n    &lt;link rel=&quot;stylesheet&quot; href=&quot;https://cdn.jsdelivr.net/npm/bootstrap@5.2.2/dist/css/bootstrap.min.css&quot;/&gt;\n    &lt;link rel=&quot;stylesheet&quot; href=&quot;https://netdna.bootstrapcdn.com/bootstrap/3.0.0/css/bootstrap.min.css&quot;/&gt;\n    &lt;link rel=&quot;stylesheet&quot; href=&quot;https://cdn.jsdelivr.net/npm/@fortawesome/fontawesome-free@6.2.0/css/all.min.css&quot;/&gt;\n    &lt;link rel=&quot;stylesheet&quot; href=&quot;https://cdnjs.cloudflare.com/ajax/libs/Leaflet.awesome-markers/2.0.2/leaflet.awesome-markers.css&quot;/&gt;\n    &lt;link rel=&quot;stylesheet&quot; href=&quot;https://cdn.jsdelivr.net/gh/python-visualization/folium/folium/templates/leaflet.awesome.rotate.min.css&quot;/&gt;\n    \n            &lt;meta name=&quot;viewport&quot; content=&quot;width=device-width,\n                initial-scale=1.0, maximum-scale=1.0, user-scalable=no&quot; /&gt;\n            &lt;style&gt;\n                #map_c0c32fdce93aa81b8deade3059a7d574 {\n                    position: relative;\n                    width: 100.0%;\n                    height: 100.0%;\n                    left: 0.0%;\n                    top: 0.0%;\n                }\n                .leaflet-container { font-size: 1rem; }\n            &lt;/style&gt;\n        \n&lt;/head&gt;\n&lt;body&gt;\n    \n    \n            &lt;div class=&quot;folium-map&quot; id=&quot;map_c0c32fdce93aa81b8deade3059a7d574&quot; &gt;&lt;/div&gt;\n        \n&lt;/body&gt;\n&lt;script&gt;\n    \n    \n            var map_c0c32fdce93aa81b8deade3059a7d574 = L.map(\n                &quot;map_c0c32fdce93aa81b8deade3059a7d574&quot;,\n                {\n                    center: [37.718780413149965, -119.64038734429597],\n                    crs: L.CRS.EPSG3857,\n                    zoom: 15,\n                    zoomControl: true,\n                    preferCanvas: false,\n                }\n            );\n\n            \n\n        \n    \n            var tile_layer_9403914d47f893cdaba67185db16ebd9 = L.tileLayer(\n                &quot;https://tile.openstreetmap.org/{z}/{x}/{y}.png&quot;,\n                {&quot;attribution&quot;: &quot;\\u0026copy; \\u003ca href=\\&quot;https://www.openstreetmap.org/copyright\\&quot;\\u003eOpenStreetMap\\u003c/a\\u003e contributors&quot;, &quot;detectRetina&quot;: false, &quot;maxNativeZoom&quot;: 19, &quot;maxZoom&quot;: 19, &quot;minZoom&quot;: 0, &quot;noWrap&quot;: false, &quot;opacity&quot;: 1, &quot;subdomains&quot;: &quot;abc&quot;, &quot;tms&quot;: false}\n            );\n        \n    \n            tile_layer_9403914d47f893cdaba67185db16ebd9.addTo(map_c0c32fdce93aa81b8deade3059a7d574);\n        \n    \n            var tile_layer_e7185ca2101fa8f426aef9d21a6cd7d8 = L.tileLayer(\n                &quot;https://server.arcgisonline.com/ArcGIS/rest/services/World_Imagery/MapServer/tile/{z}/{y}/{x}&quot;,\n                {&quot;attribution&quot;: &quot;Esri&quot;, &quot;detectRetina&quot;: false, &quot;maxNativeZoom&quot;: 18, &quot;maxZoom&quot;: 18, &quot;minZoom&quot;: 0, &quot;noWrap&quot;: false, &quot;opacity&quot;: 1, &quot;subdomains&quot;: &quot;abc&quot;, &quot;tms&quot;: false}\n            );\n        \n    \n            tile_layer_e7185ca2101fa8f426aef9d21a6cd7d8.addTo(map_c0c32fdce93aa81b8deade3059a7d574);\n        \n    \n            var marker_7fffb5922160055d4fa5fb15d3026c23 = L.marker(\n                [37.718780413149965, -119.64038734429597],\n                {}\n            ).addTo(map_c0c32fdce93aa81b8deade3059a7d574);\n        \n    \n            var icon_b63dd7d22a505786e521ec47360ad207 = L.AwesomeMarkers.icon(\n                {&quot;extraClasses&quot;: &quot;fa-rotate-0&quot;, &quot;icon&quot;: &quot;info-sign&quot;, &quot;iconColor&quot;: &quot;white&quot;, &quot;markerColor&quot;: &quot;red&quot;, &quot;prefix&quot;: &quot;glyphicon&quot;}\n            );\n            marker_7fffb5922160055d4fa5fb15d3026c23.setIcon(icon_b63dd7d22a505786e521ec47360ad207);\n        \n    \n        var popup_14d7e195ffa3adb61aa2e82f4ed38b6d = L.popup({&quot;maxWidth&quot;: &quot;100%&quot;});\n\n        \n            \n                var html_a1fb41377d4c529192997f92725d9bcd = $(`&lt;div id=&quot;html_a1fb41377d4c529192997f92725d9bcd&quot; style=&quot;width: 100.0%; height: 100.0%;&quot;&gt;Last known location&lt;/div&gt;`)[0];\n                popup_14d7e195ffa3adb61aa2e82f4ed38b6d.setContent(html_a1fb41377d4c529192997f92725d9bcd);\n            \n        \n\n        marker_7fffb5922160055d4fa5fb15d3026c23.bindPopup(popup_14d7e195ffa3adb61aa2e82f4ed38b6d)\n        ;\n\n        \n    \n&lt;/script&gt;\n&lt;/html&gt;\" style=\"position:absolute;width:100%;height:100%;left:0;top:0;border:none !important;\" allowfullscreen webkitallowfullscreen mozallowfullscreen></iframe></div></div>"
     },
     "execution_count": 2,
     "metadata": {},
     "output_type": "execute_result"
    }
   ],
   "source": [
    "@dataclass\n",
    "class LostHiker:\n",
    "    start_long: float\n",
    "    start_lat: float\n",
    "    max_speed: float  #Maximum speed in meters per second\n",
    "    hours_missing : float\n",
    "    missing_radius: str = field(init=False, repr=True)\n",
    "    loc: tuple  = field(init=False, repr=True)\n",
    "        \n",
    "    def __post_init__(self):\n",
    "        self.missing_radius = self.max_speed*self.hours_missing*3600 \n",
    "        self.loc=(self.start_long,self.start_lat) #Short hand for cleaner code\n",
    "\n",
    "hiker=LostHiker(start_long=37.718780413149968,start_lat=-119.6403873442959697,max_speed=0.5,hours_missing=24)\n",
    "show_map(hiker,plot_origin=True)"
   ]
  },
  {
   "cell_type": "code",
   "execution_count": 3,
   "metadata": {},
   "outputs": [
    {
     "data": {
      "text/plain": "<folium.folium.Map at 0x7f29c30a8880>",
      "text/html": "<div style=\"width:100%;\"><div style=\"position:relative;width:100%;height:0;padding-bottom:60%;\"><span style=\"color:#565656\">Make this Notebook Trusted to load map: File -> Trust Notebook</span><iframe srcdoc=\"&lt;!DOCTYPE html&gt;\n&lt;html&gt;\n&lt;head&gt;\n    \n    &lt;meta http-equiv=&quot;content-type&quot; content=&quot;text/html; charset=UTF-8&quot; /&gt;\n    \n        &lt;script&gt;\n            L_NO_TOUCH = false;\n            L_DISABLE_3D = false;\n        &lt;/script&gt;\n    \n    &lt;style&gt;html, body {width: 100%;height: 100%;margin: 0;padding: 0;}&lt;/style&gt;\n    &lt;style&gt;#map {position:absolute;top:0;bottom:0;right:0;left:0;}&lt;/style&gt;\n    &lt;script src=&quot;https://cdn.jsdelivr.net/npm/leaflet@1.9.3/dist/leaflet.js&quot;&gt;&lt;/script&gt;\n    &lt;script src=&quot;https://code.jquery.com/jquery-3.7.1.min.js&quot;&gt;&lt;/script&gt;\n    &lt;script src=&quot;https://cdn.jsdelivr.net/npm/bootstrap@5.2.2/dist/js/bootstrap.bundle.min.js&quot;&gt;&lt;/script&gt;\n    &lt;script src=&quot;https://cdnjs.cloudflare.com/ajax/libs/Leaflet.awesome-markers/2.0.2/leaflet.awesome-markers.js&quot;&gt;&lt;/script&gt;\n    &lt;link rel=&quot;stylesheet&quot; href=&quot;https://cdn.jsdelivr.net/npm/leaflet@1.9.3/dist/leaflet.css&quot;/&gt;\n    &lt;link rel=&quot;stylesheet&quot; href=&quot;https://cdn.jsdelivr.net/npm/bootstrap@5.2.2/dist/css/bootstrap.min.css&quot;/&gt;\n    &lt;link rel=&quot;stylesheet&quot; href=&quot;https://netdna.bootstrapcdn.com/bootstrap/3.0.0/css/bootstrap.min.css&quot;/&gt;\n    &lt;link rel=&quot;stylesheet&quot; href=&quot;https://cdn.jsdelivr.net/npm/@fortawesome/fontawesome-free@6.2.0/css/all.min.css&quot;/&gt;\n    &lt;link rel=&quot;stylesheet&quot; href=&quot;https://cdnjs.cloudflare.com/ajax/libs/Leaflet.awesome-markers/2.0.2/leaflet.awesome-markers.css&quot;/&gt;\n    &lt;link rel=&quot;stylesheet&quot; href=&quot;https://cdn.jsdelivr.net/gh/python-visualization/folium/folium/templates/leaflet.awesome.rotate.min.css&quot;/&gt;\n    \n            &lt;meta name=&quot;viewport&quot; content=&quot;width=device-width,\n                initial-scale=1.0, maximum-scale=1.0, user-scalable=no&quot; /&gt;\n            &lt;style&gt;\n                #map_e28487fce8124d64850c5ae9ee7708a4 {\n                    position: relative;\n                    width: 100.0%;\n                    height: 100.0%;\n                    left: 0.0%;\n                    top: 0.0%;\n                }\n                .leaflet-container { font-size: 1rem; }\n            &lt;/style&gt;\n        \n&lt;/head&gt;\n&lt;body&gt;\n    \n    \n            &lt;div class=&quot;folium-map&quot; id=&quot;map_e28487fce8124d64850c5ae9ee7708a4&quot; &gt;&lt;/div&gt;\n        \n&lt;/body&gt;\n&lt;script&gt;\n    \n    \n            var map_e28487fce8124d64850c5ae9ee7708a4 = L.map(\n                &quot;map_e28487fce8124d64850c5ae9ee7708a4&quot;,\n                {\n                    center: [37.718780413149965, -119.64038734429597],\n                    crs: L.CRS.EPSG3857,\n                    zoom: 11,\n                    zoomControl: true,\n                    preferCanvas: false,\n                }\n            );\n\n            \n\n        \n    \n            var tile_layer_94b62a32242e1537a4c541bbf8749f2b = L.tileLayer(\n                &quot;https://tile.openstreetmap.org/{z}/{x}/{y}.png&quot;,\n                {&quot;attribution&quot;: &quot;\\u0026copy; \\u003ca href=\\&quot;https://www.openstreetmap.org/copyright\\&quot;\\u003eOpenStreetMap\\u003c/a\\u003e contributors&quot;, &quot;detectRetina&quot;: false, &quot;maxNativeZoom&quot;: 19, &quot;maxZoom&quot;: 19, &quot;minZoom&quot;: 0, &quot;noWrap&quot;: false, &quot;opacity&quot;: 1, &quot;subdomains&quot;: &quot;abc&quot;, &quot;tms&quot;: false}\n            );\n        \n    \n            tile_layer_94b62a32242e1537a4c541bbf8749f2b.addTo(map_e28487fce8124d64850c5ae9ee7708a4);\n        \n    \n            var tile_layer_07c27ea0199cb09e6245e4cedebf485b = L.tileLayer(\n                &quot;https://server.arcgisonline.com/ArcGIS/rest/services/World_Imagery/MapServer/tile/{z}/{y}/{x}&quot;,\n                {&quot;attribution&quot;: &quot;Esri&quot;, &quot;detectRetina&quot;: false, &quot;maxNativeZoom&quot;: 18, &quot;maxZoom&quot;: 18, &quot;minZoom&quot;: 0, &quot;noWrap&quot;: false, &quot;opacity&quot;: 1, &quot;subdomains&quot;: &quot;abc&quot;, &quot;tms&quot;: false}\n            );\n        \n    \n            tile_layer_07c27ea0199cb09e6245e4cedebf485b.addTo(map_e28487fce8124d64850c5ae9ee7708a4);\n        \n    \n            var marker_c22e6e7cb8431474f9e3f0f75ed13c27 = L.marker(\n                [37.718780413149965, -119.64038734429597],\n                {}\n            ).addTo(map_e28487fce8124d64850c5ae9ee7708a4);\n        \n    \n            var icon_9a7f74fcc2576e2ded9b1d5906499bcb = L.AwesomeMarkers.icon(\n                {&quot;extraClasses&quot;: &quot;fa-rotate-0&quot;, &quot;icon&quot;: &quot;info-sign&quot;, &quot;iconColor&quot;: &quot;white&quot;, &quot;markerColor&quot;: &quot;red&quot;, &quot;prefix&quot;: &quot;glyphicon&quot;}\n            );\n            marker_c22e6e7cb8431474f9e3f0f75ed13c27.setIcon(icon_9a7f74fcc2576e2ded9b1d5906499bcb);\n        \n    \n        var popup_1b13f3bfdad14fbd982edcb5a1d49de5 = L.popup({&quot;maxWidth&quot;: &quot;100%&quot;});\n\n        \n            \n                var html_47c8d71b7abcec54d13be6d06fe7ce10 = $(`&lt;div id=&quot;html_47c8d71b7abcec54d13be6d06fe7ce10&quot; style=&quot;width: 100.0%; height: 100.0%;&quot;&gt;Last known location&lt;/div&gt;`)[0];\n                popup_1b13f3bfdad14fbd982edcb5a1d49de5.setContent(html_47c8d71b7abcec54d13be6d06fe7ce10);\n            \n        \n\n        marker_c22e6e7cb8431474f9e3f0f75ed13c27.bindPopup(popup_1b13f3bfdad14fbd982edcb5a1d49de5)\n        ;\n\n        \n    \n    \n            var circle_22aa16151b81c4bf026b4a96e0005b93 = L.circle(\n                [37.718780413149965, -119.64038734429597],\n                {&quot;bubblingMouseEvents&quot;: true, &quot;color&quot;: &quot;#3388ff&quot;, &quot;dashArray&quot;: null, &quot;dashOffset&quot;: null, &quot;fill&quot;: false, &quot;fillColor&quot;: &quot;#3388ff&quot;, &quot;fillOpacity&quot;: 0.2, &quot;fillRule&quot;: &quot;evenodd&quot;, &quot;lineCap&quot;: &quot;round&quot;, &quot;lineJoin&quot;: &quot;round&quot;, &quot;opacity&quot;: 1.0, &quot;radius&quot;: 43200.0, &quot;stroke&quot;: true, &quot;weight&quot;: 3}\n            ).addTo(map_e28487fce8124d64850c5ae9ee7708a4);\n        \n&lt;/script&gt;\n&lt;/html&gt;\" style=\"position:absolute;width:100%;height:100%;left:0;top:0;border:none !important;\" allowfullscreen webkitallowfullscreen mozallowfullscreen></iframe></div></div>"
     },
     "execution_count": 3,
     "metadata": {},
     "output_type": "execute_result"
    }
   ],
   "source": [
    "show_map(hiker,add_missing_radius=True,zoom=11,plot_origin=True)"
   ]
  },
  {
   "cell_type": "code",
   "execution_count": 4,
   "metadata": {},
   "outputs": [
    {
     "data": {
      "text/plain": "<folium.folium.Map at 0x7f29c30e1400>",
      "text/html": "<div style=\"width:100%;\"><div style=\"position:relative;width:100%;height:0;padding-bottom:60%;\"><span style=\"color:#565656\">Make this Notebook Trusted to load map: File -> Trust Notebook</span><iframe srcdoc=\"&lt;!DOCTYPE html&gt;\n&lt;html&gt;\n&lt;head&gt;\n    \n    &lt;meta http-equiv=&quot;content-type&quot; content=&quot;text/html; charset=UTF-8&quot; /&gt;\n    \n        &lt;script&gt;\n            L_NO_TOUCH = false;\n            L_DISABLE_3D = false;\n        &lt;/script&gt;\n    \n    &lt;style&gt;html, body {width: 100%;height: 100%;margin: 0;padding: 0;}&lt;/style&gt;\n    &lt;style&gt;#map {position:absolute;top:0;bottom:0;right:0;left:0;}&lt;/style&gt;\n    &lt;script src=&quot;https://cdn.jsdelivr.net/npm/leaflet@1.9.3/dist/leaflet.js&quot;&gt;&lt;/script&gt;\n    &lt;script src=&quot;https://code.jquery.com/jquery-3.7.1.min.js&quot;&gt;&lt;/script&gt;\n    &lt;script src=&quot;https://cdn.jsdelivr.net/npm/bootstrap@5.2.2/dist/js/bootstrap.bundle.min.js&quot;&gt;&lt;/script&gt;\n    &lt;script src=&quot;https://cdnjs.cloudflare.com/ajax/libs/Leaflet.awesome-markers/2.0.2/leaflet.awesome-markers.js&quot;&gt;&lt;/script&gt;\n    &lt;link rel=&quot;stylesheet&quot; href=&quot;https://cdn.jsdelivr.net/npm/leaflet@1.9.3/dist/leaflet.css&quot;/&gt;\n    &lt;link rel=&quot;stylesheet&quot; href=&quot;https://cdn.jsdelivr.net/npm/bootstrap@5.2.2/dist/css/bootstrap.min.css&quot;/&gt;\n    &lt;link rel=&quot;stylesheet&quot; href=&quot;https://netdna.bootstrapcdn.com/bootstrap/3.0.0/css/bootstrap.min.css&quot;/&gt;\n    &lt;link rel=&quot;stylesheet&quot; href=&quot;https://cdn.jsdelivr.net/npm/@fortawesome/fontawesome-free@6.2.0/css/all.min.css&quot;/&gt;\n    &lt;link rel=&quot;stylesheet&quot; href=&quot;https://cdnjs.cloudflare.com/ajax/libs/Leaflet.awesome-markers/2.0.2/leaflet.awesome-markers.css&quot;/&gt;\n    &lt;link rel=&quot;stylesheet&quot; href=&quot;https://cdn.jsdelivr.net/gh/python-visualization/folium/folium/templates/leaflet.awesome.rotate.min.css&quot;/&gt;\n    \n            &lt;meta name=&quot;viewport&quot; content=&quot;width=device-width,\n                initial-scale=1.0, maximum-scale=1.0, user-scalable=no&quot; /&gt;\n            &lt;style&gt;\n                #map_b1ce0d91c6c3dc3f6d971942e688440d {\n                    position: relative;\n                    width: 100.0%;\n                    height: 100.0%;\n                    left: 0.0%;\n                    top: 0.0%;\n                }\n                .leaflet-container { font-size: 1rem; }\n            &lt;/style&gt;\n        \n&lt;/head&gt;\n&lt;body&gt;\n    \n    \n            &lt;div class=&quot;folium-map&quot; id=&quot;map_b1ce0d91c6c3dc3f6d971942e688440d&quot; &gt;&lt;/div&gt;\n        \n&lt;/body&gt;\n&lt;script&gt;\n    \n    \n            var map_b1ce0d91c6c3dc3f6d971942e688440d = L.map(\n                &quot;map_b1ce0d91c6c3dc3f6d971942e688440d&quot;,\n                {\n                    center: [37.718780413149965, -119.64038734429597],\n                    crs: L.CRS.EPSG3857,\n                    zoom: 11,\n                    zoomControl: true,\n                    preferCanvas: false,\n                }\n            );\n\n            \n\n        \n    \n            var tile_layer_70f4db6ede2ce3af2d1126bbf98932d9 = L.tileLayer(\n                &quot;https://tile.openstreetmap.org/{z}/{x}/{y}.png&quot;,\n                {&quot;attribution&quot;: &quot;\\u0026copy; \\u003ca href=\\&quot;https://www.openstreetmap.org/copyright\\&quot;\\u003eOpenStreetMap\\u003c/a\\u003e contributors&quot;, &quot;detectRetina&quot;: false, &quot;maxNativeZoom&quot;: 19, &quot;maxZoom&quot;: 19, &quot;minZoom&quot;: 0, &quot;noWrap&quot;: false, &quot;opacity&quot;: 1, &quot;subdomains&quot;: &quot;abc&quot;, &quot;tms&quot;: false}\n            );\n        \n    \n            tile_layer_70f4db6ede2ce3af2d1126bbf98932d9.addTo(map_b1ce0d91c6c3dc3f6d971942e688440d);\n        \n    \n            var tile_layer_ae18c14082d0e0a6d555921b3845e1b5 = L.tileLayer(\n                &quot;https://server.arcgisonline.com/ArcGIS/rest/services/World_Imagery/MapServer/tile/{z}/{y}/{x}&quot;,\n                {&quot;attribution&quot;: &quot;Esri&quot;, &quot;detectRetina&quot;: false, &quot;maxNativeZoom&quot;: 18, &quot;maxZoom&quot;: 18, &quot;minZoom&quot;: 0, &quot;noWrap&quot;: false, &quot;opacity&quot;: 1, &quot;subdomains&quot;: &quot;abc&quot;, &quot;tms&quot;: false}\n            );\n        \n    \n            tile_layer_ae18c14082d0e0a6d555921b3845e1b5.addTo(map_b1ce0d91c6c3dc3f6d971942e688440d);\n        \n    \n            var marker_373453035661c82620136c01190be240 = L.marker(\n                [37.718780413149965, -119.64038734429597],\n                {}\n            ).addTo(map_b1ce0d91c6c3dc3f6d971942e688440d);\n        \n    \n            var icon_5742df528a1284cc76f17f212df51b0a = L.AwesomeMarkers.icon(\n                {&quot;extraClasses&quot;: &quot;fa-rotate-0&quot;, &quot;icon&quot;: &quot;info-sign&quot;, &quot;iconColor&quot;: &quot;white&quot;, &quot;markerColor&quot;: &quot;red&quot;, &quot;prefix&quot;: &quot;glyphicon&quot;}\n            );\n            marker_373453035661c82620136c01190be240.setIcon(icon_5742df528a1284cc76f17f212df51b0a);\n        \n    \n        var popup_9f47229e8071256f7bc10a2de2b839a7 = L.popup({&quot;maxWidth&quot;: &quot;100%&quot;});\n\n        \n            \n                var html_142194ff6e43f7ed799b1c7b0df3b2b2 = $(`&lt;div id=&quot;html_142194ff6e43f7ed799b1c7b0df3b2b2&quot; style=&quot;width: 100.0%; height: 100.0%;&quot;&gt;Last known location&lt;/div&gt;`)[0];\n                popup_9f47229e8071256f7bc10a2de2b839a7.setContent(html_142194ff6e43f7ed799b1c7b0df3b2b2);\n            \n        \n\n        marker_373453035661c82620136c01190be240.bindPopup(popup_9f47229e8071256f7bc10a2de2b839a7)\n        ;\n\n        \n    \n    \n            var circle_14383554f07f8330bd5c452b3ecdd628 = L.circle(\n                [37.718780413149965, -119.64038734429597],\n                {&quot;bubblingMouseEvents&quot;: true, &quot;color&quot;: &quot;#3388ff&quot;, &quot;dashArray&quot;: null, &quot;dashOffset&quot;: null, &quot;fill&quot;: false, &quot;fillColor&quot;: &quot;#3388ff&quot;, &quot;fillOpacity&quot;: 0.2, &quot;fillRule&quot;: &quot;evenodd&quot;, &quot;lineCap&quot;: &quot;round&quot;, &quot;lineJoin&quot;: &quot;round&quot;, &quot;opacity&quot;: 1.0, &quot;radius&quot;: 43200.0, &quot;stroke&quot;: true, &quot;weight&quot;: 3}\n            ).addTo(map_b1ce0d91c6c3dc3f6d971942e688440d);\n        \n    \n            var poly_line_c9efe0b632cb3205a0f27820e3b8b846 = L.polyline(\n                [[37.718780413149965, -119.64038734429597], [37.71746658171417, -119.64077409795368], [37.71821303594394, -119.64219456261543], [37.719283695393536, -119.64115713186484], [37.71980768176761, -119.63958566276989], [37.71870286849787, -119.64056419787569], [37.71889719453927, -119.64225177298576], [37.718690621991534, -119.64056652436489], [37.71758342524778, -119.641540729803], [37.7189008727367, -119.64190729875514], [37.71767615476493, -119.64262221800234], [37.71789811650548, -119.64094012215784], [37.718289506734095, -119.6425721125707], [37.71695554591155, -119.64231834236604], [37.718031774910145, -119.64334650440901], [37.71897441118137, -119.64456641306064], [37.7200385503454, -119.6435183049151], [37.72068347865736, -119.64501617870822], [37.719351067114694, -119.64528264756862], [37.719531305102606, -119.64359256102554], [37.720843444064066, -119.64398840172925], [37.72163113175675, -119.64260391571993], [37.7212756298218, -119.64424905270708], [37.72176762532268, -119.64266109977446], [37.7231033745119, -119.64289937822264], [37.72235377303001, -119.64431728530147], [37.72101591933196, -119.6445358773692], [37.722199251823845, -119.64535468013959], [37.721089002524295, -119.64632336351458], [37.72059716845296, -119.64473534520434], [37.72176731535355, -119.64558388971733], [37.72091855968263, -119.64425833911281], [37.7209895676157, -119.64596138673156], [37.7196881245667, -119.64551264568244], [37.72086845056058, -119.64468695114302], [37.71992150424407, -119.64347235787494], [37.7186259974794, -119.64299696250626], [37.7199267919296, -119.64344869271983], [37.719623759311, -119.6451104916705], [37.720806772878916, -119.64429096806998], [37.72154932042542, -119.64286717070577], [37.721885974904446, -119.64451863834344], [37.72194202578547, -119.64281467713039], [37.72253286994655, -119.6443478320652], [37.72348428323426, -119.64555687592524], [37.723717000769696, -119.64387697300322], [37.72376761098128, -119.64558124842266], [37.722468964867375, -119.6460427755726], [37.72366390394187, -119.64525135649721], [37.72440661380536, -119.6438276395349], [37.72574441280997, -119.64404677598377], [37.7270927058871, -119.64410121929664], [37.72781413172851, -119.64266004897257], [37.728068322372394, -119.64098502927516], [37.726719697066784, -119.64094589011214], [37.727095790919066, -119.63930796680314], [37.72797999983589, -119.64059605263031], [37.729320887695984, -119.64078259632963], [37.7300582574534, -119.64221085218668], [37.731081833335885, -119.64332181661969], [37.7324214320611, -119.64312100358285], [37.73253269580634, -119.64482086916398], [37.73223461736275, -119.64315735563108], [37.73274874370166, -119.64473429672209], [37.73360484198114, -119.64341610391118], [37.73231438956842, -119.64391307561485], [37.73284317081997, -119.64548225184453], [37.73315757646517, -119.64382353687871], [37.73184444039622, -119.64343295150229], [37.730723237551516, -119.64248452347029], [37.730493296424285, -119.64416519639532], [37.73109738111514, -119.6456902582875], [37.73012827449944, -119.64450376613324], [37.7312474434633, -119.64545601918464], [37.73005856886213, -119.64626198686025], [37.73113891345987, -119.64524056523359], [37.73025803759154, -119.64394877889589], [37.730993403447684, -119.64251885427834], [37.72966161551694, -119.6427902976197], [37.72831362910591, -119.64285576592684], [37.729626758438485, -119.6424651629693], [37.73089589848072, -119.64188708736788], [37.729551242971645, -119.64202355897605], [37.728973936907494, -119.64048203654517], [37.729467374117704, -119.64206943934457], [37.72831382393761, -119.6429536502686], [37.72925920517873, -119.64173697217298], [37.73060693007734, -119.64166339776258], [37.72936662541385, -119.64233410517446], [37.72805864512081, -119.64191679887212], [37.72730689297197, -119.64333297961146], [37.72700571304908, -119.64499548242848], [37.728344649968776, -119.64520322057177], [37.72740720375987, -119.64642965936574], [37.72798160278699, -119.64488643456276], [37.72696014210983, -119.64377240878562], [37.72659054948171, -119.64213212449538], [37.7275684097778, -119.64330702256062], [37.72632264914966, -119.64396133852064], [37.727620130785915, -119.64349458161517], [37.72857238823748, -119.64228651746738], [37.72860733658016, -119.64399153273746], [37.72881773847102, -119.64567624966126], [37.729336327464395, -119.64725078020643], [37.72867464554241, -119.64576445740181], [37.72999482717878, -119.645413908791], [37.73022032884359, -119.64709553170854], [37.7300627292788, -119.64540158818323], [37.73141147325836, -119.64536964663496], [37.73264330894584, -119.64467441632506], [37.73315932593983, -119.64309845411985], [37.73450722557361, -119.64303018487614], [37.73545190387348, -119.64424783732174], [37.73666152431929, -119.64349277520347], [37.735802716549955, -119.6448082014822], [37.73448649322938, -119.64443458537184], [37.73368108335731, -119.64306625547395], [37.73436634480092, -119.64159701218261], [37.733204659164144, -119.64246408650665], [37.7337862553603, -119.64092505625717], [37.73463064923327, -119.63959482971518], [37.735958238438364, -119.63929226659693], [37.73668967766322, -119.64072551755518], [37.735437860090606, -119.6413611644588], [37.736154238718974, -119.6428065166751], [37.73738752844241, -119.6421153756601], [37.7377608361908, -119.64047619771988], [37.73641348642221, -119.64056004752476], [37.736275819307814, -119.63886318695852], [37.73761746470718, -119.63904083010097], [37.73864705581193, -119.637938674917], [37.73823636254489, -119.63631383654635], [37.738667619507744, -119.63469753962131], [37.73926771174911, -119.63316979133445], [37.74052906162333, -119.63377458958256], [37.73934952980852, -119.63294686347557], [37.7392208909859, -119.63124880308027], [37.740354552683954, -119.63217335681496], [37.740281763465326, -119.63046998401916], [37.74018716105114, -119.62876832791916], [37.74150071335383, -119.62915671301376], [37.74109170030156, -119.63078229162234], [37.74194475136934, -119.62946079531848], [37.74083650486042, -119.63043339665262], [37.73969896057874, -119.63135029885876], [37.73915441939177, -119.62978961927934], [37.74034675593232, -119.62899177127498], [37.74053063984525, -119.6306817091267], [37.73924290782206, -119.63017353348147], [37.74038445712945, -119.6310824357169], [37.74172816472738, -119.63093175375523], [37.74254150853029, -119.62957079979525], [37.741212146598194, -119.62928092294722], [37.741166709520236, -119.62757601287089], [37.739821049350304, -119.62769562693619], [37.73924973494631, -119.62924092815945], [37.73956151986294, -119.62758127891327], [37.74052183362224, -119.62638325934908], [37.741863295449704, -119.62620340288355], [37.74096849484852, -119.62747998230594], [37.74220161760855, -119.62817164448242], [37.74137545740233, -119.626823098616], [37.74004323761733, -119.62655502691877], [37.739955296092184, -119.62825724882369], [37.73863306030256, -119.6279192579151], [37.738147883371596, -119.62632759284693], [37.73722500004555, -119.62757172707653], [37.736214434122644, -119.62644178835235], [37.737211687114446, -119.62759048364423], [37.73777324855717, -119.62914144817107], [37.738331473046976, -119.63069434941691], [37.73933536844304, -119.62955491032676], [37.73822328975151, -119.6285893633442], [37.73687773940037, -119.6284677946107], [37.736593289400695, -119.63013521672843], [37.73794090713432, -119.63005856086636], [37.73701441863467, -119.63129839973105], [37.73621198403198, -119.62992723103791], [37.73519583116021, -119.63104911423463], [37.73654471307822, -119.63102848798823], [37.735425109650976, -119.63197999228413], [37.73614679238492, -119.63053886541728], [37.73743408535914, -119.63104879540195], [37.73640900682975, -119.62993995297296], [37.737280271592404, -119.62863767986224], [37.736660657163355, -119.62712248491292], [37.73756768842468, -119.62585985730655], [37.73631427799766, -119.62522924172491], [37.73638013579815, -119.62693297416459], [37.73511428272989, -119.62634344582047], [37.73477343696492, -119.62469305811031], [37.73493046500463, -119.62638719425455], [37.73623330738054, -119.62594489945641], [37.736456687406694, -119.62762711670564], [37.735459403603755, -119.62877575751195], [37.7363820305546, -119.62753134895374], [37.735060041181136, -119.627191836603], [37.73381534554606, -119.62784945096918], [37.73273802097115, -119.62887599646966], [37.73212992009163, -119.6303985382234], [37.73326501308567, -119.6294768852033], [37.73296584781955, -119.63114010323008], [37.73240347132369, -119.62958971166844], [37.73188181964136, -119.62801673416433], [37.73142014686902, -119.62961939317393], [37.73137354778888, -119.63132402760809], [37.730379179009105, -119.63017143221774], [37.7298028013707, -119.62862933724527], [37.7311496719373, -119.62853397719716], [37.73248241606975, -119.62879781647102], [37.73141149943304, -119.62983500770717], [37.730071737723435, -119.63003407212167], [37.73047624112226, -119.6284069322709], [37.72918457269661, -119.62791505786015], [37.72783743151391, -119.62800409503608], [37.7289196407148, -119.62698586440294], [37.727571116323034, -119.6270302153747], [37.728358633253144, -119.625645448338], [37.7294025805963, -119.62456523770244], [37.728896813269166, -119.62614642314801], [37.72931948637942, -119.62776613741651], [37.72889583080605, -119.6293854412956], [37.72972516248063, -119.63073064379404], [37.72981872729222, -119.63243215116903], [37.72917982286628, -119.63393433053868], [37.729946584894556, -119.63533762402355], [37.731202759314684, -119.635959330116], [37.73003673099471, -119.63681699749927], [37.729678084247944, -119.63517276526142], [37.730713616489744, -119.63407966351163], [37.73177292768852, -119.63513572635128], [37.731316336739, -119.63353074384094], [37.730870096788344, -119.63192112351427], [37.73137590621205, -119.63350232956803], [37.730026935769416, -119.63349572838307], [37.73081440535675, -119.63211087238481], [37.73196439301305, -119.63121924388122], [37.73315929380113, -119.63042763092496], [37.73181037481239, -119.63044392547268], [37.73299983886711, -119.63124852059488], [37.731872464720375, -119.63031184649432], [37.73254829687837, -119.63178802014214], [37.731205622623854, -119.6319527545601], [37.729998433652895, -119.63119155203515], [37.73124597280895, -119.63184046089822], [37.73242923910888, -119.63265952967342], [37.732100909769436, -119.63100514969565], [37.73328607313172, -119.63181983111701], [37.73445562574462, -119.63096983250352], [37.73506536569641, -119.62944829132638], [37.73401882453297, -119.63052456450592], [37.734946627993075, -119.62928634903358], [37.73359822760026, -119.62933636907381], [37.73494041003333, -119.62950739654148], [37.73563407392926, -119.62804444597447], [37.736980810368756, -119.62794609639938], [37.73603139013541, -119.62673433011702], [37.73657439023308, -119.6282958021769], [37.73548824519059, -119.62930741592545], [37.73516749900653, -119.62765059085763], [37.73408545763707, -119.62866919252123], [37.73541387616943, -119.62896587635392], [37.73417696110934, -119.62828519130767], [37.73449910296723, -119.62662882138159], [37.73503574302202, -119.6250638701052], [37.735470701206964, -119.62344922961118], [37.73488217182246, -119.62191438418479], [37.73397940866281, -119.62318184739134], [37.734460522054704, -119.62158830097152], [37.7333501407379, -119.62255690281476], [37.73205391003215, -119.62208458616884], [37.73153223392876, -119.62365754329868], [37.731929371034894, -119.62202747307684], [37.730785166872764, -119.62112402796433], [37.73149970849786, -119.62257074244884], [37.73016504769784, -119.6223228796094], [37.730225916923324, -119.62061899211693], [37.731533648405694, -119.62020042886469], [37.73288249243224, -119.62017616315096], [37.732503792505646, -119.62181325421088], [37.73359366230033, -119.62080810664852], [37.734468177835176, -119.62210684173222], [37.735625735330515, -119.62298271348205], [37.73669343542264, -119.62194017477724], [37.73632750873836, -119.62358198823033], [37.737670956256586, -119.62342765083436], [37.73636178917249, -119.62301629058456], [37.73505367698681, -119.62259960633078], [37.73621493984052, -119.62173160534628]],\n                {&quot;bubblingMouseEvents&quot;: true, &quot;color&quot;: &quot;red&quot;, &quot;dashArray&quot;: null, &quot;dashOffset&quot;: null, &quot;fill&quot;: false, &quot;fillColor&quot;: &quot;red&quot;, &quot;fillOpacity&quot;: 0.2, &quot;fillRule&quot;: &quot;evenodd&quot;, &quot;lineCap&quot;: &quot;round&quot;, &quot;lineJoin&quot;: &quot;round&quot;, &quot;noClip&quot;: false, &quot;opacity&quot;: 1.0, &quot;smoothFactor&quot;: 1.0, &quot;stroke&quot;: true, &quot;weight&quot;: 3}\n            ).addTo(map_b1ce0d91c6c3dc3f6d971942e688440d);\n        \n    \n            poly_line_c9efe0b632cb3205a0f27820e3b8b846.bindTooltip(\n                `&lt;div&gt;\n                     trail\n                 &lt;/div&gt;`,\n                {&quot;sticky&quot;: true}\n            );\n        \n&lt;/script&gt;\n&lt;/html&gt;\" style=\"position:absolute;width:100%;height:100%;left:0;top:0;border:none !important;\" allowfullscreen webkitallowfullscreen mozallowfullscreen></iframe></div></div>"
     },
     "execution_count": 4,
     "metadata": {},
     "output_type": "execute_result"
    }
   ],
   "source": [
    "trails=random_walk_simple(hiker)\n",
    "show_map(hiker,trail=trails[0],add_missing_radius=True,zoom=11,plot_origin=True)"
   ]
  },
  {
   "cell_type": "code",
   "execution_count": null,
   "metadata": {
    "pycharm": {
     "is_executing": true
    }
   },
   "outputs": [
    {
     "name": "stdout",
     "output_type": "stream",
     "text": [
      "Total latitude points in the grid =600\n",
      "Total longitude points in the grid =600\n",
      "Querying elevation data for grid size=360600 100-batch queries=3606 grid_N=600 (grid_N^2= 360000 ) \n",
      "Getting 1731.0 /3606 next batch\n",
      "Got 0.499 valid elevation data (N=1) from query 1731.0\n",
      "Getting 1801.0 /3606 next batch\n",
      "Got 0.500 valid elevation data (N=100) from query 1801.0\n",
      "Getting 1802.0 /3606 next batch\n",
      "Got 0.500 valid elevation data (N=100) from query 1802.0\n",
      "Getting 1803.0 /3606 next batch\n",
      "Got 0.500 valid elevation data (N=100) from query 1803.0\n",
      "Getting 1804.0 /3606 next batch\n",
      "Got 0.501 valid elevation data (N=100) from query 1804.0\n",
      "Getting 1805.0 /3606 next batch\n",
      "Got 0.501 valid elevation data (N=100) from query 1805.0\n",
      "Getting 1806.0 /3606 next batch\n",
      "Got 0.501 valid elevation data (N=100) from query 1806.0\n",
      "Getting 1807.0 /3606 next batch\n",
      "Got 0.501 valid elevation data (N=100) from query 1807.0\n",
      "Getting 1808.0 /3606 next batch\n",
      "Got 0.502 valid elevation data (N=100) from query 1808.0\n",
      "Getting 1809.0 /3606 next batch\n",
      "Got 0.502 valid elevation data (N=100) from query 1809.0\n",
      "Getting 1810.0 /3606 next batch\n",
      "Got 0.502 valid elevation data (N=100) from query 1810.0\n",
      "Getting 1811.0 /3606 next batch\n",
      "Got 0.502 valid elevation data (N=100) from query 1811.0\n",
      "Getting 1812.0 /3606 next batch\n",
      "Got 0.503 valid elevation data (N=100) from query 1812.0\n",
      "Getting 1813.0 /3606 next batch\n",
      "Got 0.503 valid elevation data (N=100) from query 1813.0\n",
      "Getting 1814.0 /3606 next batch\n",
      "Got 0.503 valid elevation data (N=100) from query 1814.0\n",
      "Getting 1815.0 /3606 next batch\n",
      "Got 0.504 valid elevation data (N=100) from query 1815.0\n",
      "Getting 1816.0 /3606 next batch\n",
      "Got 0.504 valid elevation data (N=100) from query 1816.0\n",
      "Getting 1817.0 /3606 next batch\n",
      "Got 0.504 valid elevation data (N=100) from query 1817.0\n",
      "Getting 1818.0 /3606 next batch\n",
      "Got 0.504 valid elevation data (N=100) from query 1818.0\n",
      "Getting 1819.0 /3606 next batch\n",
      "Got 0.505 valid elevation data (N=100) from query 1819.0\n",
      "Getting 1820.0 /3606 next batch\n",
      "Got 0.505 valid elevation data (N=100) from query 1820.0\n",
      "Getting 1821.0 /3606 next batch\n",
      "Got 0.505 valid elevation data (N=100) from query 1821.0\n",
      "Getting 1822.0 /3606 next batch\n",
      "Got 0.506 valid elevation data (N=100) from query 1822.0\n",
      "Getting 1823.0 /3606 next batch\n",
      "Got 0.506 valid elevation data (N=100) from query 1823.0\n",
      "Getting 1824.0 /3606 next batch\n",
      "Got 0.506 valid elevation data (N=100) from query 1824.0\n",
      "Getting 1825.0 /3606 next batch\n",
      "Got 0.506 valid elevation data (N=100) from query 1825.0\n",
      "Getting 1826.0 /3606 next batch\n",
      "Got 0.507 valid elevation data (N=100) from query 1826.0\n",
      "Getting 1827.0 /3606 next batch\n",
      "Got 0.507 valid elevation data (N=100) from query 1827.0\n",
      "Getting 1828.0 /3606 next batch\n",
      "Got 0.507 valid elevation data (N=100) from query 1828.0\n",
      "Getting 1829.0 /3606 next batch\n",
      "Got 0.507 valid elevation data (N=100) from query 1829.0\n",
      "Getting 1830.0 /3606 next batch\n",
      "Got 0.508 valid elevation data (N=100) from query 1830.0\n",
      "Getting 1831.0 /3606 next batch\n",
      "Got 0.508 valid elevation data (N=100) from query 1831.0\n",
      "Getting 1832.0 /3606 next batch\n",
      "Got 0.508 valid elevation data (N=100) from query 1832.0\n",
      "Getting 1833.0 /3606 next batch\n",
      "Got 0.509 valid elevation data (N=100) from query 1833.0\n",
      "Getting 1834.0 /3606 next batch\n",
      "Got 0.509 valid elevation data (N=100) from query 1834.0\n",
      "Getting 1835.0 /3606 next batch\n",
      "Got 0.509 valid elevation data (N=100) from query 1835.0\n",
      "Getting 1836.0 /3606 next batch\n",
      "Got 0.509 valid elevation data (N=100) from query 1836.0\n",
      "Getting 1837.0 /3606 next batch\n",
      "Got 0.510 valid elevation data (N=100) from query 1837.0\n",
      "Getting 1838.0 /3606 next batch\n",
      "Got 0.510 valid elevation data (N=100) from query 1838.0\n",
      "Getting 1839.0 /3606 next batch\n",
      "Got 0.510 valid elevation data (N=100) from query 1839.0\n",
      "Getting 1840.0 /3606 next batch\n",
      "Got 0.511 valid elevation data (N=100) from query 1840.0\n",
      "Getting 1841.0 /3606 next batch\n",
      "Got 0.511 valid elevation data (N=100) from query 1841.0\n",
      "Getting 1842.0 /3606 next batch\n",
      "Got 0.511 valid elevation data (N=100) from query 1842.0\n",
      "Getting 1843.0 /3606 next batch\n",
      "Got 0.511 valid elevation data (N=100) from query 1843.0\n",
      "Getting 1844.0 /3606 next batch\n",
      "Got 0.512 valid elevation data (N=100) from query 1844.0\n",
      "Getting 1845.0 /3606 next batch\n",
      "Got 0.512 valid elevation data (N=100) from query 1845.0\n",
      "Getting 1846.0 /3606 next batch\n",
      "Got 0.512 valid elevation data (N=100) from query 1846.0\n",
      "Getting 1847.0 /3606 next batch\n",
      "Got 0.512 valid elevation data (N=100) from query 1847.0\n",
      "Getting 1848.0 /3606 next batch\n",
      "Got 0.513 valid elevation data (N=100) from query 1848.0\n",
      "Getting 1849.0 /3606 next batch\n",
      "Got 0.513 valid elevation data (N=100) from query 1849.0\n",
      "Getting 1850.0 /3606 next batch\n",
      "Got 0.513 valid elevation data (N=100) from query 1850.0\n"
     ]
    }
   ],
   "source": [
    "grid,xy_grid=get_elevation_grid(hiker,grid_range=6000,grid_resolution=10,recache=True)\n",
    "#show_map(hiker,trail=None, add_missing_radius=False, zoom=14, sims=None, trail_points=False,trail_heat=False, grid=grid, probs=None, trail_enumerate=False, plot_origin=True, probs_point=True)"
   ]
  },
  {
   "cell_type": "code",
   "execution_count": null,
   "outputs": [],
   "source": [
    "def random_walk_with_elevation2(hiker, N=1, end_point_only=True, xy_grid=None,verbose=False):\n",
    "    '''\n",
    "        Assumptions:\n",
    "        1. Velocity is a function of elevation\n",
    "        2. Hiker cannot go beyond a positive elevation limit (will try another direction before yielding an iteration)\n",
    "        3. If Hiker goes beyond a negative elevation limit it will stay there (terminal point, simulating a fall)\n",
    "    '''\n",
    "    distance5min = hiker.max_speed * 60 * 5  # Speed in m/5 minutes\n",
    "    trails = []\n",
    "    max_grad = 10 * 2 * np.pi / 180  # Assuming max 45 deg climbing gradient\n",
    "    fall_grad = -30 * 2 * np.pi / 180  # Assuming max 45 deg climbing gradient\n",
    "    maxg = 0\n",
    "    for n in range(N):\n",
    "        trail = [hiker.loc]\n",
    "        terminate = False\n",
    "        t = 0\n",
    "        while t < (12 * hiker.hours_missing):\n",
    "            trail.append(new_loc)\n",
    "            t += 1\n",
    "            if terminate:\n",
    "                break\n",
    "        if end_point_only:\n",
    "            trails.append(trail[-1])\n",
    "        else:\n",
    "            trails.append(trail)\n",
    "    return trails"
   ],
   "metadata": {
    "collapsed": false,
    "pycharm": {
     "is_executing": true
    }
   }
  },
  {
   "cell_type": "code",
   "execution_count": null,
   "outputs": [],
   "source": [
    "#xy_grid\n",
    "long_map=grid[['longitude','east_offset']].drop_duplicates()\n",
    "lat_map=grid[['latitude','south_offset']].drop_duplicates()\n",
    "#print(grid.south_offset.nunique())\n",
    "#print(grid.east_offset.nunique())\n",
    "print(grid.latitude.unique())\n",
    "#print(grid.longitude.nunique())"
   ],
   "metadata": {
    "collapsed": false,
    "pycharm": {
     "is_executing": true
    }
   }
  },
  {
   "cell_type": "code",
   "execution_count": null,
   "metadata": {
    "pycharm": {
     "is_executing": true
    }
   },
   "outputs": [],
   "source": [
    "trails=random_walk_with_elevation(hiker,N=1000,end_point_only=True,xy_grid=xy_grid,grid=grid)\n",
    "data=pd.DataFrame(np.squeeze(np.array(trails)),columns=['latitude','longitude'])\n",
    "print(data)\n",
    "os.sys.exit()\n",
    "#show_map(hiker,add_missing_radius=True,zoom=12,sims=data,trail_points=False)"
   ]
  },
  {
   "cell_type": "code",
   "execution_count": null,
   "metadata": {
    "pycharm": {
     "is_executing": true
    }
   },
   "outputs": [],
   "source": [
    "#df_elevation=get_elevation_grid(hiker.loc)\n",
    "#df_elevation=pd.read_csv('elevation.csv')\n",
    "#df_elevation=df_elevation.dropna(subset='elev_meters')\n",
    "#df_elevation['point'] = [(x, y) for x,y in zip(df_elevation['latitude'],df_elevation['longitude'])]\n",
    "center = grid.loc[np.argmin((hiker.loc[0]-grid['latitude'])**2 + (hiker.loc[1]-grid['longitude'])**2)]\n",
    "center_elev=xy_grid.loc[center.south_offset,center.east_offset]\n",
    "#Check if elevation is within hiker limits, if so, continue path\n",
    "\n",
    "center = grid.loc[np.argmin((hiker.loc[0]-grid['latitude'])**2 + (hiker.loc[1]-grid['longitude'])**2)]\n",
    "center_elev=xy_grid.loc[center.south_offset,center.east_offset]\n",
    "#Check if elevation is within hiker limits, if so, continue path"
   ]
  },
  {
   "cell_type": "code",
   "execution_count": null,
   "metadata": {
    "pycharm": {
     "is_executing": true
    }
   },
   "outputs": [],
   "source": [
    "trails=radom_walk_simple(hiker,N=1000,end_point_only=True)\n",
    "sims=pd.DataFrame(np.squeeze(np.array(trails)),columns=['latitude','longitude'])\n",
    "show_map(hiker,add_missing_radius=True,zoom=15,sims=data,trail_points=True)"
   ]
  },
  {
   "cell_type": "code",
   "execution_count": null,
   "metadata": {
    "pycharm": {
     "is_executing": true
    }
   },
   "outputs": [],
   "source": [
    "show_map(hiker,add_missing_radius=True,zoom=15,sims=data,trail_points=True)"
   ]
  },
  {
   "cell_type": "markdown",
   "metadata": {},
   "source": [
    "## Define Rescue Efforts"
   ]
  },
  {
   "cell_type": "markdown",
   "metadata": {},
   "source": [
    "### Create Rescue Grid & Probability Prior from simulations"
   ]
  },
  {
   "cell_type": "code",
   "execution_count": null,
   "metadata": {
    "pycharm": {
     "is_executing": true
    }
   },
   "outputs": [],
   "source": [
    "rescue_grid=get_rescue_grid(hiker,grid_range=3500,grid_resolution=100,simulation_data=data)"
   ]
  },
  {
   "cell_type": "code",
   "execution_count": null,
   "metadata": {
    "pycharm": {
     "is_executing": true
    }
   },
   "outputs": [],
   "source": [
    "show_map(hiker,probs=rescue_grid)#,sims=data,trail_points=True,trail_heat=False)"
   ]
  },
  {
   "cell_type": "markdown",
   "metadata": {},
   "source": [
    "### Create a rescue plan, evaluate probability of sucess, and update probability posterior"
   ]
  },
  {
   "cell_type": "code",
   "execution_count": null,
   "metadata": {
    "pycharm": {
     "is_executing": true
    }
   },
   "outputs": [],
   "source": [
    "# Define rescure properties\n",
    "@dataclass\n",
    "class Rescuer:\n",
    "    max_grid_points: int  #Number of grid points the rescuer can traverse\n",
    "    prob_find: float #Probability of find hiker if the hiker is in the same grid point as the rescuer\n",
    "    \n",
    "rescuer=Rescuer(max_grid_points=15,prob_find=0.999)\n",
    "rescue_plan,p=greedy_search(rescuer,rescue_grid,sims=data)\n",
    "print(\"Probabiliy of rescue=%0.3f\"%p)\n",
    "show_map(hiker,trail=rescue_plan,probs=rescue_grid,trail_enumerate=True,plot_origin=False,zoom=15)\n"
   ]
  },
  {
   "cell_type": "code",
   "execution_count": null,
   "metadata": {
    "pycharm": {
     "is_executing": true
    }
   },
   "outputs": [],
   "source": [
    "rescue_grid_post=get_post_rescue_grid(rescue_grid, rescue_plan)\n",
    "show_map(hiker,probs=rescue_grid_post,probs_point=False)"
   ]
  },
  {
   "cell_type": "code",
   "execution_count": null,
   "metadata": {
    "pycharm": {
     "is_executing": true
    }
   },
   "outputs": [],
   "source": [
    "attempts=2000\n",
    "rescue_grid_post=rescue_grid.copy()\n",
    "start_at=rescue_grid.iloc[rescue_grid['prob'].idxmax()].copy().to_frame().T.reset_index(drop=True)\n",
    "for i in range(attempts):\n",
    "    rescue_plan,p=greedy_search(rescuer,rescue_grid_post,sims=data,start_at=start_at)\n",
    "    if not i%500:\n",
    "        print(\"%s: Probabiliy of rescue=%0.3f\"%(i,p))\n",
    "    rescue_grid_post=get_post_rescue_grid(rescue_grid_post, rescue_plan)\n",
    "\n",
    "show_map(hiker,probs=rescue_grid_post,probs_point=False,zoom=15,trail=rescue_plan,\n",
    "         trail_enumerate=False,plot_origin=False)\n"
   ]
  },
  {
   "cell_type": "code",
   "execution_count": null,
   "metadata": {
    "pycharm": {
     "is_executing": true
    }
   },
   "outputs": [],
   "source": [
    "show_map(hiker,probs=rescue_grid,probs_point=False)"
   ]
  },
  {
   "cell_type": "markdown",
   "metadata": {},
   "source": [
    "# Conclusion"
   ]
  },
  {
   "cell_type": "markdown",
   "metadata": {},
   "source": [
    "In summary we have looked into Python function closure's and how to use them to avoid nested loop. We used a function closure to store information about the list size of each for loop, allowing us to create a 1D linear indexing that can be iterated with a single for loop instead. This function closure can  then be used to perform parameter optimization either through systematic grid search or random search iterations.\n",
    "\n",
    "This approach allows for more readable and extensible code when compared with nested for loops.\n",
    "\n",
    "\n"
   ]
  },
  {
   "cell_type": "code",
   "execution_count": null,
   "metadata": {
    "pycharm": {
     "is_executing": true
    }
   },
   "outputs": [],
   "source": []
  }
 ],
 "metadata": {
  "kernelspec": {
   "display_name": "Python 3 (ipykernel)",
   "language": "python",
   "name": "python3"
  },
  "language_info": {
   "codemirror_mode": {
    "name": "ipython",
    "version": 3
   },
   "file_extension": ".py",
   "mimetype": "text/x-python",
   "name": "python",
   "nbconvert_exporter": "python",
   "pygments_lexer": "ipython3",
   "version": "3.8.10"
  }
 },
 "nbformat": 4,
 "nbformat_minor": 1
}
