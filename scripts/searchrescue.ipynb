{
 "cells": [
  {
   "cell_type": "code",
   "execution_count": 1,
   "metadata": {},
   "outputs": [
    {
     "name": "stdout",
     "output_type": "stream",
     "text": [
      "Requirement already satisfied: folium in /usr/local/lib/python3.8/dist-packages (0.15.1)\r\n",
      "Requirement already satisfied: haversine in /usr/local/lib/python3.8/dist-packages (2.8.0)\r\n",
      "Requirement already satisfied: branca>=0.6.0 in /usr/local/lib/python3.8/dist-packages (from folium) (0.7.0)\r\n",
      "Requirement already satisfied: requests in /usr/local/lib/python3.8/dist-packages (from folium) (2.28.2)\r\n",
      "Requirement already satisfied: xyzservices in /usr/local/lib/python3.8/dist-packages (from folium) (2023.10.1)\r\n",
      "Requirement already satisfied: numpy in /usr/local/lib/python3.8/dist-packages (from folium) (1.23.4)\r\n",
      "Requirement already satisfied: jinja2>=2.9 in /usr/local/lib/python3.8/dist-packages (from folium) (3.1.2)\r\n",
      "Requirement already satisfied: MarkupSafe>=2.0 in /usr/local/lib/python3.8/dist-packages (from jinja2>=2.9->folium) (2.1.1)\r\n",
      "Requirement already satisfied: charset-normalizer<4,>=2 in /usr/local/lib/python3.8/dist-packages (from requests->folium) (3.0.1)\r\n",
      "Requirement already satisfied: urllib3<1.27,>=1.21.1 in /usr/lib/python3/dist-packages (from requests->folium) (1.25.8)\r\n",
      "Requirement already satisfied: certifi>=2017.4.17 in /usr/lib/python3/dist-packages (from requests->folium) (2019.11.28)\r\n",
      "Requirement already satisfied: idna<4,>=2.5 in /usr/lib/python3/dist-packages (from requests->folium) (2.8)\r\n",
      "\u001B[33mWARNING: Running pip as the 'root' user can result in broken permissions and conflicting behaviour with the system package manager. It is recommended to use a virtual environment instead: https://pip.pypa.io/warnings/venv\u001B[0m\u001B[33m\r\n",
      "\u001B[0m\r\n",
      "\u001B[1m[\u001B[0m\u001B[34;49mnotice\u001B[0m\u001B[1;39;49m]\u001B[0m\u001B[39;49m A new release of pip is available: \u001B[0m\u001B[31;49m23.0.1\u001B[0m\u001B[39;49m -> \u001B[0m\u001B[32;49m23.3.2\u001B[0m\r\n",
      "\u001B[1m[\u001B[0m\u001B[34;49mnotice\u001B[0m\u001B[1;39;49m]\u001B[0m\u001B[39;49m To update, run: \u001B[0m\u001B[32;49mpython3 -m pip install --upgrade pip\u001B[0m\r\n"
     ]
    }
   ],
   "source": [
    "!pip install folium haversine\n",
    "import sys,os\n",
    "sys.path.append('/ikaro/PycharmProjects/medium/scripts')\n",
    "import numpy as np\n",
    "from dataclasses import dataclass,field\n",
    "import pandas as pd\n",
    "from searchrescue import show_map, random_walk_simple,random_walk_with_elevation, get_elevation_grid\n",
    "\n",
    "%matplotlib inline\n",
    "%config InlineBackend.figure_format = 'svg'"
   ]
  },
  {
   "cell_type": "code",
   "execution_count": 2,
   "metadata": {
    "scrolled": true
   },
   "outputs": [
    {
     "data": {
      "text/plain": "<folium.folium.Map at 0x7f58903c4c10>",
      "text/html": "<div style=\"width:100%;\"><div style=\"position:relative;width:100%;height:0;padding-bottom:60%;\"><span style=\"color:#565656\">Make this Notebook Trusted to load map: File -> Trust Notebook</span><iframe srcdoc=\"&lt;!DOCTYPE html&gt;\n&lt;html&gt;\n&lt;head&gt;\n    \n    &lt;meta http-equiv=&quot;content-type&quot; content=&quot;text/html; charset=UTF-8&quot; /&gt;\n    \n        &lt;script&gt;\n            L_NO_TOUCH = false;\n            L_DISABLE_3D = false;\n        &lt;/script&gt;\n    \n    &lt;style&gt;html, body {width: 100%;height: 100%;margin: 0;padding: 0;}&lt;/style&gt;\n    &lt;style&gt;#map {position:absolute;top:0;bottom:0;right:0;left:0;}&lt;/style&gt;\n    &lt;script src=&quot;https://cdn.jsdelivr.net/npm/leaflet@1.9.3/dist/leaflet.js&quot;&gt;&lt;/script&gt;\n    &lt;script src=&quot;https://code.jquery.com/jquery-3.7.1.min.js&quot;&gt;&lt;/script&gt;\n    &lt;script src=&quot;https://cdn.jsdelivr.net/npm/bootstrap@5.2.2/dist/js/bootstrap.bundle.min.js&quot;&gt;&lt;/script&gt;\n    &lt;script src=&quot;https://cdnjs.cloudflare.com/ajax/libs/Leaflet.awesome-markers/2.0.2/leaflet.awesome-markers.js&quot;&gt;&lt;/script&gt;\n    &lt;link rel=&quot;stylesheet&quot; href=&quot;https://cdn.jsdelivr.net/npm/leaflet@1.9.3/dist/leaflet.css&quot;/&gt;\n    &lt;link rel=&quot;stylesheet&quot; href=&quot;https://cdn.jsdelivr.net/npm/bootstrap@5.2.2/dist/css/bootstrap.min.css&quot;/&gt;\n    &lt;link rel=&quot;stylesheet&quot; href=&quot;https://netdna.bootstrapcdn.com/bootstrap/3.0.0/css/bootstrap.min.css&quot;/&gt;\n    &lt;link rel=&quot;stylesheet&quot; href=&quot;https://cdn.jsdelivr.net/npm/@fortawesome/fontawesome-free@6.2.0/css/all.min.css&quot;/&gt;\n    &lt;link rel=&quot;stylesheet&quot; href=&quot;https://cdnjs.cloudflare.com/ajax/libs/Leaflet.awesome-markers/2.0.2/leaflet.awesome-markers.css&quot;/&gt;\n    &lt;link rel=&quot;stylesheet&quot; href=&quot;https://cdn.jsdelivr.net/gh/python-visualization/folium/folium/templates/leaflet.awesome.rotate.min.css&quot;/&gt;\n    \n            &lt;meta name=&quot;viewport&quot; content=&quot;width=device-width,\n                initial-scale=1.0, maximum-scale=1.0, user-scalable=no&quot; /&gt;\n            &lt;style&gt;\n                #map_d1e45e53406df9e5c9b1881fa5e560b6 {\n                    position: relative;\n                    width: 100.0%;\n                    height: 100.0%;\n                    left: 0.0%;\n                    top: 0.0%;\n                }\n                .leaflet-container { font-size: 1rem; }\n            &lt;/style&gt;\n        \n&lt;/head&gt;\n&lt;body&gt;\n    \n    \n            &lt;div class=&quot;folium-map&quot; id=&quot;map_d1e45e53406df9e5c9b1881fa5e560b6&quot; &gt;&lt;/div&gt;\n        \n&lt;/body&gt;\n&lt;script&gt;\n    \n    \n            var map_d1e45e53406df9e5c9b1881fa5e560b6 = L.map(\n                &quot;map_d1e45e53406df9e5c9b1881fa5e560b6&quot;,\n                {\n                    center: [37.718780413149965, -119.64038734429597],\n                    crs: L.CRS.EPSG3857,\n                    zoom: 15,\n                    zoomControl: true,\n                    preferCanvas: false,\n                }\n            );\n\n            \n\n        \n    \n            var tile_layer_0db40597ef38112ec37bf74a8f230bcb = L.tileLayer(\n                &quot;https://tile.openstreetmap.org/{z}/{x}/{y}.png&quot;,\n                {&quot;attribution&quot;: &quot;\\u0026copy; \\u003ca href=\\&quot;https://www.openstreetmap.org/copyright\\&quot;\\u003eOpenStreetMap\\u003c/a\\u003e contributors&quot;, &quot;detectRetina&quot;: false, &quot;maxNativeZoom&quot;: 19, &quot;maxZoom&quot;: 19, &quot;minZoom&quot;: 0, &quot;noWrap&quot;: false, &quot;opacity&quot;: 1, &quot;subdomains&quot;: &quot;abc&quot;, &quot;tms&quot;: false}\n            );\n        \n    \n            tile_layer_0db40597ef38112ec37bf74a8f230bcb.addTo(map_d1e45e53406df9e5c9b1881fa5e560b6);\n        \n    \n            var tile_layer_1d50f1923d81bdcbf0c37cb91a0dcb31 = L.tileLayer(\n                &quot;https://server.arcgisonline.com/ArcGIS/rest/services/World_Imagery/MapServer/tile/{z}/{y}/{x}&quot;,\n                {&quot;attribution&quot;: &quot;Esri&quot;, &quot;detectRetina&quot;: false, &quot;maxNativeZoom&quot;: 18, &quot;maxZoom&quot;: 18, &quot;minZoom&quot;: 0, &quot;noWrap&quot;: false, &quot;opacity&quot;: 1, &quot;subdomains&quot;: &quot;abc&quot;, &quot;tms&quot;: false}\n            );\n        \n    \n            tile_layer_1d50f1923d81bdcbf0c37cb91a0dcb31.addTo(map_d1e45e53406df9e5c9b1881fa5e560b6);\n        \n    \n            var marker_9dd5cadd9084615441109ba72a5a311f = L.marker(\n                [37.718780413149965, -119.64038734429597],\n                {}\n            ).addTo(map_d1e45e53406df9e5c9b1881fa5e560b6);\n        \n    \n            var icon_637fe4dc2b22ef0bc873b557a3598f1d = L.AwesomeMarkers.icon(\n                {&quot;extraClasses&quot;: &quot;fa-rotate-0&quot;, &quot;icon&quot;: &quot;info-sign&quot;, &quot;iconColor&quot;: &quot;white&quot;, &quot;markerColor&quot;: &quot;red&quot;, &quot;prefix&quot;: &quot;glyphicon&quot;}\n            );\n            marker_9dd5cadd9084615441109ba72a5a311f.setIcon(icon_637fe4dc2b22ef0bc873b557a3598f1d);\n        \n    \n        var popup_f47be08fe42d03c6336fa4de00598fe0 = L.popup({&quot;maxWidth&quot;: &quot;100%&quot;});\n\n        \n            \n                var html_57dde2baae3e68a48accb23b0b82352b = $(`&lt;div id=&quot;html_57dde2baae3e68a48accb23b0b82352b&quot; style=&quot;width: 100.0%; height: 100.0%;&quot;&gt;Last known location&lt;/div&gt;`)[0];\n                popup_f47be08fe42d03c6336fa4de00598fe0.setContent(html_57dde2baae3e68a48accb23b0b82352b);\n            \n        \n\n        marker_9dd5cadd9084615441109ba72a5a311f.bindPopup(popup_f47be08fe42d03c6336fa4de00598fe0)\n        ;\n\n        \n    \n&lt;/script&gt;\n&lt;/html&gt;\" style=\"position:absolute;width:100%;height:100%;left:0;top:0;border:none !important;\" allowfullscreen webkitallowfullscreen mozallowfullscreen></iframe></div></div>"
     },
     "execution_count": 2,
     "metadata": {},
     "output_type": "execute_result"
    }
   ],
   "source": [
    "@dataclass\n",
    "class LostHiker:\n",
    "    start_long: float\n",
    "    start_lat: float\n",
    "    max_speed: float  #Maximum speed in meters per second\n",
    "    hours_missing : float\n",
    "    missing_radius: str = field(init=False, repr=True)\n",
    "    loc: tuple  = field(init=False, repr=True)\n",
    "        \n",
    "    def __post_init__(self):\n",
    "        self.missing_radius = self.max_speed*self.hours_missing*3600 \n",
    "        self.loc=(self.start_long,self.start_lat) #Short hand for cleaner code\n",
    "\n",
    "hiker=LostHiker(start_long=37.718780413149968,start_lat=-119.6403873442959697,max_speed=0.5,hours_missing=24)\n",
    "show_map(hiker,plot_origin=True)"
   ]
  },
  {
   "cell_type": "code",
   "execution_count": 3,
   "metadata": {},
   "outputs": [
    {
     "data": {
      "text/plain": "<folium.folium.Map at 0x7f586d267460>",
      "text/html": "<div style=\"width:100%;\"><div style=\"position:relative;width:100%;height:0;padding-bottom:60%;\"><span style=\"color:#565656\">Make this Notebook Trusted to load map: File -> Trust Notebook</span><iframe srcdoc=\"&lt;!DOCTYPE html&gt;\n&lt;html&gt;\n&lt;head&gt;\n    \n    &lt;meta http-equiv=&quot;content-type&quot; content=&quot;text/html; charset=UTF-8&quot; /&gt;\n    \n        &lt;script&gt;\n            L_NO_TOUCH = false;\n            L_DISABLE_3D = false;\n        &lt;/script&gt;\n    \n    &lt;style&gt;html, body {width: 100%;height: 100%;margin: 0;padding: 0;}&lt;/style&gt;\n    &lt;style&gt;#map {position:absolute;top:0;bottom:0;right:0;left:0;}&lt;/style&gt;\n    &lt;script src=&quot;https://cdn.jsdelivr.net/npm/leaflet@1.9.3/dist/leaflet.js&quot;&gt;&lt;/script&gt;\n    &lt;script src=&quot;https://code.jquery.com/jquery-3.7.1.min.js&quot;&gt;&lt;/script&gt;\n    &lt;script src=&quot;https://cdn.jsdelivr.net/npm/bootstrap@5.2.2/dist/js/bootstrap.bundle.min.js&quot;&gt;&lt;/script&gt;\n    &lt;script src=&quot;https://cdnjs.cloudflare.com/ajax/libs/Leaflet.awesome-markers/2.0.2/leaflet.awesome-markers.js&quot;&gt;&lt;/script&gt;\n    &lt;link rel=&quot;stylesheet&quot; href=&quot;https://cdn.jsdelivr.net/npm/leaflet@1.9.3/dist/leaflet.css&quot;/&gt;\n    &lt;link rel=&quot;stylesheet&quot; href=&quot;https://cdn.jsdelivr.net/npm/bootstrap@5.2.2/dist/css/bootstrap.min.css&quot;/&gt;\n    &lt;link rel=&quot;stylesheet&quot; href=&quot;https://netdna.bootstrapcdn.com/bootstrap/3.0.0/css/bootstrap.min.css&quot;/&gt;\n    &lt;link rel=&quot;stylesheet&quot; href=&quot;https://cdn.jsdelivr.net/npm/@fortawesome/fontawesome-free@6.2.0/css/all.min.css&quot;/&gt;\n    &lt;link rel=&quot;stylesheet&quot; href=&quot;https://cdnjs.cloudflare.com/ajax/libs/Leaflet.awesome-markers/2.0.2/leaflet.awesome-markers.css&quot;/&gt;\n    &lt;link rel=&quot;stylesheet&quot; href=&quot;https://cdn.jsdelivr.net/gh/python-visualization/folium/folium/templates/leaflet.awesome.rotate.min.css&quot;/&gt;\n    \n            &lt;meta name=&quot;viewport&quot; content=&quot;width=device-width,\n                initial-scale=1.0, maximum-scale=1.0, user-scalable=no&quot; /&gt;\n            &lt;style&gt;\n                #map_c8f412731ab381f834942e4d56850c92 {\n                    position: relative;\n                    width: 100.0%;\n                    height: 100.0%;\n                    left: 0.0%;\n                    top: 0.0%;\n                }\n                .leaflet-container { font-size: 1rem; }\n            &lt;/style&gt;\n        \n&lt;/head&gt;\n&lt;body&gt;\n    \n    \n            &lt;div class=&quot;folium-map&quot; id=&quot;map_c8f412731ab381f834942e4d56850c92&quot; &gt;&lt;/div&gt;\n        \n&lt;/body&gt;\n&lt;script&gt;\n    \n    \n            var map_c8f412731ab381f834942e4d56850c92 = L.map(\n                &quot;map_c8f412731ab381f834942e4d56850c92&quot;,\n                {\n                    center: [37.718780413149965, -119.64038734429597],\n                    crs: L.CRS.EPSG3857,\n                    zoom: 11,\n                    zoomControl: true,\n                    preferCanvas: false,\n                }\n            );\n\n            \n\n        \n    \n            var tile_layer_0180028aac49e982c4bfcaca172a6260 = L.tileLayer(\n                &quot;https://tile.openstreetmap.org/{z}/{x}/{y}.png&quot;,\n                {&quot;attribution&quot;: &quot;\\u0026copy; \\u003ca href=\\&quot;https://www.openstreetmap.org/copyright\\&quot;\\u003eOpenStreetMap\\u003c/a\\u003e contributors&quot;, &quot;detectRetina&quot;: false, &quot;maxNativeZoom&quot;: 19, &quot;maxZoom&quot;: 19, &quot;minZoom&quot;: 0, &quot;noWrap&quot;: false, &quot;opacity&quot;: 1, &quot;subdomains&quot;: &quot;abc&quot;, &quot;tms&quot;: false}\n            );\n        \n    \n            tile_layer_0180028aac49e982c4bfcaca172a6260.addTo(map_c8f412731ab381f834942e4d56850c92);\n        \n    \n            var tile_layer_8fe94d7c7bc3df998290b31de5cb5f70 = L.tileLayer(\n                &quot;https://server.arcgisonline.com/ArcGIS/rest/services/World_Imagery/MapServer/tile/{z}/{y}/{x}&quot;,\n                {&quot;attribution&quot;: &quot;Esri&quot;, &quot;detectRetina&quot;: false, &quot;maxNativeZoom&quot;: 18, &quot;maxZoom&quot;: 18, &quot;minZoom&quot;: 0, &quot;noWrap&quot;: false, &quot;opacity&quot;: 1, &quot;subdomains&quot;: &quot;abc&quot;, &quot;tms&quot;: false}\n            );\n        \n    \n            tile_layer_8fe94d7c7bc3df998290b31de5cb5f70.addTo(map_c8f412731ab381f834942e4d56850c92);\n        \n    \n            var marker_2e7672a4febc09a3a1bd5d9877daea57 = L.marker(\n                [37.718780413149965, -119.64038734429597],\n                {}\n            ).addTo(map_c8f412731ab381f834942e4d56850c92);\n        \n    \n            var icon_7fe7634ae57dd2d55a09e0fe8284f91a = L.AwesomeMarkers.icon(\n                {&quot;extraClasses&quot;: &quot;fa-rotate-0&quot;, &quot;icon&quot;: &quot;info-sign&quot;, &quot;iconColor&quot;: &quot;white&quot;, &quot;markerColor&quot;: &quot;red&quot;, &quot;prefix&quot;: &quot;glyphicon&quot;}\n            );\n            marker_2e7672a4febc09a3a1bd5d9877daea57.setIcon(icon_7fe7634ae57dd2d55a09e0fe8284f91a);\n        \n    \n        var popup_ea1d6b2076ab239014260bf8d40004f9 = L.popup({&quot;maxWidth&quot;: &quot;100%&quot;});\n\n        \n            \n                var html_740e49b99fa07f595fe698aa181aad09 = $(`&lt;div id=&quot;html_740e49b99fa07f595fe698aa181aad09&quot; style=&quot;width: 100.0%; height: 100.0%;&quot;&gt;Last known location&lt;/div&gt;`)[0];\n                popup_ea1d6b2076ab239014260bf8d40004f9.setContent(html_740e49b99fa07f595fe698aa181aad09);\n            \n        \n\n        marker_2e7672a4febc09a3a1bd5d9877daea57.bindPopup(popup_ea1d6b2076ab239014260bf8d40004f9)\n        ;\n\n        \n    \n    \n            var circle_d484c3c4c54e00ebc1d38000e69d7219 = L.circle(\n                [37.718780413149965, -119.64038734429597],\n                {&quot;bubblingMouseEvents&quot;: true, &quot;color&quot;: &quot;#3388ff&quot;, &quot;dashArray&quot;: null, &quot;dashOffset&quot;: null, &quot;fill&quot;: false, &quot;fillColor&quot;: &quot;#3388ff&quot;, &quot;fillOpacity&quot;: 0.2, &quot;fillRule&quot;: &quot;evenodd&quot;, &quot;lineCap&quot;: &quot;round&quot;, &quot;lineJoin&quot;: &quot;round&quot;, &quot;opacity&quot;: 1.0, &quot;radius&quot;: 43200.0, &quot;stroke&quot;: true, &quot;weight&quot;: 3}\n            ).addTo(map_c8f412731ab381f834942e4d56850c92);\n        \n&lt;/script&gt;\n&lt;/html&gt;\" style=\"position:absolute;width:100%;height:100%;left:0;top:0;border:none !important;\" allowfullscreen webkitallowfullscreen mozallowfullscreen></iframe></div></div>"
     },
     "execution_count": 3,
     "metadata": {},
     "output_type": "execute_result"
    }
   ],
   "source": [
    "show_map(hiker,add_missing_radius=True,zoom=11,plot_origin=True)"
   ]
  },
  {
   "cell_type": "code",
   "execution_count": 4,
   "metadata": {},
   "outputs": [
    {
     "data": {
      "text/plain": "<folium.folium.Map at 0x7f586d2bd1c0>",
      "text/html": "<div style=\"width:100%;\"><div style=\"position:relative;width:100%;height:0;padding-bottom:60%;\"><span style=\"color:#565656\">Make this Notebook Trusted to load map: File -> Trust Notebook</span><iframe srcdoc=\"&lt;!DOCTYPE html&gt;\n&lt;html&gt;\n&lt;head&gt;\n    \n    &lt;meta http-equiv=&quot;content-type&quot; content=&quot;text/html; charset=UTF-8&quot; /&gt;\n    \n        &lt;script&gt;\n            L_NO_TOUCH = false;\n            L_DISABLE_3D = false;\n        &lt;/script&gt;\n    \n    &lt;style&gt;html, body {width: 100%;height: 100%;margin: 0;padding: 0;}&lt;/style&gt;\n    &lt;style&gt;#map {position:absolute;top:0;bottom:0;right:0;left:0;}&lt;/style&gt;\n    &lt;script src=&quot;https://cdn.jsdelivr.net/npm/leaflet@1.9.3/dist/leaflet.js&quot;&gt;&lt;/script&gt;\n    &lt;script src=&quot;https://code.jquery.com/jquery-3.7.1.min.js&quot;&gt;&lt;/script&gt;\n    &lt;script src=&quot;https://cdn.jsdelivr.net/npm/bootstrap@5.2.2/dist/js/bootstrap.bundle.min.js&quot;&gt;&lt;/script&gt;\n    &lt;script src=&quot;https://cdnjs.cloudflare.com/ajax/libs/Leaflet.awesome-markers/2.0.2/leaflet.awesome-markers.js&quot;&gt;&lt;/script&gt;\n    &lt;link rel=&quot;stylesheet&quot; href=&quot;https://cdn.jsdelivr.net/npm/leaflet@1.9.3/dist/leaflet.css&quot;/&gt;\n    &lt;link rel=&quot;stylesheet&quot; href=&quot;https://cdn.jsdelivr.net/npm/bootstrap@5.2.2/dist/css/bootstrap.min.css&quot;/&gt;\n    &lt;link rel=&quot;stylesheet&quot; href=&quot;https://netdna.bootstrapcdn.com/bootstrap/3.0.0/css/bootstrap.min.css&quot;/&gt;\n    &lt;link rel=&quot;stylesheet&quot; href=&quot;https://cdn.jsdelivr.net/npm/@fortawesome/fontawesome-free@6.2.0/css/all.min.css&quot;/&gt;\n    &lt;link rel=&quot;stylesheet&quot; href=&quot;https://cdnjs.cloudflare.com/ajax/libs/Leaflet.awesome-markers/2.0.2/leaflet.awesome-markers.css&quot;/&gt;\n    &lt;link rel=&quot;stylesheet&quot; href=&quot;https://cdn.jsdelivr.net/gh/python-visualization/folium/folium/templates/leaflet.awesome.rotate.min.css&quot;/&gt;\n    \n            &lt;meta name=&quot;viewport&quot; content=&quot;width=device-width,\n                initial-scale=1.0, maximum-scale=1.0, user-scalable=no&quot; /&gt;\n            &lt;style&gt;\n                #map_09349e50e89a07a3196c3f76ce07a829 {\n                    position: relative;\n                    width: 100.0%;\n                    height: 100.0%;\n                    left: 0.0%;\n                    top: 0.0%;\n                }\n                .leaflet-container { font-size: 1rem; }\n            &lt;/style&gt;\n        \n&lt;/head&gt;\n&lt;body&gt;\n    \n    \n            &lt;div class=&quot;folium-map&quot; id=&quot;map_09349e50e89a07a3196c3f76ce07a829&quot; &gt;&lt;/div&gt;\n        \n&lt;/body&gt;\n&lt;script&gt;\n    \n    \n            var map_09349e50e89a07a3196c3f76ce07a829 = L.map(\n                &quot;map_09349e50e89a07a3196c3f76ce07a829&quot;,\n                {\n                    center: [37.718780413149965, -119.64038734429597],\n                    crs: L.CRS.EPSG3857,\n                    zoom: 11,\n                    zoomControl: true,\n                    preferCanvas: false,\n                }\n            );\n\n            \n\n        \n    \n            var tile_layer_f36f52bdc86cd81fa5767976cb3922ff = L.tileLayer(\n                &quot;https://tile.openstreetmap.org/{z}/{x}/{y}.png&quot;,\n                {&quot;attribution&quot;: &quot;\\u0026copy; \\u003ca href=\\&quot;https://www.openstreetmap.org/copyright\\&quot;\\u003eOpenStreetMap\\u003c/a\\u003e contributors&quot;, &quot;detectRetina&quot;: false, &quot;maxNativeZoom&quot;: 19, &quot;maxZoom&quot;: 19, &quot;minZoom&quot;: 0, &quot;noWrap&quot;: false, &quot;opacity&quot;: 1, &quot;subdomains&quot;: &quot;abc&quot;, &quot;tms&quot;: false}\n            );\n        \n    \n            tile_layer_f36f52bdc86cd81fa5767976cb3922ff.addTo(map_09349e50e89a07a3196c3f76ce07a829);\n        \n    \n            var tile_layer_c6e32c91330c2bb2220d704cf7ec91a9 = L.tileLayer(\n                &quot;https://server.arcgisonline.com/ArcGIS/rest/services/World_Imagery/MapServer/tile/{z}/{y}/{x}&quot;,\n                {&quot;attribution&quot;: &quot;Esri&quot;, &quot;detectRetina&quot;: false, &quot;maxNativeZoom&quot;: 18, &quot;maxZoom&quot;: 18, &quot;minZoom&quot;: 0, &quot;noWrap&quot;: false, &quot;opacity&quot;: 1, &quot;subdomains&quot;: &quot;abc&quot;, &quot;tms&quot;: false}\n            );\n        \n    \n            tile_layer_c6e32c91330c2bb2220d704cf7ec91a9.addTo(map_09349e50e89a07a3196c3f76ce07a829);\n        \n    \n            var marker_7b96b16ab21c6a92d1904191510ed071 = L.marker(\n                [37.718780413149965, -119.64038734429597],\n                {}\n            ).addTo(map_09349e50e89a07a3196c3f76ce07a829);\n        \n    \n            var icon_7b678dbc47f0a5fcb6c74cc4978cc770 = L.AwesomeMarkers.icon(\n                {&quot;extraClasses&quot;: &quot;fa-rotate-0&quot;, &quot;icon&quot;: &quot;info-sign&quot;, &quot;iconColor&quot;: &quot;white&quot;, &quot;markerColor&quot;: &quot;red&quot;, &quot;prefix&quot;: &quot;glyphicon&quot;}\n            );\n            marker_7b96b16ab21c6a92d1904191510ed071.setIcon(icon_7b678dbc47f0a5fcb6c74cc4978cc770);\n        \n    \n        var popup_4de5c11e41938cf0bc976dd749519ea9 = L.popup({&quot;maxWidth&quot;: &quot;100%&quot;});\n\n        \n            \n                var html_769ccc324a322806b8d7f687807a2092 = $(`&lt;div id=&quot;html_769ccc324a322806b8d7f687807a2092&quot; style=&quot;width: 100.0%; height: 100.0%;&quot;&gt;Last known location&lt;/div&gt;`)[0];\n                popup_4de5c11e41938cf0bc976dd749519ea9.setContent(html_769ccc324a322806b8d7f687807a2092);\n            \n        \n\n        marker_7b96b16ab21c6a92d1904191510ed071.bindPopup(popup_4de5c11e41938cf0bc976dd749519ea9)\n        ;\n\n        \n    \n    \n            var circle_0079f8d2979250f54a9b4b7474cc5081 = L.circle(\n                [37.718780413149965, -119.64038734429597],\n                {&quot;bubblingMouseEvents&quot;: true, &quot;color&quot;: &quot;#3388ff&quot;, &quot;dashArray&quot;: null, &quot;dashOffset&quot;: null, &quot;fill&quot;: false, &quot;fillColor&quot;: &quot;#3388ff&quot;, &quot;fillOpacity&quot;: 0.2, &quot;fillRule&quot;: &quot;evenodd&quot;, &quot;lineCap&quot;: &quot;round&quot;, &quot;lineJoin&quot;: &quot;round&quot;, &quot;opacity&quot;: 1.0, &quot;radius&quot;: 43200.0, &quot;stroke&quot;: true, &quot;weight&quot;: 3}\n            ).addTo(map_09349e50e89a07a3196c3f76ce07a829);\n        \n    \n            var poly_line_27c268d20effe31c1717cbd90e6c312e = L.polyline(\n                [[37.718780413149965, -119.64038734429597], [37.718507094317154, -119.63871735603058], [37.71965229001355, -119.63961864101185], [37.7185074576548, -119.63871661862237], [37.717811757133, -119.6372555530678], [37.71867594876037, -119.63594609480222], [37.71999895147181, -119.63627916246254], [37.719791017771776, -119.63459415634422], [37.718661290683904, -119.63366219187527], [37.71756743148649, -119.63466018568846], [37.71888981171571, -119.63499717591297], [37.71997446444036, -119.63601111926016], [37.71872113011701, -119.63538041172019], [37.71744889604118, -119.63594741723442], [37.71612290288392, -119.6362608928379], [37.71484825497126, -119.63681914764913], [37.71466185957421, -119.63850805964043], [37.71462938154645, -119.63680328723639], [37.71497009778631, -119.63845326889005], [37.71616968355699, -119.63923329244552], [37.71751110878191, -119.63941352566306], [37.71709035021436, -119.64103377830601], [37.71822582718607, -119.6419544878546], [37.719227700035376, -119.64309645982598], [37.72032184050577, -119.64209893653234], [37.720395007521745, -119.64039604867867], [37.719775556207736, -119.6419110048068], [37.718758488174096, -119.64303131260195], [37.71982879682417, -119.64406932932908], [37.719726598133114, -119.64576981303726], [37.718466642029824, -119.64637906805659], [37.71959963667808, -119.64730466894308], [37.72070095153174, -119.64828949842817], [37.71971059015816, -119.64713156704698], [37.71887976011582, -119.64578802512152], [37.717788706760615, -119.64679091845085], [37.717019642170484, -119.64538987072048], [37.71573189158967, -119.64488193156099], [37.71686926827318, -119.6457988693801], [37.715817310790335, -119.6447313343398], [37.715559043264456, -119.64640507991912], [37.71671469345926, -119.64552541506521], [37.7180385386285, -119.6451977496143], [37.71748602307215, -119.64675348582614], [37.71770794605014, -119.6484355855268], [37.716401009166304, -119.6480131520789], [37.71774951772908, -119.64805825906554], [37.716921985725016, -119.64671150370796], [37.71724313967872, -119.64836779439413], [37.71762555303112, -119.64673242095455], [37.7162807789515, -119.64659785417493], [37.71687760599658, -119.64812718396311], [37.718223484096896, -119.64824277488152], [37.718272281037756, -119.6499470084124], [37.71806116286899, -119.64826267456841], [37.7189744082429, -119.64951780430847], [37.719024534868744, -119.65122199345328], [37.71867032138944, -119.6495764702179], [37.719824797402566, -119.64869430791381], [37.71913030080116, -119.65015631454487], [37.71863080695342, -119.64857216395941], [37.71958394304606, -119.64736535444686], [37.719972876807006, -119.64573238863234], [37.72029851212664, -119.64738734860552], [37.72150483343261, -119.64662405019544], [37.722742674777855, -119.64730192167673], [37.72368045375752, -119.64852787651473], [37.72440096491697, -119.64996971168108], [37.72456853684754, -119.64827742827188], [37.72376069771859, -119.64691157283096], [37.722512384139186, -119.6462651146134], [37.72350082244025, -119.6451045161492], [37.72247525459749, -119.64399660589525], [37.72351295410719, -119.64508631104162], [37.72284126457304, -119.6436072980021], [37.72155329514635, -119.64411438950889], [37.722513842366126, -119.64291696050793], [37.72122142639346, -119.64340563314386], [37.72014902669031, -119.64444021433087], [37.72133296267968, -119.64525761200983], [37.72047157623331, -119.64657006790478], [37.721744160718885, -119.64600429739347], [37.72074598384032, -119.64715146925394], [37.72005619283641, -119.64861705017324], [37.719956244872186, -119.64691634742594], [37.7194758046596, -119.64532278843052], [37.71839716462871, -119.64634692471341], [37.719540714932776, -119.64544230837122], [37.718580310537334, -119.64424474434458], [37.71830633251956, -119.64257493323211], [37.71759940868536, -119.64402735973168], [37.716452747898586, -119.6431290816261], [37.715778855363, -119.64165181203138], [37.716889949308666, -119.6406847470792], [37.718238529152636, -119.640643184751], [37.71958719877522, -119.64067979737676], [37.71823848581788, -119.64071376314543], [37.71922783578718, -119.63955447381052], [37.72056350231058, -119.63931546404768], [37.721772891245756, -119.63855996111464], [37.723067261682885, -119.63807962400706], [37.72251386371987, -119.63963496448221], [37.72295169025375, -119.63802183672442], [37.72411853227646, -119.63887765124333], [37.7235854043897, -119.64044428970796], [37.72451973437691, -119.63921411897084], [37.72391255546804, -119.64073707987203], [37.72480322753437, -119.64201797284046], [37.72471962396805, -119.64031575177472], [37.72397539100226, -119.64173820285099], [37.72279511256299, -119.64091236503629], [37.723975706824405, -119.64173748098779], [37.72454991156101, -119.64019421211444], [37.72574325409031, -119.63939892965737], [37.72442368842475, -119.6397531461056], [37.72324486267791, -119.6389239934599], [37.72307483128381, -119.6406158544278], [37.72241928389156, -119.64210639045471], [37.72107487662959, -119.64196607943876], [37.72002728872618, -119.64089163865064], [37.719237114543596, -119.64227382827579], [37.718598531187126, -119.64377601125719], [37.71846943747588, -119.64207848180344], [37.718167782964144, -119.64041631486705], [37.716840210903364, -119.64071892553844], [37.716161061948576, -119.64219235094505], [37.7153427840831, -119.64354808373574], [37.71663667488105, -119.64306572748848], [37.71782721690624, -119.64386760533355], [37.71869195826342, -119.64517648375765], [37.720018143601564, -119.64548866827904], [37.719848296084955, -119.64718048507187], [37.718987665463665, -119.64586726324477], [37.71951362154539, -119.64429685238451], [37.71967549651621, -119.64598991015313], [37.721014721263764, -119.64578517960275], [37.722235540556454, -119.64651070991714], [37.72129155878914, -119.64529241153204], [37.722261100697466, -119.64410662952095], [37.72091972373937, -119.64428744749941], [37.719971907569516, -119.64307393826078], [37.720898504655906, -119.64183451442167], [37.719570410770196, -119.64153557436737], [37.72068206261203, -119.64056948510324], [37.7193501997315, -119.64029866799532], [37.71903755494834, -119.64195760571843], [37.720016143011655, -119.6431314150771], [37.71911963603843, -119.64440570254766], [37.71800750052972, -119.64344052372535], [37.71862669128882, -119.64192543353367], [37.7199601397402, -119.64218347707747], [37.72097159487188, -119.64105505890943], [37.72089066583775, -119.64275739853778], [37.72220347575023, -119.64314967483892], [37.72353626744591, -119.64288625178278], [37.7222228652987, -119.64327535366749], [37.721995717216956, -119.64159426658482], [37.72244149066453, -119.64320390065782], [37.72351818960535, -119.64217644912739], [37.724540630420876, -119.64328898498482], [37.72334978734863, -119.6440902207403], [37.72338392467647, -119.64579514203847], [37.72355521081892, -119.64748680776896], [37.724398276855204, -119.64881819622465], [37.7238316985671, -119.64727043153084], [37.72436684139784, -119.64570488628583], [37.72431794783139, -119.64400051696016], [37.72392762408365, -119.64563304838173], [37.72447569004468, -119.64407466345517], [37.72446995839237, -119.64236918591229], [37.723158754398455, -119.64196840464285], [37.722277534962274, -119.64325967716617], [37.72146912596431, -119.6418944029965], [37.7222800056259, -119.64325733339749], [37.7231749086001, -119.64453347593448], [37.723213505819366, -119.64282871067364], [37.721892448381105, -119.64317391288935], [37.722912188866154, -119.64429037860972], [37.722717990107206, -119.64597806860873], [37.72186024452558, -119.64466178252817], [37.72320869001412, -119.64461375306973], [37.7235821322806, -119.6462525681947], [37.72303261782388, -119.64781011877105], [37.723701794101586, -119.64632928211994], [37.72258037670265, -119.64538136393662], [37.72310492265968, -119.64695260457434], [37.72439966387765, -119.64647385870953], [37.725655631365846, -119.6458515312214], [37.726544517600225, -119.64456862672561], [37.72618469644834, -119.64292488225462], [37.726330873641594, -119.64462037340314], [37.72767677322539, -119.6445051682349], [37.72742285866046, -119.64283009045498], [37.728556684279184, -119.64375417544758], [37.72768858754199, -119.64244867767755], [37.72744242211295, -119.6407717514961], [37.72678443100679, -119.63928284972344], [37.72812682207119, -119.63911447605486], [37.72856850516607, -119.63750290739256], [37.728093634939576, -119.63909931812108], [37.7267735498063, -119.63874819803144], [37.72574161111381, -119.63764973527883], [37.72528903503487, -119.63925640391581], [37.725731288097144, -119.63764514688383], [37.72452708860531, -119.63687646848965], [37.72491636946391, -119.6352435258914], [37.724494362765164, -119.63686342161762], [37.72518255218323, -119.63833029327198], [37.72437848886537, -119.6369608698514], [37.72355463469921, -119.63831134480299], [37.72360464537509, -119.64001564476803], [37.724940844475796, -119.63978142706645], [37.72375935041659, -119.6406044925641], [37.72486362485571, -119.63962491903366], [37.72539972478143, -119.64118996260882], [37.72528453594342, -119.6394906787964], [37.72533378541973, -119.64119505398953], [37.72436603730009, -119.64238322500101], [37.724498737548295, -119.64408044508852], [37.72543012904058, -119.64531418759454], [37.7242647953904, -119.6461732960723], [37.72381724311043, -119.64456441155896], [37.723281190591365, -119.64299937546585], [37.721936116992815, -119.64286967091006], [37.72217837339619, -119.64454738207526], [37.72317174913773, -119.64339354634092], [37.722730914099586, -119.64500536871375], [37.72210898315343, -119.64349198943698], [37.72246446419893, -119.64184682672703], [37.7229059780668, -119.64345834630464], [37.72325414038845, -119.64181066628058], [37.72456975661136, -119.64143370403583], [37.72546086126942, -119.6427141273558], [37.72528690590723, -119.64102285354888], [37.72404546481749, -119.64035556369838], [37.72497131288543, -119.63911517737498], [37.7247112725, -119.6407886910043], [37.72601728029261, -119.64121573966426], [37.72553571407071, -119.63962259360987], [37.726828505300865, -119.63913548166417], [37.72548022708005, -119.6390804535795], [37.726809599317804, -119.63937019326991], [37.72815857705887, -119.63937367110984], [37.72682448078922, -119.63912100770177], [37.728169763951065, -119.63924719896482], [37.72756756716357, -119.63772100421669], [37.72622207078903, -119.6378435068455], [37.727411350147584, -119.6370385360956], [37.72692361642814, -119.63544836206509], [37.72737766993135, -119.63384232441946], [37.72698461643274, -119.63547387602097], [37.726074930466645, -119.63421448590948], [37.7262390289285, -119.63252162029549], [37.724919644421576, -119.63287691615159], [37.724689990012756, -119.63455752004495], [37.72365900706527, -119.63345765460178], [37.72254761973481, -119.63442426897811], [37.722319977606844, -119.63610525660988], [37.72365927800273, -119.63630920200583], [37.72420306946775, -119.63474843112532], [37.72381898863012, -119.63311353715847], [37.72475412586498, -119.63434273096628], [37.72364597705341, -119.63337017745503], [37.724983160977, -119.6331451225707], [37.72632419733102, -119.63296030063205], [37.72717637807326, -119.63163817040557], [37.72656733839997, -119.63011634299923], [37.72544664440572, -119.6291670216217], [37.72414969193225, -119.62963610974381], [37.72535859308138, -119.6303928960173], [37.725238596672824, -119.63209164695999], [37.72441902109215, -119.63344629247864], [37.72369003561157, -119.6348813031274], [37.72360434691606, -119.63317927341011], [37.722759345113445, -119.6345086846408], [37.721451369275734, -119.63409139324376], [37.72269618988468, -119.63474851956863], [37.722705914332565, -119.63304311174018], [37.7213767343401, -119.63275198174932], [37.72271809124834, -119.63293303841218], [37.724000027171094, -119.6324020644631], [37.72513139934874, -119.63147322790209], [37.7259307916936, -119.63284702936983], [37.725080229242394, -119.63417080207567], [37.724196672148416, -119.63545955224724], [37.72523015124444, -119.63655567477932], [37.72388329571847, -119.63645998337167], [37.72516740002686, -119.63698252368432], [37.725721208116965, -119.63542736083274]],\n                {&quot;bubblingMouseEvents&quot;: true, &quot;color&quot;: &quot;red&quot;, &quot;dashArray&quot;: null, &quot;dashOffset&quot;: null, &quot;fill&quot;: false, &quot;fillColor&quot;: &quot;red&quot;, &quot;fillOpacity&quot;: 0.2, &quot;fillRule&quot;: &quot;evenodd&quot;, &quot;lineCap&quot;: &quot;round&quot;, &quot;lineJoin&quot;: &quot;round&quot;, &quot;noClip&quot;: false, &quot;opacity&quot;: 1.0, &quot;smoothFactor&quot;: 1.0, &quot;stroke&quot;: true, &quot;weight&quot;: 3}\n            ).addTo(map_09349e50e89a07a3196c3f76ce07a829);\n        \n    \n            poly_line_27c268d20effe31c1717cbd90e6c312e.bindTooltip(\n                `&lt;div&gt;\n                     trail\n                 &lt;/div&gt;`,\n                {&quot;sticky&quot;: true}\n            );\n        \n&lt;/script&gt;\n&lt;/html&gt;\" style=\"position:absolute;width:100%;height:100%;left:0;top:0;border:none !important;\" allowfullscreen webkitallowfullscreen mozallowfullscreen></iframe></div></div>"
     },
     "execution_count": 4,
     "metadata": {},
     "output_type": "execute_result"
    }
   ],
   "source": [
    "trails=random_walk_simple(hiker)\n",
    "show_map(hiker,trail=trails[0],add_missing_radius=True,zoom=11,plot_origin=True)"
   ]
  },
  {
   "cell_type": "code",
   "execution_count": null,
   "metadata": {
    "pycharm": {
     "is_executing": true
    }
   },
   "outputs": [
    {
     "name": "stdout",
     "output_type": "stream",
     "text": [
      "Loading cache from local diretory /ikaro\n",
      "Loading cache file elevation_res10m_v3.csv\n",
      "Total latitude points in the grid =600\n",
      "Total longitude points in the grid =600\n",
      "df.shape=(360600, 25)\n",
      " 0.560 valid elevation data (N=360600)\n",
      "Querying elevation data for grid size=360600 50-batch queries=3606 grid_N=600 (grid_N^2= 360000 ) \n",
      "Getting 2013.0 /3606 next batch\n",
      "Got 0.560 valid elevation data (N=32) from query 2013.0\n",
      "Getting 2015.0 /3606 next batch\n",
      "Got 0.560 valid elevation data (N=65) from query 2015.0\n",
      "Getting 2016.0 /3606 next batch\n",
      "Got 0.560 valid elevation data (N=5) from query 2016.0\n",
      "Getting 2017.0 /3606 next batch\n",
      "Got 0.560 valid elevation data (N=4) from query 2017.0\n",
      "Getting 2018.0 /3606 next batch\n",
      "Got 0.560 valid elevation data (N=36) from query 2018.0\n",
      "Getting 2019.0 /3606 next batch\n",
      "Got 0.560 valid elevation data (N=7) from query 2019.0\n",
      "Getting 2020.0 /3606 next batch\n",
      "Got 0.560 valid elevation data (N=12) from query 2020.0\n",
      "Getting 2021.0 /3606 next batch\n",
      "Got 0.561 valid elevation data (N=100) from query 2021.0\n"
     ]
    }
   ],
   "source": [
    "grid,xy_grid=get_elevation_grid(hiker,grid_range=6000,grid_resolution=10,recache=True)\n",
    "show_map(hiker,trail=None, add_missing_radius=False, zoom=14, sims=None, trail_points=False,trail_heat=False, grid=grid, probs=None, trail_enumerate=False, plot_origin=True, probs_point=True)"
   ]
  },
  {
   "cell_type": "code",
   "execution_count": null,
   "metadata": {
    "pycharm": {
     "is_executing": true
    }
   },
   "outputs": [],
   "source": [
    "def random_walk_with_elevation2(hiker, N=1, end_point_only=True, xy_grid=None,verbose=False):\n",
    "    '''\n",
    "        Assumptions:\n",
    "        1. Velocity is a function of elevation\n",
    "        2. Hiker cannot go beyond a positive elevation limit (will try another direction before yielding an iteration)\n",
    "        3. If Hiker goes beyond a negative elevation limit it will stay there (terminal point, simulating a fall)\n",
    "    '''\n",
    "    distance5min = hiker.max_speed * 60 * 5  # Speed in m/5 minutes\n",
    "    trails = []\n",
    "    max_grad = 10 * 2 * np.pi / 180  # Assuming max 45 deg climbing gradient\n",
    "    fall_grad = -30 * 2 * np.pi / 180  # Assuming max 45 deg climbing gradient\n",
    "    maxg = 0\n",
    "    for n in range(N):\n",
    "        trail = [hiker.loc]\n",
    "        terminate = False\n",
    "        t = 0\n",
    "        while t < (12 * hiker.hours_missing):\n",
    "            trail.append(new_loc)\n",
    "            t += 1\n",
    "            if terminate:\n",
    "                break\n",
    "        if end_point_only:\n",
    "            trails.append(trail[-1])\n",
    "        else:\n",
    "            trails.append(trail)\n",
    "    return trails"
   ]
  },
  {
   "cell_type": "code",
   "execution_count": null,
   "metadata": {
    "pycharm": {
     "is_executing": true
    }
   },
   "outputs": [],
   "source": [
    "#xy_grid\n",
    "long_map=grid[['longitude','east_offset']].drop_duplicates()\n",
    "lat_map=grid[['latitude','south_offset']].drop_duplicates()\n",
    "#print(grid.south_offset.nunique())\n",
    "#print(grid.east_offset.nunique())\n",
    "print(grid.latitude.unique())\n",
    "#print(grid.longitude.nunique())"
   ]
  },
  {
   "cell_type": "code",
   "execution_count": null,
   "metadata": {
    "pycharm": {
     "is_executing": true
    }
   },
   "outputs": [],
   "source": [
    "trails=random_walk_with_elevation(hiker,N=1000,end_point_only=True,xy_grid=xy_grid,grid=grid)\n",
    "data=pd.DataFrame(np.squeeze(np.array(trails)),columns=['latitude','longitude'])\n",
    "print(data)\n",
    "os.sys.exit()\n",
    "#show_map(hiker,add_missing_radius=True,zoom=12,sims=data,trail_points=False)"
   ]
  },
  {
   "cell_type": "code",
   "execution_count": null,
   "metadata": {
    "pycharm": {
     "is_executing": true
    }
   },
   "outputs": [],
   "source": [
    "#df_elevation=get_elevation_grid(hiker.loc)\n",
    "#df_elevation=pd.read_csv('elevation.csv')\n",
    "#df_elevation=df_elevation.dropna(subset='elev_meters')\n",
    "#df_elevation['point'] = [(x, y) for x,y in zip(df_elevation['latitude'],df_elevation['longitude'])]\n",
    "center = grid.loc[np.argmin((hiker.loc[0]-grid['latitude'])**2 + (hiker.loc[1]-grid['longitude'])**2)]\n",
    "center_elev=xy_grid.loc[center.south_offset,center.east_offset]\n",
    "#Check if elevation is within hiker limits, if so, continue path\n",
    "\n",
    "center = grid.loc[np.argmin((hiker.loc[0]-grid['latitude'])**2 + (hiker.loc[1]-grid['longitude'])**2)]\n",
    "center_elev=xy_grid.loc[center.south_offset,center.east_offset]\n",
    "#Check if elevation is within hiker limits, if so, continue path"
   ]
  },
  {
   "cell_type": "code",
   "execution_count": null,
   "metadata": {
    "pycharm": {
     "is_executing": true
    }
   },
   "outputs": [],
   "source": [
    "trails=radom_walk_simple(hiker,N=1000,end_point_only=True)\n",
    "sims=pd.DataFrame(np.squeeze(np.array(trails)),columns=['latitude','longitude'])\n",
    "show_map(hiker,add_missing_radius=True,zoom=15,sims=data,trail_points=True)"
   ]
  },
  {
   "cell_type": "code",
   "execution_count": null,
   "metadata": {
    "pycharm": {
     "is_executing": true
    }
   },
   "outputs": [],
   "source": [
    "show_map(hiker,add_missing_radius=True,zoom=15,sims=data,trail_points=True)"
   ]
  },
  {
   "cell_type": "markdown",
   "metadata": {},
   "source": [
    "## Define Rescue Efforts"
   ]
  },
  {
   "cell_type": "markdown",
   "metadata": {},
   "source": [
    "### Create Rescue Grid & Probability Prior from simulations"
   ]
  },
  {
   "cell_type": "code",
   "execution_count": null,
   "metadata": {
    "pycharm": {
     "is_executing": true
    }
   },
   "outputs": [],
   "source": [
    "rescue_grid=get_rescue_grid(hiker,grid_range=3500,grid_resolution=100,simulation_data=data)"
   ]
  },
  {
   "cell_type": "code",
   "execution_count": null,
   "metadata": {
    "pycharm": {
     "is_executing": true
    }
   },
   "outputs": [],
   "source": [
    "show_map(hiker,probs=rescue_grid)#,sims=data,trail_points=True,trail_heat=False)"
   ]
  },
  {
   "cell_type": "markdown",
   "metadata": {},
   "source": [
    "### Create a rescue plan, evaluate probability of sucess, and update probability posterior"
   ]
  },
  {
   "cell_type": "code",
   "execution_count": null,
   "metadata": {
    "pycharm": {
     "is_executing": true
    }
   },
   "outputs": [],
   "source": [
    "# Define rescure properties\n",
    "@dataclass\n",
    "class Rescuer:\n",
    "    max_grid_points: int  #Number of grid points the rescuer can traverse\n",
    "    prob_find: float #Probability of find hiker if the hiker is in the same grid point as the rescuer\n",
    "    \n",
    "rescuer=Rescuer(max_grid_points=15,prob_find=0.999)\n",
    "rescue_plan,p=greedy_search(rescuer,rescue_grid,sims=data)\n",
    "print(\"Probabiliy of rescue=%0.3f\"%p)\n",
    "show_map(hiker,trail=rescue_plan,probs=rescue_grid,trail_enumerate=True,plot_origin=False,zoom=15)\n"
   ]
  },
  {
   "cell_type": "code",
   "execution_count": null,
   "metadata": {
    "pycharm": {
     "is_executing": true
    }
   },
   "outputs": [],
   "source": [
    "rescue_grid_post=get_post_rescue_grid(rescue_grid, rescue_plan)\n",
    "show_map(hiker,probs=rescue_grid_post,probs_point=False)"
   ]
  },
  {
   "cell_type": "code",
   "execution_count": null,
   "metadata": {
    "pycharm": {
     "is_executing": true
    }
   },
   "outputs": [],
   "source": [
    "attempts=2000\n",
    "rescue_grid_post=rescue_grid.copy()\n",
    "start_at=rescue_grid.iloc[rescue_grid['prob'].idxmax()].copy().to_frame().T.reset_index(drop=True)\n",
    "for i in range(attempts):\n",
    "    rescue_plan,p=greedy_search(rescuer,rescue_grid_post,sims=data,start_at=start_at)\n",
    "    if not i%500:\n",
    "        print(\"%s: Probabiliy of rescue=%0.3f\"%(i,p))\n",
    "    rescue_grid_post=get_post_rescue_grid(rescue_grid_post, rescue_plan)\n",
    "\n",
    "show_map(hiker,probs=rescue_grid_post,probs_point=False,zoom=15,trail=rescue_plan,\n",
    "         trail_enumerate=False,plot_origin=False)\n"
   ]
  },
  {
   "cell_type": "code",
   "execution_count": null,
   "metadata": {
    "pycharm": {
     "is_executing": true
    }
   },
   "outputs": [],
   "source": [
    "show_map(hiker,probs=rescue_grid,probs_point=False)"
   ]
  },
  {
   "cell_type": "markdown",
   "metadata": {},
   "source": [
    "# Conclusion"
   ]
  },
  {
   "cell_type": "markdown",
   "metadata": {},
   "source": [
    "In summary we have looked into Python function closure's and how to use them to avoid nested loop. We used a function closure to store information about the list size of each for loop, allowing us to create a 1D linear indexing that can be iterated with a single for loop instead. This function closure can  then be used to perform parameter optimization either through systematic grid search or random search iterations.\n",
    "\n",
    "This approach allows for more readable and extensible code when compared with nested for loops.\n",
    "\n",
    "\n"
   ]
  },
  {
   "cell_type": "code",
   "execution_count": null,
   "metadata": {
    "pycharm": {
     "is_executing": true
    }
   },
   "outputs": [],
   "source": []
  }
 ],
 "metadata": {
  "kernelspec": {
   "display_name": "Python 3 (ipykernel)",
   "language": "python",
   "name": "python3"
  },
  "language_info": {
   "codemirror_mode": {
    "name": "ipython",
    "version": 3
   },
   "file_extension": ".py",
   "mimetype": "text/x-python",
   "name": "python",
   "nbconvert_exporter": "python",
   "pygments_lexer": "ipython3",
   "version": "3.8.10"
  }
 },
 "nbformat": 4,
 "nbformat_minor": 1
}
