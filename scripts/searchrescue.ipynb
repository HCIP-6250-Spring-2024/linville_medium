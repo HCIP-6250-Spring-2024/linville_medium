{
 "cells": [
  {
   "cell_type": "code",
   "execution_count": 22,
   "metadata": {},
   "outputs": [
    {
     "name": "stdout",
     "output_type": "stream",
     "text": [
      "Requirement already satisfied: folium in /usr/local/lib/python3.8/dist-packages (0.15.1)\r\n",
      "Requirement already satisfied: haversine in /usr/local/lib/python3.8/dist-packages (2.8.1)\r\n",
      "Requirement already satisfied: branca>=0.6.0 in /usr/local/lib/python3.8/dist-packages (from folium) (0.7.0)\r\n",
      "Requirement already satisfied: jinja2>=2.9 in /usr/local/lib/python3.8/dist-packages (from folium) (3.1.2)\r\n",
      "Requirement already satisfied: requests in /usr/local/lib/python3.8/dist-packages (from folium) (2.28.2)\r\n",
      "Requirement already satisfied: xyzservices in /usr/local/lib/python3.8/dist-packages (from folium) (2023.10.1)\r\n",
      "Requirement already satisfied: numpy in /usr/local/lib/python3.8/dist-packages (from folium) (1.23.4)\r\n",
      "Requirement already satisfied: MarkupSafe>=2.0 in /usr/local/lib/python3.8/dist-packages (from jinja2>=2.9->folium) (2.1.1)\r\n",
      "Requirement already satisfied: charset-normalizer<4,>=2 in /usr/local/lib/python3.8/dist-packages (from requests->folium) (3.0.1)\r\n",
      "Requirement already satisfied: urllib3<1.27,>=1.21.1 in /usr/lib/python3/dist-packages (from requests->folium) (1.25.8)\r\n",
      "Requirement already satisfied: idna<4,>=2.5 in /usr/lib/python3/dist-packages (from requests->folium) (2.8)\r\n",
      "Requirement already satisfied: certifi>=2017.4.17 in /usr/lib/python3/dist-packages (from requests->folium) (2019.11.28)\r\n",
      "\u001B[33mWARNING: Running pip as the 'root' user can result in broken permissions and conflicting behaviour with the system package manager. It is recommended to use a virtual environment instead: https://pip.pypa.io/warnings/venv\u001B[0m\u001B[33m\r\n",
      "\u001B[0m\r\n",
      "\u001B[1m[\u001B[0m\u001B[34;49mnotice\u001B[0m\u001B[1;39;49m]\u001B[0m\u001B[39;49m A new release of pip is available: \u001B[0m\u001B[31;49m23.0.1\u001B[0m\u001B[39;49m -> \u001B[0m\u001B[32;49m24.0\u001B[0m\r\n",
      "\u001B[1m[\u001B[0m\u001B[34;49mnotice\u001B[0m\u001B[1;39;49m]\u001B[0m\u001B[39;49m To update, run: \u001B[0m\u001B[32;49mpython3 -m pip install --upgrade pip\u001B[0m\r\n"
     ]
    }
   ],
   "source": [
    "!pip install folium haversine\n",
    "import sys,os\n",
    "sys.path.append('/ikaro/PycharmProjects/medium/scripts')\n",
    "import numpy as np\n",
    "from dataclasses import dataclass,field\n",
    "import pandas as pd\n",
    "from searchrescue import show_map, random_walk_simple,random_walk_with_elevation, get_elevation_grid\n",
    "\n",
    "%matplotlib inline\n",
    "%config InlineBackend.figure_format = 'svg'"
   ]
  },
  {
   "cell_type": "code",
   "execution_count": 23,
   "metadata": {
    "scrolled": true
   },
   "outputs": [
    {
     "data": {
      "text/plain": "<folium.folium.Map at 0x7fe1ffb61610>",
      "text/html": "<div style=\"width:100%;\"><div style=\"position:relative;width:100%;height:0;padding-bottom:60%;\"><span style=\"color:#565656\">Make this Notebook Trusted to load map: File -> Trust Notebook</span><iframe srcdoc=\"&lt;!DOCTYPE html&gt;\n&lt;html&gt;\n&lt;head&gt;\n    \n    &lt;meta http-equiv=&quot;content-type&quot; content=&quot;text/html; charset=UTF-8&quot; /&gt;\n    \n        &lt;script&gt;\n            L_NO_TOUCH = false;\n            L_DISABLE_3D = false;\n        &lt;/script&gt;\n    \n    &lt;style&gt;html, body {width: 100%;height: 100%;margin: 0;padding: 0;}&lt;/style&gt;\n    &lt;style&gt;#map {position:absolute;top:0;bottom:0;right:0;left:0;}&lt;/style&gt;\n    &lt;script src=&quot;https://cdn.jsdelivr.net/npm/leaflet@1.9.3/dist/leaflet.js&quot;&gt;&lt;/script&gt;\n    &lt;script src=&quot;https://code.jquery.com/jquery-3.7.1.min.js&quot;&gt;&lt;/script&gt;\n    &lt;script src=&quot;https://cdn.jsdelivr.net/npm/bootstrap@5.2.2/dist/js/bootstrap.bundle.min.js&quot;&gt;&lt;/script&gt;\n    &lt;script src=&quot;https://cdnjs.cloudflare.com/ajax/libs/Leaflet.awesome-markers/2.0.2/leaflet.awesome-markers.js&quot;&gt;&lt;/script&gt;\n    &lt;link rel=&quot;stylesheet&quot; href=&quot;https://cdn.jsdelivr.net/npm/leaflet@1.9.3/dist/leaflet.css&quot;/&gt;\n    &lt;link rel=&quot;stylesheet&quot; href=&quot;https://cdn.jsdelivr.net/npm/bootstrap@5.2.2/dist/css/bootstrap.min.css&quot;/&gt;\n    &lt;link rel=&quot;stylesheet&quot; href=&quot;https://netdna.bootstrapcdn.com/bootstrap/3.0.0/css/bootstrap.min.css&quot;/&gt;\n    &lt;link rel=&quot;stylesheet&quot; href=&quot;https://cdn.jsdelivr.net/npm/@fortawesome/fontawesome-free@6.2.0/css/all.min.css&quot;/&gt;\n    &lt;link rel=&quot;stylesheet&quot; href=&quot;https://cdnjs.cloudflare.com/ajax/libs/Leaflet.awesome-markers/2.0.2/leaflet.awesome-markers.css&quot;/&gt;\n    &lt;link rel=&quot;stylesheet&quot; href=&quot;https://cdn.jsdelivr.net/gh/python-visualization/folium/folium/templates/leaflet.awesome.rotate.min.css&quot;/&gt;\n    \n            &lt;meta name=&quot;viewport&quot; content=&quot;width=device-width,\n                initial-scale=1.0, maximum-scale=1.0, user-scalable=no&quot; /&gt;\n            &lt;style&gt;\n                #map_0c6c784868b027f1fcd3eb803afe3487 {\n                    position: relative;\n                    width: 100.0%;\n                    height: 100.0%;\n                    left: 0.0%;\n                    top: 0.0%;\n                }\n                .leaflet-container { font-size: 1rem; }\n            &lt;/style&gt;\n        \n&lt;/head&gt;\n&lt;body&gt;\n    \n    \n            &lt;div class=&quot;folium-map&quot; id=&quot;map_0c6c784868b027f1fcd3eb803afe3487&quot; &gt;&lt;/div&gt;\n        \n&lt;/body&gt;\n&lt;script&gt;\n    \n    \n            var map_0c6c784868b027f1fcd3eb803afe3487 = L.map(\n                &quot;map_0c6c784868b027f1fcd3eb803afe3487&quot;,\n                {\n                    center: [37.718780413149965, -119.64038734429597],\n                    crs: L.CRS.EPSG3857,\n                    zoom: 15,\n                    zoomControl: true,\n                    preferCanvas: false,\n                }\n            );\n\n            \n\n        \n    \n            var tile_layer_fbe27606c05f5816fe5f78177fed9c80 = L.tileLayer(\n                &quot;https://tile.openstreetmap.org/{z}/{x}/{y}.png&quot;,\n                {&quot;attribution&quot;: &quot;\\u0026copy; \\u003ca href=\\&quot;https://www.openstreetmap.org/copyright\\&quot;\\u003eOpenStreetMap\\u003c/a\\u003e contributors&quot;, &quot;detectRetina&quot;: false, &quot;maxNativeZoom&quot;: 19, &quot;maxZoom&quot;: 19, &quot;minZoom&quot;: 0, &quot;noWrap&quot;: false, &quot;opacity&quot;: 1, &quot;subdomains&quot;: &quot;abc&quot;, &quot;tms&quot;: false}\n            );\n        \n    \n            tile_layer_fbe27606c05f5816fe5f78177fed9c80.addTo(map_0c6c784868b027f1fcd3eb803afe3487);\n        \n    \n            var tile_layer_c8afe888ddd6f82151579e9b7689502e = L.tileLayer(\n                &quot;https://server.arcgisonline.com/ArcGIS/rest/services/World_Imagery/MapServer/tile/{z}/{y}/{x}&quot;,\n                {&quot;attribution&quot;: &quot;Esri&quot;, &quot;detectRetina&quot;: false, &quot;maxNativeZoom&quot;: 18, &quot;maxZoom&quot;: 18, &quot;minZoom&quot;: 0, &quot;noWrap&quot;: false, &quot;opacity&quot;: 1, &quot;subdomains&quot;: &quot;abc&quot;, &quot;tms&quot;: false}\n            );\n        \n    \n            tile_layer_c8afe888ddd6f82151579e9b7689502e.addTo(map_0c6c784868b027f1fcd3eb803afe3487);\n        \n    \n            var marker_18df120e2e3692d4f48bc9847cebaab1 = L.marker(\n                [37.718780413149965, -119.64038734429597],\n                {}\n            ).addTo(map_0c6c784868b027f1fcd3eb803afe3487);\n        \n    \n            var icon_3b8ad7d149ee4d5fb3eab7ff828f768a = L.AwesomeMarkers.icon(\n                {&quot;extraClasses&quot;: &quot;fa-rotate-0&quot;, &quot;icon&quot;: &quot;info-sign&quot;, &quot;iconColor&quot;: &quot;white&quot;, &quot;markerColor&quot;: &quot;red&quot;, &quot;prefix&quot;: &quot;glyphicon&quot;}\n            );\n            marker_18df120e2e3692d4f48bc9847cebaab1.setIcon(icon_3b8ad7d149ee4d5fb3eab7ff828f768a);\n        \n    \n        var popup_a7c9cb3f4709f757c1c85575f75e76e0 = L.popup({&quot;maxWidth&quot;: &quot;100%&quot;});\n\n        \n            \n                var html_15ced3153800689ca8ce2819b7ad95d7 = $(`&lt;div id=&quot;html_15ced3153800689ca8ce2819b7ad95d7&quot; style=&quot;width: 100.0%; height: 100.0%;&quot;&gt;Last known location&lt;/div&gt;`)[0];\n                popup_a7c9cb3f4709f757c1c85575f75e76e0.setContent(html_15ced3153800689ca8ce2819b7ad95d7);\n            \n        \n\n        marker_18df120e2e3692d4f48bc9847cebaab1.bindPopup(popup_a7c9cb3f4709f757c1c85575f75e76e0)\n        ;\n\n        \n    \n&lt;/script&gt;\n&lt;/html&gt;\" style=\"position:absolute;width:100%;height:100%;left:0;top:0;border:none !important;\" allowfullscreen webkitallowfullscreen mozallowfullscreen></iframe></div></div>"
     },
     "execution_count": 23,
     "metadata": {},
     "output_type": "execute_result"
    }
   ],
   "source": [
    "@dataclass\n",
    "class LostHiker:\n",
    "    start_long: float\n",
    "    start_lat: float\n",
    "    max_speed: float  #Maximum speed in meters per second\n",
    "    hours_missing : float\n",
    "    missing_radius: str = field(init=False, repr=True)\n",
    "    loc: tuple  = field(init=False, repr=True)\n",
    "        \n",
    "    def __post_init__(self):\n",
    "        self.missing_radius = self.max_speed*self.hours_missing*3600 \n",
    "        self.loc=(self.start_long,self.start_lat) #Short hand for cleaner code\n",
    "\n",
    "hiker=LostHiker(start_long=37.718780413149968,start_lat=-119.6403873442959697,max_speed=0.1,hours_missing=24)\n",
    "show_map(hiker,plot_origin=True)"
   ]
  },
  {
   "cell_type": "code",
   "execution_count": 24,
   "metadata": {},
   "outputs": [
    {
     "data": {
      "text/plain": "<folium.folium.Map at 0x7fe1ffb61dc0>",
      "text/html": "<div style=\"width:100%;\"><div style=\"position:relative;width:100%;height:0;padding-bottom:60%;\"><span style=\"color:#565656\">Make this Notebook Trusted to load map: File -> Trust Notebook</span><iframe srcdoc=\"&lt;!DOCTYPE html&gt;\n&lt;html&gt;\n&lt;head&gt;\n    \n    &lt;meta http-equiv=&quot;content-type&quot; content=&quot;text/html; charset=UTF-8&quot; /&gt;\n    \n        &lt;script&gt;\n            L_NO_TOUCH = false;\n            L_DISABLE_3D = false;\n        &lt;/script&gt;\n    \n    &lt;style&gt;html, body {width: 100%;height: 100%;margin: 0;padding: 0;}&lt;/style&gt;\n    &lt;style&gt;#map {position:absolute;top:0;bottom:0;right:0;left:0;}&lt;/style&gt;\n    &lt;script src=&quot;https://cdn.jsdelivr.net/npm/leaflet@1.9.3/dist/leaflet.js&quot;&gt;&lt;/script&gt;\n    &lt;script src=&quot;https://code.jquery.com/jquery-3.7.1.min.js&quot;&gt;&lt;/script&gt;\n    &lt;script src=&quot;https://cdn.jsdelivr.net/npm/bootstrap@5.2.2/dist/js/bootstrap.bundle.min.js&quot;&gt;&lt;/script&gt;\n    &lt;script src=&quot;https://cdnjs.cloudflare.com/ajax/libs/Leaflet.awesome-markers/2.0.2/leaflet.awesome-markers.js&quot;&gt;&lt;/script&gt;\n    &lt;link rel=&quot;stylesheet&quot; href=&quot;https://cdn.jsdelivr.net/npm/leaflet@1.9.3/dist/leaflet.css&quot;/&gt;\n    &lt;link rel=&quot;stylesheet&quot; href=&quot;https://cdn.jsdelivr.net/npm/bootstrap@5.2.2/dist/css/bootstrap.min.css&quot;/&gt;\n    &lt;link rel=&quot;stylesheet&quot; href=&quot;https://netdna.bootstrapcdn.com/bootstrap/3.0.0/css/bootstrap.min.css&quot;/&gt;\n    &lt;link rel=&quot;stylesheet&quot; href=&quot;https://cdn.jsdelivr.net/npm/@fortawesome/fontawesome-free@6.2.0/css/all.min.css&quot;/&gt;\n    &lt;link rel=&quot;stylesheet&quot; href=&quot;https://cdnjs.cloudflare.com/ajax/libs/Leaflet.awesome-markers/2.0.2/leaflet.awesome-markers.css&quot;/&gt;\n    &lt;link rel=&quot;stylesheet&quot; href=&quot;https://cdn.jsdelivr.net/gh/python-visualization/folium/folium/templates/leaflet.awesome.rotate.min.css&quot;/&gt;\n    \n            &lt;meta name=&quot;viewport&quot; content=&quot;width=device-width,\n                initial-scale=1.0, maximum-scale=1.0, user-scalable=no&quot; /&gt;\n            &lt;style&gt;\n                #map_a2bfe28d5074d74e0cadbf3d8bb64f38 {\n                    position: relative;\n                    width: 100.0%;\n                    height: 100.0%;\n                    left: 0.0%;\n                    top: 0.0%;\n                }\n                .leaflet-container { font-size: 1rem; }\n            &lt;/style&gt;\n        \n&lt;/head&gt;\n&lt;body&gt;\n    \n    \n            &lt;div class=&quot;folium-map&quot; id=&quot;map_a2bfe28d5074d74e0cadbf3d8bb64f38&quot; &gt;&lt;/div&gt;\n        \n&lt;/body&gt;\n&lt;script&gt;\n    \n    \n            var map_a2bfe28d5074d74e0cadbf3d8bb64f38 = L.map(\n                &quot;map_a2bfe28d5074d74e0cadbf3d8bb64f38&quot;,\n                {\n                    center: [37.718780413149965, -119.64038734429597],\n                    crs: L.CRS.EPSG3857,\n                    zoom: 11,\n                    zoomControl: true,\n                    preferCanvas: false,\n                }\n            );\n\n            \n\n        \n    \n            var tile_layer_37cea0459f02aba3862a1a18ec74637d = L.tileLayer(\n                &quot;https://tile.openstreetmap.org/{z}/{x}/{y}.png&quot;,\n                {&quot;attribution&quot;: &quot;\\u0026copy; \\u003ca href=\\&quot;https://www.openstreetmap.org/copyright\\&quot;\\u003eOpenStreetMap\\u003c/a\\u003e contributors&quot;, &quot;detectRetina&quot;: false, &quot;maxNativeZoom&quot;: 19, &quot;maxZoom&quot;: 19, &quot;minZoom&quot;: 0, &quot;noWrap&quot;: false, &quot;opacity&quot;: 1, &quot;subdomains&quot;: &quot;abc&quot;, &quot;tms&quot;: false}\n            );\n        \n    \n            tile_layer_37cea0459f02aba3862a1a18ec74637d.addTo(map_a2bfe28d5074d74e0cadbf3d8bb64f38);\n        \n    \n            var tile_layer_7193c090f6fe98d72a43b4e916c9929d = L.tileLayer(\n                &quot;https://server.arcgisonline.com/ArcGIS/rest/services/World_Imagery/MapServer/tile/{z}/{y}/{x}&quot;,\n                {&quot;attribution&quot;: &quot;Esri&quot;, &quot;detectRetina&quot;: false, &quot;maxNativeZoom&quot;: 18, &quot;maxZoom&quot;: 18, &quot;minZoom&quot;: 0, &quot;noWrap&quot;: false, &quot;opacity&quot;: 1, &quot;subdomains&quot;: &quot;abc&quot;, &quot;tms&quot;: false}\n            );\n        \n    \n            tile_layer_7193c090f6fe98d72a43b4e916c9929d.addTo(map_a2bfe28d5074d74e0cadbf3d8bb64f38);\n        \n    \n            var marker_beb869bc39dee026fc15f73e6fdcad88 = L.marker(\n                [37.718780413149965, -119.64038734429597],\n                {}\n            ).addTo(map_a2bfe28d5074d74e0cadbf3d8bb64f38);\n        \n    \n            var icon_8a39cc3036f3f7997c6c119d43837ac7 = L.AwesomeMarkers.icon(\n                {&quot;extraClasses&quot;: &quot;fa-rotate-0&quot;, &quot;icon&quot;: &quot;info-sign&quot;, &quot;iconColor&quot;: &quot;white&quot;, &quot;markerColor&quot;: &quot;red&quot;, &quot;prefix&quot;: &quot;glyphicon&quot;}\n            );\n            marker_beb869bc39dee026fc15f73e6fdcad88.setIcon(icon_8a39cc3036f3f7997c6c119d43837ac7);\n        \n    \n        var popup_678381635d9d32e25381b01bfa4ce4ed = L.popup({&quot;maxWidth&quot;: &quot;100%&quot;});\n\n        \n            \n                var html_f3bd7d26087130228f0898b01eaebed0 = $(`&lt;div id=&quot;html_f3bd7d26087130228f0898b01eaebed0&quot; style=&quot;width: 100.0%; height: 100.0%;&quot;&gt;Last known location&lt;/div&gt;`)[0];\n                popup_678381635d9d32e25381b01bfa4ce4ed.setContent(html_f3bd7d26087130228f0898b01eaebed0);\n            \n        \n\n        marker_beb869bc39dee026fc15f73e6fdcad88.bindPopup(popup_678381635d9d32e25381b01bfa4ce4ed)\n        ;\n\n        \n    \n    \n            var circle_317e5a1ae3c5fe0af1a0ffc65d7c2c22 = L.circle(\n                [37.718780413149965, -119.64038734429597],\n                {&quot;bubblingMouseEvents&quot;: true, &quot;color&quot;: &quot;#3388ff&quot;, &quot;dashArray&quot;: null, &quot;dashOffset&quot;: null, &quot;fill&quot;: false, &quot;fillColor&quot;: &quot;#3388ff&quot;, &quot;fillOpacity&quot;: 0.2, &quot;fillRule&quot;: &quot;evenodd&quot;, &quot;lineCap&quot;: &quot;round&quot;, &quot;lineJoin&quot;: &quot;round&quot;, &quot;opacity&quot;: 1.0, &quot;radius&quot;: 8640.000000000002, &quot;stroke&quot;: true, &quot;weight&quot;: 3}\n            ).addTo(map_a2bfe28d5074d74e0cadbf3d8bb64f38);\n        \n&lt;/script&gt;\n&lt;/html&gt;\" style=\"position:absolute;width:100%;height:100%;left:0;top:0;border:none !important;\" allowfullscreen webkitallowfullscreen mozallowfullscreen></iframe></div></div>"
     },
     "execution_count": 24,
     "metadata": {},
     "output_type": "execute_result"
    }
   ],
   "source": [
    "show_map(hiker,add_missing_radius=True,zoom=11,plot_origin=True)"
   ]
  },
  {
   "cell_type": "code",
   "execution_count": 25,
   "metadata": {},
   "outputs": [
    {
     "data": {
      "text/plain": "<folium.folium.Map at 0x7fe1ffb6d730>",
      "text/html": "<div style=\"width:100%;\"><div style=\"position:relative;width:100%;height:0;padding-bottom:60%;\"><span style=\"color:#565656\">Make this Notebook Trusted to load map: File -> Trust Notebook</span><iframe srcdoc=\"&lt;!DOCTYPE html&gt;\n&lt;html&gt;\n&lt;head&gt;\n    \n    &lt;meta http-equiv=&quot;content-type&quot; content=&quot;text/html; charset=UTF-8&quot; /&gt;\n    \n        &lt;script&gt;\n            L_NO_TOUCH = false;\n            L_DISABLE_3D = false;\n        &lt;/script&gt;\n    \n    &lt;style&gt;html, body {width: 100%;height: 100%;margin: 0;padding: 0;}&lt;/style&gt;\n    &lt;style&gt;#map {position:absolute;top:0;bottom:0;right:0;left:0;}&lt;/style&gt;\n    &lt;script src=&quot;https://cdn.jsdelivr.net/npm/leaflet@1.9.3/dist/leaflet.js&quot;&gt;&lt;/script&gt;\n    &lt;script src=&quot;https://code.jquery.com/jquery-3.7.1.min.js&quot;&gt;&lt;/script&gt;\n    &lt;script src=&quot;https://cdn.jsdelivr.net/npm/bootstrap@5.2.2/dist/js/bootstrap.bundle.min.js&quot;&gt;&lt;/script&gt;\n    &lt;script src=&quot;https://cdnjs.cloudflare.com/ajax/libs/Leaflet.awesome-markers/2.0.2/leaflet.awesome-markers.js&quot;&gt;&lt;/script&gt;\n    &lt;link rel=&quot;stylesheet&quot; href=&quot;https://cdn.jsdelivr.net/npm/leaflet@1.9.3/dist/leaflet.css&quot;/&gt;\n    &lt;link rel=&quot;stylesheet&quot; href=&quot;https://cdn.jsdelivr.net/npm/bootstrap@5.2.2/dist/css/bootstrap.min.css&quot;/&gt;\n    &lt;link rel=&quot;stylesheet&quot; href=&quot;https://netdna.bootstrapcdn.com/bootstrap/3.0.0/css/bootstrap.min.css&quot;/&gt;\n    &lt;link rel=&quot;stylesheet&quot; href=&quot;https://cdn.jsdelivr.net/npm/@fortawesome/fontawesome-free@6.2.0/css/all.min.css&quot;/&gt;\n    &lt;link rel=&quot;stylesheet&quot; href=&quot;https://cdnjs.cloudflare.com/ajax/libs/Leaflet.awesome-markers/2.0.2/leaflet.awesome-markers.css&quot;/&gt;\n    &lt;link rel=&quot;stylesheet&quot; href=&quot;https://cdn.jsdelivr.net/gh/python-visualization/folium/folium/templates/leaflet.awesome.rotate.min.css&quot;/&gt;\n    \n            &lt;meta name=&quot;viewport&quot; content=&quot;width=device-width,\n                initial-scale=1.0, maximum-scale=1.0, user-scalable=no&quot; /&gt;\n            &lt;style&gt;\n                #map_d90654662a8037cccbb08bac4ad343ae {\n                    position: relative;\n                    width: 100.0%;\n                    height: 100.0%;\n                    left: 0.0%;\n                    top: 0.0%;\n                }\n                .leaflet-container { font-size: 1rem; }\n            &lt;/style&gt;\n        \n&lt;/head&gt;\n&lt;body&gt;\n    \n    \n            &lt;div class=&quot;folium-map&quot; id=&quot;map_d90654662a8037cccbb08bac4ad343ae&quot; &gt;&lt;/div&gt;\n        \n&lt;/body&gt;\n&lt;script&gt;\n    \n    \n            var map_d90654662a8037cccbb08bac4ad343ae = L.map(\n                &quot;map_d90654662a8037cccbb08bac4ad343ae&quot;,\n                {\n                    center: [37.718780413149965, -119.64038734429597],\n                    crs: L.CRS.EPSG3857,\n                    zoom: 11,\n                    zoomControl: true,\n                    preferCanvas: false,\n                }\n            );\n\n            \n\n        \n    \n            var tile_layer_f4f1ff249934d56852f9d60539a76f14 = L.tileLayer(\n                &quot;https://tile.openstreetmap.org/{z}/{x}/{y}.png&quot;,\n                {&quot;attribution&quot;: &quot;\\u0026copy; \\u003ca href=\\&quot;https://www.openstreetmap.org/copyright\\&quot;\\u003eOpenStreetMap\\u003c/a\\u003e contributors&quot;, &quot;detectRetina&quot;: false, &quot;maxNativeZoom&quot;: 19, &quot;maxZoom&quot;: 19, &quot;minZoom&quot;: 0, &quot;noWrap&quot;: false, &quot;opacity&quot;: 1, &quot;subdomains&quot;: &quot;abc&quot;, &quot;tms&quot;: false}\n            );\n        \n    \n            tile_layer_f4f1ff249934d56852f9d60539a76f14.addTo(map_d90654662a8037cccbb08bac4ad343ae);\n        \n    \n            var tile_layer_e5d973e8a1a75dde820b1f76467a6579 = L.tileLayer(\n                &quot;https://server.arcgisonline.com/ArcGIS/rest/services/World_Imagery/MapServer/tile/{z}/{y}/{x}&quot;,\n                {&quot;attribution&quot;: &quot;Esri&quot;, &quot;detectRetina&quot;: false, &quot;maxNativeZoom&quot;: 18, &quot;maxZoom&quot;: 18, &quot;minZoom&quot;: 0, &quot;noWrap&quot;: false, &quot;opacity&quot;: 1, &quot;subdomains&quot;: &quot;abc&quot;, &quot;tms&quot;: false}\n            );\n        \n    \n            tile_layer_e5d973e8a1a75dde820b1f76467a6579.addTo(map_d90654662a8037cccbb08bac4ad343ae);\n        \n    \n            var marker_e398c32e5a7bb1a87b993006b111772b = L.marker(\n                [37.718780413149965, -119.64038734429597],\n                {}\n            ).addTo(map_d90654662a8037cccbb08bac4ad343ae);\n        \n    \n            var icon_188c698c44a4b6a1f5a4b5bed343979e = L.AwesomeMarkers.icon(\n                {&quot;extraClasses&quot;: &quot;fa-rotate-0&quot;, &quot;icon&quot;: &quot;info-sign&quot;, &quot;iconColor&quot;: &quot;white&quot;, &quot;markerColor&quot;: &quot;red&quot;, &quot;prefix&quot;: &quot;glyphicon&quot;}\n            );\n            marker_e398c32e5a7bb1a87b993006b111772b.setIcon(icon_188c698c44a4b6a1f5a4b5bed343979e);\n        \n    \n        var popup_8868ef054f33d8edf9edc15cee75d193 = L.popup({&quot;maxWidth&quot;: &quot;100%&quot;});\n\n        \n            \n                var html_214c35e970f570bf4c4b3a6ca80f61f5 = $(`&lt;div id=&quot;html_214c35e970f570bf4c4b3a6ca80f61f5&quot; style=&quot;width: 100.0%; height: 100.0%;&quot;&gt;Last known location&lt;/div&gt;`)[0];\n                popup_8868ef054f33d8edf9edc15cee75d193.setContent(html_214c35e970f570bf4c4b3a6ca80f61f5);\n            \n        \n\n        marker_e398c32e5a7bb1a87b993006b111772b.bindPopup(popup_8868ef054f33d8edf9edc15cee75d193)\n        ;\n\n        \n    \n    \n            var circle_9bdad99dbef38419dc9705b20b6b8dc4 = L.circle(\n                [37.718780413149965, -119.64038734429597],\n                {&quot;bubblingMouseEvents&quot;: true, &quot;color&quot;: &quot;#3388ff&quot;, &quot;dashArray&quot;: null, &quot;dashOffset&quot;: null, &quot;fill&quot;: false, &quot;fillColor&quot;: &quot;#3388ff&quot;, &quot;fillOpacity&quot;: 0.2, &quot;fillRule&quot;: &quot;evenodd&quot;, &quot;lineCap&quot;: &quot;round&quot;, &quot;lineJoin&quot;: &quot;round&quot;, &quot;opacity&quot;: 1.0, &quot;radius&quot;: 8640.000000000002, &quot;stroke&quot;: true, &quot;weight&quot;: 3}\n            ).addTo(map_d90654662a8037cccbb08bac4ad343ae);\n        \n    \n            var poly_line_f1f8705b7e5b7dace7653308081476b0 = L.polyline(\n                [[37.718780413149965, -119.64038734429597], [37.719041575753344, -119.64047293677338], [37.71929605319623, -119.64035964389967], [37.71925157987173, -119.64069605272712], [37.71900549571397, -119.64055623217558], [37.71880776454099, -119.64032418457246], [37.718540499634706, -119.64027757388274], [37.718443380077744, -119.64059578033759], [37.71852696269822, -119.64027148933123], [37.71879671134239, -119.64027788683278], [37.718561429385126, -119.64011097461503], [37.718831222520144, -119.64010937314215], [37.71861374302715, -119.6403112179959], [37.71888121109254, -119.6403559275337], [37.71914761329021, -119.64040985688649], [37.71898520407199, -119.64068221055739], [37.718883244368755, -119.64036643120102], [37.71884031728017, -119.64002970338883], [37.71857545869231, -119.6400946567488], [37.71841179984127, -119.639823503318], [37.71825797006984, -119.63954330503742], [37.718413049181336, -119.6392642095312], [37.71834084140604, -119.63893558145226], [37.71852903705932, -119.6391799717525], [37.71850955297793, -119.6395201523505], [37.718779183375034, -119.63953210469778], [37.7185181294476, -119.63944598431888], [37.71872052842699, -119.63967150758552], [37.718523436151756, -119.639438593836], [37.71874975393163, -119.6396242618695], [37.71848002353212, -119.6396167347166], [37.71855593970934, -119.63994402503786], [37.71835939475649, -119.63971037382309], [37.71809149203616, -119.63975071021576], [37.71786653986563, -119.63993901015826], [37.71789196179977, -119.64027856090081], [37.718053259579726, -119.64000515770464], [37.71823638607951, -119.63975468952576], [37.718319045325806, -119.64007935764614], [37.7184739161839, -119.63980007716467], [37.71851906477549, -119.64013633867904], [37.71825599221141, -119.64021200764769], [37.71852452414834, -119.64024498647403], [37.71825833216631, -119.64030054954], [37.718012350359274, -119.6401604433305], [37.718253799848775, -119.64031262855826], [37.718523114867494, -119.64033298777457], [37.718254951274005, -119.64029552394948], [37.71810480900412, -119.64057890019805], [37.717998346762776, -119.64089229211332], [37.71773108430975, -119.6408456594574], [37.717553842721856, -119.64058851623241], [37.71767554381017, -119.64089291198488], [37.71778494086759, -119.64058114088336], [37.71751651265118, -119.64061544228929], [37.71778537753047, -119.64064375558623], [37.718047917695465, -119.64056518756854], [37.71829207846225, -119.64071029517784], [37.71855928475366, -119.640757439728], [37.71833398405335, -119.64056980571279], [37.718243963713626, -119.6408913302102], [37.71851372156557, -119.64088558663464], [37.718674581844034, -119.64061176951748], [37.71849620523886, -119.64035588037585], [37.71866469603949, -119.6400894982725], [37.71893061358436, -119.64014712352194], [37.71911801255453, -119.64039249220619], [37.71922823985354, -119.6400811827275], [37.71896094180635, -119.64003487648733], [37.719142951361405, -119.63978310746539], [37.71888791608386, -119.63989437732862], [37.71862532673422, -119.63997268311074], [37.71888027011606, -119.63986107758934], [37.718613050211374, -119.63981405630945], [37.71859381966335, -119.63947385226955], [37.71832772792122, -119.63941752704277], [37.718596615869146, -119.6394454883537], [37.718786343256916, -119.63920299733878], [37.719055973136555, -119.63921496837222], [37.71932519390589, -119.63923723101149], [37.71951185594922, -119.63948349709281], [37.71972229669399, -119.63969693595621], [37.719974317645104, -119.63957518202389], [37.72024214297036, -119.63961633264879], [37.7205032600912, -119.63970214830428], [37.72077299300617, -119.63969476641411], [37.72065788243212, -119.63938628799504], [37.72072270262456, -119.63905519726056], [37.72092781833216, -119.63927676967698], [37.72105583428036, -119.63897652830737], [37.72130113194197, -119.63883451228195], [37.72129852043053, -119.63917558027885], [37.72136610296139, -119.63884537061887], [37.72163110147218, -119.63890940780755], [37.7217653644361, -119.63920525888862], [37.72197528133471, -119.6389909906696], [37.721899834987376, -119.6386635116518], [37.72209638377247, -119.63889716888163], [37.722348150837675, -119.63877457441991], [37.72231037788194, -119.63843684518282], [37.72212927595101, -119.63818402149636], [37.72192180076469, -119.63796598485426], [37.72212933185605, -119.63774803326528], [37.722320956056144, -119.63798814023781], [37.72249213248667, -119.63772449514771], [37.72222498513294, -119.63767681725541], [37.72208096548365, -119.63738839163693], [37.721986183489335, -119.63770773784617], [37.72201057729237, -119.63804742798416], [37.72180457575501, -119.6378271697232], [37.721551089627546, -119.63771037517164], [37.7212916254706, -119.63761688796441], [37.72104744921088, -119.63747181614985], [37.72106612238161, -119.63781208107764], [37.72098115724444, -119.63813580848951], [37.72100997204459, -119.63847494017276], [37.72126918460795, -119.63838034440921], [37.72121027754925, -119.63871319876371], [37.72147835952454, -119.63867481123239], [37.72141120746659, -119.6383444607363], [37.721152400753816, -119.63844081638646], [37.721203930562275, -119.63810601199667], [37.7214449735679, -119.63795279384651], [37.72149681234904, -119.63761806437464], [37.721596040750775, -119.63730088634762], [37.72148041698604, -119.63699271140541], [37.7212965099143, -119.63674314798216], [37.7214189427904, -119.63704708975125], [37.721259889594734, -119.63677158049488], [37.72152750463549, -119.63681486317653], [37.721662641361135, -119.63711007732898], [37.72161658573759, -119.63744615646102], [37.721652261931226, -119.63710806617313], [37.721917786607534, -119.63704761255167], [37.7221873402645, -119.63703315554714], [37.722275203568984, -119.63735564939435], [37.72245146518723, -119.63709741546884], [37.72253778328308, -119.63677425420116], [37.72275173513323, -119.63656646050923], [37.722579621158594, -119.63682912911517], [37.72270629328051, -119.6371302867789], [37.722663057345564, -119.63746696880942], [37.72289397694551, -119.63729057897862], [37.722660951182235, -119.63746248466236], [37.72269366364719, -119.63712391085892], [37.72266406578914, -119.63678487927149], [37.72241335746486, -119.63691089445621], [37.722319457188625, -119.63723065815284], [37.72253656310365, -119.63743315484746], [37.722610319637916, -119.6371050583265], [37.72260636436792, -119.63676400498095], [37.72286550257601, -119.63666908213108], [37.72313235326837, -119.63661881857088], [37.72286874778969, -119.63654616947768], [37.72262239285853, -119.6366852326815], [37.722859903564924, -119.63652343490915], [37.72259811307615, -119.63660590918687], [37.72268211761432, -119.63693004409687], [37.72272532398507, -119.63726673228001], [37.72294313822433, -119.63706545394241], [37.72271440274344, -119.6368845726154], [37.72262832299438, -119.6365613089775], [37.72246878280108, -119.63628624563732], [37.72253391672996, -119.63595524523102], [37.72245995074345, -119.63562722442192], [37.72270327895423, -119.63577455882854], [37.72297233169126, -119.63579986178424], [37.72282064088426, -119.6360819349303], [37.72304360449796, -119.63627399030072], [37.72280811088307, -119.63644043434175], [37.72255248697603, -119.63654952955697], [37.72256040395974, -119.63689047243342], [37.72230788413613, -119.63701056720721], [37.72257650937178, -119.63704231024232], [37.72270473214487, -119.63674220328292], [37.72288101244957, -119.63700041831775], [37.72266491372331, -119.63720463065361], [37.72240373678822, -119.63711910391042], [37.7226732400438, -119.63710321576879], [37.72243068264499, -119.63695386374783], [37.72239687812878, -119.63729226484516], [37.722470936724, -119.63696427771478], [37.72231532897017, -119.6372429178475], [37.72208492806801, -119.63706544858171], [37.72182043996553, -119.63699812280666], [37.72184054362062, -119.63665798462478], [37.721654875782946, -119.6369054567262], [37.721408789418554, -119.63676563784558], [37.72147538132152, -119.63643510618108], [37.72121609089449, -119.63634085183465], [37.721130047197484, -119.63666412427412], [37.72139818176486, -119.63662632841614], [37.72113147078646, -119.63667776237412], [37.72123393026879, -119.6363622320758], [37.72146389868519, -119.63654059361409], [37.721228222847266, -119.63637456586805], [37.72103549404243, -119.63613587967394], [37.720938336367084, -119.63581768109967], [37.72115817276932, -119.63561995262128], [37.72137020104492, -119.63583087023726], [37.72148402276753, -119.63552162542896], [37.72174309729248, -119.63561682427418], [37.72198289961898, -119.63577312413798], [37.72194475677188, -119.6354354630196], [37.72220608900005, -119.63535069838551], [37.72209707025656, -119.63566269981374], [37.72229891553598, -119.63543637392347], [37.72227504429989, -119.6357761247164], [37.72244207122615, -119.63604398977121], [37.72254556652957, -119.63572899466148], [37.722773851757225, -119.63554720686726], [37.722903248370464, -119.6358465082603], [37.723161884219145, -119.63594359669425], [37.723071269076264, -119.63626487499506], [37.72299696505685, -119.63593697393931], [37.72317764597715, -119.63568366628925], [37.723445722390764, -119.63572211686869], [37.72322871068274, -119.635924777388], [37.72322146814819, -119.6362657473072], [37.723082866539954, -119.6365583888408], [37.72304331724212, -119.63689579625472], [37.72295795659337, -119.63657222654432], [37.723156458764414, -119.63634122040493], [37.72328466723988, -119.63604110133261], [37.723018879840204, -119.63609968173905], [37.72290190809073, -119.63579231501306], [37.7228159956343, -119.63546897943198], [37.72265381099319, -119.63519639846747], [37.72278344946085, -119.63549553204976], [37.722529023976676, -119.63560901661637], [37.722330595414014, -119.635840121855], [37.72229196881565, -119.63550254705848], [37.722560407149004, -119.63553672390648], [37.72260487484118, -119.63520029886203], [37.72255298748026, -119.63486557641362], [37.72277924733932, -119.63505136733754], [37.72256547780006, -119.63484327388294], [37.7225481140373, -119.63518365650694], [37.72245677139034, -119.63550460269639], [37.72232596693159, -119.63520628283354], [37.72213195832846, -119.63496925602529], [37.722199874228856, -119.63529936006393], [37.721966723228824, -119.63512772761634], [37.722089818302344, -119.6348242108849], [37.72231521152671, -119.63501167673299], [37.72222094250475, -119.63469208692015], [37.72197830266678, -119.63454294999457], [37.72173902308904, -119.63438537486478], [37.72147703010392, -119.63430393605668], [37.72156505487212, -119.63462635642918], [37.72129557155726, -119.63460993682418], [37.72110146231824, -119.63437304503748], [37.72115085845394, -119.6347083627934], [37.721414296670986, -119.63478197352914], [37.721507113380575, -119.6351022385538], [37.72177595849069, -119.63507362528586], [37.72193800697131, -119.63534633242222], [37.72181641888085, -119.63504184699278], [37.72178995104981, -119.63538128797434], [37.72153687880066, -119.63526306763316], [37.72139802664793, -119.63555551261595], [37.72146767363923, -119.63588503638593], [37.72169587056416, -119.63570307412326], [37.72190224444003, -119.63592277426407], [37.72216346375911, -119.63600809329056], [37.72198960316513, -119.63626891480864], [37.722153340459975, -119.63599782397972], [37.72222769775259, -119.63566994596087], [37.722339741089485, -119.63535966130536], [37.72237832877403, -119.6350220791781], [37.72263774791837, -119.63511576719937], [37.722850655157096, -119.63490626532452], [37.72287712605035, -119.63524571078518], [37.722767199878305, -119.63493421584039], [37.72288521365948, -119.6346274869884], [37.72279184920067, -119.63430747057919], [37.72265929396154, -119.63460455402715], [37.72243118349319, -119.63442241621766], [37.72237050989098, -119.63409006420825], [37.72219795692035, -119.63435227070856], [37.721963231027175, -119.63452043720945], [37.72212260693535, -119.63424522356789], [37.72194314243374, -119.63399054114453], [37.7222116852365, -119.63395770238829], [37.72194254568354, -119.63398148363365], [37.7218498880624, -119.63366114310722], [37.72204377049737, -119.63342395225587], [37.721788384890004, -119.63331396975309], [37.722037412000205, -119.63318273564828]],\n                {&quot;bubblingMouseEvents&quot;: true, &quot;color&quot;: &quot;red&quot;, &quot;dashArray&quot;: null, &quot;dashOffset&quot;: null, &quot;fill&quot;: false, &quot;fillColor&quot;: &quot;red&quot;, &quot;fillOpacity&quot;: 0.2, &quot;fillRule&quot;: &quot;evenodd&quot;, &quot;lineCap&quot;: &quot;round&quot;, &quot;lineJoin&quot;: &quot;round&quot;, &quot;noClip&quot;: false, &quot;opacity&quot;: 1.0, &quot;smoothFactor&quot;: 1.0, &quot;stroke&quot;: true, &quot;weight&quot;: 3}\n            ).addTo(map_d90654662a8037cccbb08bac4ad343ae);\n        \n    \n            poly_line_f1f8705b7e5b7dace7653308081476b0.bindTooltip(\n                `&lt;div&gt;\n                     trail\n                 &lt;/div&gt;`,\n                {&quot;sticky&quot;: true}\n            );\n        \n&lt;/script&gt;\n&lt;/html&gt;\" style=\"position:absolute;width:100%;height:100%;left:0;top:0;border:none !important;\" allowfullscreen webkitallowfullscreen mozallowfullscreen></iframe></div></div>"
     },
     "execution_count": 25,
     "metadata": {},
     "output_type": "execute_result"
    }
   ],
   "source": [
    "trails=random_walk_simple(hiker)\n",
    "show_map(hiker,trail=trails[0],add_missing_radius=True,zoom=11,plot_origin=True)"
   ]
  },
  {
   "cell_type": "code",
   "execution_count": 26,
   "metadata": {},
   "outputs": [
    {
     "name": "stdout",
     "output_type": "stream",
     "text": [
      "Loading cache from local diretory /ikaro\n",
      "Loading cache file elevation_res10m_v4.csv\n",
      "Total latitude points in the grid =1000\n",
      "Total longitude points in the grid =1000\n",
      "df.shape=(1001000, 6)\n",
      " 0.207 valid elevation data (N=1001000)\n",
      "Querying elevation data for grid size=1001000 50-batch queries=20020 grid_N=1000 (grid_N^2= 1000000 ) \n",
      "Getting 4147.0 /20020 next batch\n",
      "Got 0.207 valid elevation data (N=50) from query 4147.0\n",
      "Getting 4148.0 /20020 next batch\n",
      "Got 0.207 valid elevation data (N=50) from query 4148.0\n",
      "Getting 4149.0 /20020 next batch\n",
      "Got 0.207 valid elevation data (N=50) from query 4149.0\n"
     ]
    },
    {
     "ename": "HTTPError",
     "evalue": "504 Server Error: Gateway Timeout for url: https://epqs.nationalmap.gov/v1/json?output=json&x=-119.67368444368162&y=37.76373044188202&units=Meters",
     "output_type": "error",
     "traceback": [
      "\u001B[0;31m---------------------------------------------------------------------------\u001B[0m",
      "\u001B[0;31mHTTPError\u001B[0m                                 Traceback (most recent call last)",
      "Cell \u001B[0;32mIn[26], line 1\u001B[0m\n\u001B[0;32m----> 1\u001B[0m grid,xy_grid\u001B[38;5;241m=\u001B[39m\u001B[43mget_elevation_grid\u001B[49m\u001B[43m(\u001B[49m\u001B[43mhiker\u001B[49m\u001B[43m,\u001B[49m\u001B[43mgrid_range\u001B[49m\u001B[38;5;241;43m=\u001B[39;49m\u001B[38;5;241;43m10000\u001B[39;49m\u001B[43m,\u001B[49m\u001B[43mgrid_resolution\u001B[49m\u001B[38;5;241;43m=\u001B[39;49m\u001B[38;5;241;43m10\u001B[39;49m\u001B[43m,\u001B[49m\u001B[43mrecache\u001B[49m\u001B[38;5;241;43m=\u001B[39;49m\u001B[38;5;28;43;01mTrue\u001B[39;49;00m\u001B[43m)\u001B[49m\n\u001B[1;32m      2\u001B[0m show_map(hiker,trail\u001B[38;5;241m=\u001B[39m\u001B[38;5;28;01mNone\u001B[39;00m, grid\u001B[38;5;241m=\u001B[39mgrid, plot_origin\u001B[38;5;241m=\u001B[39m\u001B[38;5;28;01mTrue\u001B[39;00m)\n",
      "File \u001B[0;32m/ikaro/PycharmProjects/medium/scripts/searchrescue.py:141\u001B[0m, in \u001B[0;36mget_elevation_grid\u001B[0;34m(hiker, grid_range, grid_resolution, recache)\u001B[0m\n\u001B[1;32m    139\u001B[0m params \u001B[38;5;241m=\u001B[39m {\u001B[38;5;124m'\u001B[39m\u001B[38;5;124moutput\u001B[39m\u001B[38;5;124m'\u001B[39m: \u001B[38;5;124m'\u001B[39m\u001B[38;5;124mjson\u001B[39m\u001B[38;5;124m'\u001B[39m, \u001B[38;5;124m'\u001B[39m\u001B[38;5;124mx\u001B[39m\u001B[38;5;124m'\u001B[39m: lon, \u001B[38;5;124m'\u001B[39m\u001B[38;5;124my\u001B[39m\u001B[38;5;124m'\u001B[39m: lat, \u001B[38;5;124m'\u001B[39m\u001B[38;5;124munits\u001B[39m\u001B[38;5;124m'\u001B[39m: \u001B[38;5;124m'\u001B[39m\u001B[38;5;124mMeters\u001B[39m\u001B[38;5;124m'\u001B[39m}\n\u001B[1;32m    140\u001B[0m result \u001B[38;5;241m=\u001B[39m requests\u001B[38;5;241m.\u001B[39mget((url \u001B[38;5;241m+\u001B[39m urllib\u001B[38;5;241m.\u001B[39mparse\u001B[38;5;241m.\u001B[39murlencode(params)))\n\u001B[0;32m--> 141\u001B[0m \u001B[43mresult\u001B[49m\u001B[38;5;241;43m.\u001B[39;49m\u001B[43mraise_for_status\u001B[49m\u001B[43m(\u001B[49m\u001B[43m)\u001B[49m  \u001B[38;5;66;03m# raises exception when not a 2xx response\u001B[39;00m\n\u001B[1;32m    142\u001B[0m \u001B[38;5;28;01mif\u001B[39;00m result\u001B[38;5;241m.\u001B[39mstatus_code \u001B[38;5;129;01min\u001B[39;00m [\u001B[38;5;241m204\u001B[39m,\u001B[38;5;241m404\u001B[39m]:\n\u001B[1;32m    143\u001B[0m     \u001B[38;5;28;01mcontinue\u001B[39;00m\n",
      "File \u001B[0;32m/usr/local/lib/python3.8/dist-packages/requests/models.py:1021\u001B[0m, in \u001B[0;36mResponse.raise_for_status\u001B[0;34m(self)\u001B[0m\n\u001B[1;32m   1016\u001B[0m     http_error_msg \u001B[38;5;241m=\u001B[39m (\n\u001B[1;32m   1017\u001B[0m         \u001B[38;5;124mf\u001B[39m\u001B[38;5;124m\"\u001B[39m\u001B[38;5;132;01m{\u001B[39;00m\u001B[38;5;28mself\u001B[39m\u001B[38;5;241m.\u001B[39mstatus_code\u001B[38;5;132;01m}\u001B[39;00m\u001B[38;5;124m Server Error: \u001B[39m\u001B[38;5;132;01m{\u001B[39;00mreason\u001B[38;5;132;01m}\u001B[39;00m\u001B[38;5;124m for url: \u001B[39m\u001B[38;5;132;01m{\u001B[39;00m\u001B[38;5;28mself\u001B[39m\u001B[38;5;241m.\u001B[39murl\u001B[38;5;132;01m}\u001B[39;00m\u001B[38;5;124m\"\u001B[39m\n\u001B[1;32m   1018\u001B[0m     )\n\u001B[1;32m   1020\u001B[0m \u001B[38;5;28;01mif\u001B[39;00m http_error_msg:\n\u001B[0;32m-> 1021\u001B[0m     \u001B[38;5;28;01mraise\u001B[39;00m HTTPError(http_error_msg, response\u001B[38;5;241m=\u001B[39m\u001B[38;5;28mself\u001B[39m)\n",
      "\u001B[0;31mHTTPError\u001B[0m: 504 Server Error: Gateway Timeout for url: https://epqs.nationalmap.gov/v1/json?output=json&x=-119.67368444368162&y=37.76373044188202&units=Meters"
     ]
    }
   ],
   "source": [
    "grid,xy_grid=get_elevation_grid(hiker,grid_range=10000,grid_resolution=10,recache=True)\n",
    "show_map(hiker,trail=None, grid=grid, plot_origin=True)"
   ]
  },
  {
   "cell_type": "code",
   "execution_count": null,
   "outputs": [],
   "source": [
    "grid.longitude.nunique()"
   ],
   "metadata": {
    "collapsed": false
   }
  },
  {
   "cell_type": "code",
   "execution_count": null,
   "metadata": {},
   "outputs": [],
   "source": [
    "def random_walk_with_elevation2(hiker, N=1, end_point_only=True, xy_grid=None,verbose=False):\n",
    "    '''\n",
    "        Assumptions:\n",
    "        1. Velocity is a function of elevation\n",
    "        2. Hiker cannot go beyond a positive elevation limit (will try another direction before yielding an iteration)\n",
    "        3. If Hiker goes beyond a negative elevation limit it will stay there (terminal point, simulating a fall)\n",
    "    '''\n",
    "    distance5min = hiker.max_speed * 60 * 5  # Speed in m/5 minutes\n",
    "    trails = []\n",
    "    max_grad = 10 * 2 * np.pi / 180  # Assuming max 45 deg climbing gradient\n",
    "    fall_grad = -30 * 2 * np.pi / 180  # Assuming max 45 deg climbing gradient\n",
    "    maxg = 0\n",
    "    for n in range(N):\n",
    "        trail = [hiker.loc]\n",
    "        terminate = False\n",
    "        t = 0\n",
    "        while t < (12 * hiker.hours_missing):\n",
    "            trail.append(new_loc)\n",
    "            t += 1\n",
    "            if terminate:\n",
    "                break\n",
    "        if end_point_only:\n",
    "            trails.append(trail[-1])\n",
    "        else:\n",
    "            trails.append(trail)\n",
    "    return trails"
   ]
  },
  {
   "cell_type": "code",
   "execution_count": null,
   "metadata": {},
   "outputs": [],
   "source": [
    "#xy_grid\n",
    "long_map=grid[['longitude','east_offset']].drop_duplicates()\n",
    "lat_map=grid[['latitude','south_offset']].drop_duplicates()\n",
    "#print(grid.south_offset.nunique())\n",
    "#print(grid.east_offset.nunique())\n",
    "print(grid.e())\n",
    "#print(grid.longitude.nunique())"
   ]
  },
  {
   "cell_type": "code",
   "execution_count": null,
   "metadata": {},
   "outputs": [],
   "source": [
    "trails=random_walk_with_elevation(hiker,N=1000,end_point_only=True,xy_grid=xy_grid,grid=grid)\n",
    "data=pd.DataFrame(np.squeeze(np.array(trails)),columns=['latitude','longitude'])\n",
    "print(data)\n",
    "os.sys.exit()\n",
    "#show_map(hiker,add_missing_radius=True,zoom=12,sims=data,trail_points=False)"
   ]
  },
  {
   "cell_type": "code",
   "execution_count": null,
   "metadata": {},
   "outputs": [],
   "source": [
    "#df_elevation=get_elevation_grid(hiker.loc)\n",
    "#df_elevation=pd.read_csv('elevation.csv')\n",
    "#df_elevation=df_elevation.dropna(subset='elev_meters')\n",
    "#df_elevation['point'] = [(x, y) for x,y in zip(df_elevation['latitude'],df_elevation['longitude'])]\n",
    "center = grid.loc[np.argmin((hiker.loc[0]-grid['latitude'])**2 + (hiker.loc[1]-grid['longitude'])**2)]\n",
    "center_elev=xy_grid.loc[center.south_offset,center.east_offset]\n",
    "#Check if elevation is within hiker limits, if so, continue path\n",
    "\n",
    "center = grid.loc[np.argmin((hiker.loc[0]-grid['latitude'])**2 + (hiker.loc[1]-grid['longitude'])**2)]\n",
    "center_elev=xy_grid.loc[center.south_offset,center.east_offset]\n",
    "#Check if elevation is within hiker limits, if so, continue path"
   ]
  },
  {
   "cell_type": "code",
   "execution_count": null,
   "metadata": {},
   "outputs": [],
   "source": [
    "trails=radom_walk_simple(hiker,N=1000,end_point_only=True)\n",
    "sims=pd.DataFrame(np.squeeze(np.array(trails)),columns=['latitude','longitude'])\n",
    "show_map(hiker,add_missing_radius=True,zoom=15,sims=data,trail_points=True)"
   ]
  },
  {
   "cell_type": "code",
   "execution_count": null,
   "metadata": {},
   "outputs": [],
   "source": [
    "show_map(hiker,add_missing_radius=True,zoom=15,sims=data,trail_points=True)"
   ]
  },
  {
   "cell_type": "code",
   "execution_count": null,
   "outputs": [],
   "source": [
    "#'latitude', 'longitude'\n"
   ],
   "metadata": {
    "collapsed": false
   }
  },
  {
   "cell_type": "markdown",
   "metadata": {},
   "source": [
    "## Define Rescue Efforts"
   ]
  },
  {
   "cell_type": "markdown",
   "metadata": {},
   "source": [
    "### Create Rescue Grid & Probability Prior from simulations"
   ]
  },
  {
   "cell_type": "code",
   "execution_count": null,
   "metadata": {},
   "outputs": [],
   "source": [
    "rescue_grid=get_rescue_grid(hiker,grid_range=3500,grid_resolution=100,simulation_data=data)"
   ]
  },
  {
   "cell_type": "code",
   "execution_count": null,
   "metadata": {},
   "outputs": [],
   "source": [
    "show_map(hiker,probs=rescue_grid)#,sims=data,trail_points=True,trail_heat=False)"
   ]
  },
  {
   "cell_type": "markdown",
   "metadata": {},
   "source": [
    "### Create a rescue plan, evaluate probability of sucess, and update probability posterior"
   ]
  },
  {
   "cell_type": "code",
   "execution_count": null,
   "metadata": {},
   "outputs": [],
   "source": [
    "# Define rescure properties\n",
    "@dataclass\n",
    "class Rescuer:\n",
    "    max_grid_points: int  #Number of grid points the rescuer can traverse\n",
    "    prob_find: float #Probability of find hiker if the hiker is in the same grid point as the rescuer\n",
    "    \n",
    "rescuer=Rescuer(max_grid_points=15,prob_find=0.999)\n",
    "rescue_plan,p=greedy_search(rescuer,rescue_grid,sims=data)\n",
    "print(\"Probabiliy of rescue=%0.3f\"%p)\n",
    "show_map(hiker,trail=rescue_plan,probs=rescue_grid,trail_enumerate=True,plot_origin=False,zoom=15)\n"
   ]
  },
  {
   "cell_type": "code",
   "execution_count": null,
   "metadata": {},
   "outputs": [],
   "source": [
    "rescue_grid_post=get_post_rescue_grid(rescue_grid, rescue_plan)\n",
    "show_map(hiker,probs=rescue_grid_post,probs_point=False)"
   ]
  },
  {
   "cell_type": "code",
   "execution_count": null,
   "metadata": {},
   "outputs": [],
   "source": [
    "attempts=2000\n",
    "rescue_grid_post=rescue_grid.copy()\n",
    "start_at=rescue_grid.iloc[rescue_grid['prob'].idxmax()].copy().to_frame().T.reset_index(drop=True)\n",
    "for i in range(attempts):\n",
    "    rescue_plan,p=greedy_search(rescuer,rescue_grid_post,sims=data,start_at=start_at)\n",
    "    if not i%500:\n",
    "        print(\"%s: Probabiliy of rescue=%0.3f\"%(i,p))\n",
    "    rescue_grid_post=get_post_rescue_grid(rescue_grid_post, rescue_plan)\n",
    "\n",
    "show_map(hiker,probs=rescue_grid_post,probs_point=False,zoom=15,trail=rescue_plan,\n",
    "         trail_enumerate=False,plot_origin=False)\n"
   ]
  },
  {
   "cell_type": "code",
   "execution_count": null,
   "metadata": {},
   "outputs": [],
   "source": [
    "show_map(hiker,probs=rescue_grid,probs_point=False)"
   ]
  },
  {
   "cell_type": "markdown",
   "metadata": {},
   "source": [
    "# Conclusion"
   ]
  },
  {
   "cell_type": "markdown",
   "metadata": {},
   "source": [
    "In summary we have looked into Python function closure's and how to use them to avoid nested loop. We used a function closure to store information about the list size of each for loop, allowing us to create a 1D linear indexing that can be iterated with a single for loop instead. This function closure can  then be used to perform parameter optimization either through systematic grid search or random search iterations.\n",
    "\n",
    "This approach allows for more readable and extensible code when compared with nested for loops.\n",
    "\n",
    "\n"
   ]
  },
  {
   "cell_type": "code",
   "execution_count": null,
   "metadata": {},
   "outputs": [],
   "source": []
  }
 ],
 "metadata": {
  "kernelspec": {
   "display_name": "Python 3 (ipykernel)",
   "language": "python",
   "name": "python3"
  },
  "language_info": {
   "codemirror_mode": {
    "name": "ipython",
    "version": 3
   },
   "file_extension": ".py",
   "mimetype": "text/x-python",
   "name": "python",
   "nbconvert_exporter": "python",
   "pygments_lexer": "ipython3",
   "version": "3.8.10"
  }
 },
 "nbformat": 4,
 "nbformat_minor": 1
}
